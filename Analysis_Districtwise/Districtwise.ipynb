{
 "cells": [
  {
   "cell_type": "code",
   "execution_count": 1,
   "metadata": {},
   "outputs": [],
   "source": [
    "import pandas as pd\n",
    "import numpy as np\n",
    "import matplotlib.pyplot as plt"
   ]
  },
  {
   "cell_type": "code",
   "execution_count": 2,
   "metadata": {},
   "outputs": [],
   "source": [
    "dist = ['TVM','EKM','MPM','KGD','KTM','KLM','TSR','ALP','KKD','KNR','PTA','PKD','WYD','IDK']\n"
   ]
  },
  {
   "cell_type": "code",
   "execution_count": 3,
   "metadata": {},
   "outputs": [
    {
     "name": "stdout",
     "output_type": "stream",
     "text": [
      "enter date dd-mm-yy : 07-09-2020\n"
     ]
    }
   ],
   "source": [
    "date = (input('enter date dd-mm-yy : '))"
   ]
  },
  {
   "cell_type": "code",
   "execution_count": 6,
   "metadata": {},
   "outputs": [
    {
     "name": "stdout",
     "output_type": "stream",
     "text": [
      "enter confirmed on  TVM : 18168\n",
      "enter confirmed on  EKM : 7491\n",
      "enter confirmed on  MPM : 10768\n",
      "enter confirmed on  KGD : 6240\n",
      "enter confirmed on  KTM : 5030\n",
      "enter confirmed on  KLM : 5331\n",
      "enter confirmed on  TSR : 5483\n",
      "enter confirmed on  ALP : 6584\n",
      "enter confirmed on  KKD : 6845\n",
      "enter confirmed on  KNR : 4686\n",
      "enter confirmed on  PTA : 4018\n",
      "enter confirmed on  PKD : 5231\n",
      "enter confirmed on  WYD : 1709\n",
      "enter confirmed on  IDK : 1905\n",
      "enter recoverd on  TVM : 13521\n",
      "enter recoverd on  EKM : 5158\n",
      "enter recoverd on  MPM : 8793\n",
      "enter recoverd on  KGD : 4274\n",
      "enter recoverd on  KTM : 3332\n",
      "enter recoverd on  KLM : 3644\n",
      "enter recoverd on  TSR : 5052\n",
      "enter recoverd on  ALP : 5321\n",
      "enter recoverd on  KKD : 3365\n",
      "enter recoverd on  KNR : 3061\n",
      "enter recoverd on  PTA : 4499\n",
      "enter recoverd on  PKD : 1427\n",
      "enter recoverd on  WYD : 1628\n",
      "enter recoverd on  IDK : 1628\n",
      "enter death on  TVM : 119\n",
      "enter death on  EKM : 39\n",
      "enter death on  MPM : 26\n",
      "enter death on  KGD : 31\n",
      "enter death on  KTM : 3\n",
      "enter death on  KLM : 26\n",
      "enter death on  TSR : 17\n",
      "enter death on  ALP : 16\n",
      "enter death on  KKD : 36\n",
      "enter death on  KNR : 31\n",
      "enter death on  PTA : 3\n",
      "enter death on  PKD : 4\n",
      "enter death on  WYD : 5\n",
      "enter death on  IDK : 3\n",
      "enter active on  TVM  : 4501\n",
      "enter active on  EKM  : 2286\n",
      "enter active on  MPM  : 1943\n",
      "enter active on  KGD  : 1932\n",
      "enter active on  KTM  : 1965\n",
      "enter active on  KLM  : 1658\n",
      "enter active on  TSR  : 1542\n",
      "enter active on  ALP  : 1513\n",
      "enter active on  KKD  : 1483\n",
      "enter active on  KNR  : 1288\n",
      "enter active on  PTA  : 952\n",
      "enter active on  PKD  : 726\n",
      "enter active on  WYD  : 277\n",
      "enter active on  IDK  : 273\n"
     ]
    }
   ],
   "source": [
    "confirmed = []\n",
    "recvrd = []\n",
    "death = []\n",
    "active = [] \n",
    "for i in range(14):\n",
    "    c = int(input('enter confirmed on  {0} : '.format(dist[i])))\n",
    "    c = confirmed.append(c)              \n",
    "for i in range(14):\n",
    "    r= int(input('enter recoverd on  {0} : '.format(dist[i])))\n",
    "    recvrd.append(r)\n",
    "for i in range(14):\n",
    "    d = int(input('enter death on  {0} : '.format(dist[i])))\n",
    "    death.append(d)\n",
    "for i in range(14):\n",
    "    a = int(input('enter active on  {0}  : '.format(dist[i])))\n",
    "    active.append(a)\n",
    "    "
   ]
  },
  {
   "cell_type": "code",
   "execution_count": 22,
   "metadata": {},
   "outputs": [
    {
     "data": {
      "text/plain": [
       "[13521,\n",
       " 5158,\n",
       " 8793,\n",
       " 4274,\n",
       " 3332,\n",
       " 3644,\n",
       " 3922,\n",
       " 5052,\n",
       " 5321,\n",
       " 3365,\n",
       " 3061,\n",
       " 4499,\n",
       " 1427,\n",
       " 1628]"
      ]
     },
     "execution_count": 22,
     "metadata": {},
     "output_type": "execute_result"
    }
   ],
   "source": [
    "recvrd"
   ]
  },
  {
   "cell_type": "code",
   "execution_count": 23,
   "metadata": {},
   "outputs": [],
   "source": [
    "# arrays = [dist, confirmed,recvrd,death,active]\n",
    "# sample = pd.MultiIndex.from_arrays(arrays, names=('District','Confirmed','Recoverd','Death','Active'))\n",
    "sample_df = pd.DataFrame(columns=['District','Confirmed','Recoverd','Death','Active'])"
   ]
  },
  {
   "cell_type": "code",
   "execution_count": 24,
   "metadata": {},
   "outputs": [],
   "source": [
    "sample_df['District'] = dist\n",
    "sample_df['Confirmed'] = confirmed\n",
    "sample_df['Recoverd'] = recvrd\n",
    "sample_df['Death'] = death\n",
    "sample_df['Active'] = active"
   ]
  },
  {
   "cell_type": "code",
   "execution_count": 25,
   "metadata": {},
   "outputs": [
    {
     "data": {
      "text/html": [
       "<div>\n",
       "<style scoped>\n",
       "    .dataframe tbody tr th:only-of-type {\n",
       "        vertical-align: middle;\n",
       "    }\n",
       "\n",
       "    .dataframe tbody tr th {\n",
       "        vertical-align: top;\n",
       "    }\n",
       "\n",
       "    .dataframe thead th {\n",
       "        text-align: right;\n",
       "    }\n",
       "</style>\n",
       "<table border=\"1\" class=\"dataframe\">\n",
       "  <thead>\n",
       "    <tr style=\"text-align: right;\">\n",
       "      <th></th>\n",
       "      <th>District</th>\n",
       "      <th>Confirmed</th>\n",
       "      <th>Recoverd</th>\n",
       "      <th>Death</th>\n",
       "      <th>Active</th>\n",
       "    </tr>\n",
       "  </thead>\n",
       "  <tbody>\n",
       "    <tr>\n",
       "      <th>0</th>\n",
       "      <td>TVM</td>\n",
       "      <td>18168</td>\n",
       "      <td>13521</td>\n",
       "      <td>119</td>\n",
       "      <td>4501</td>\n",
       "    </tr>\n",
       "    <tr>\n",
       "      <th>1</th>\n",
       "      <td>EKM</td>\n",
       "      <td>7491</td>\n",
       "      <td>5158</td>\n",
       "      <td>39</td>\n",
       "      <td>2286</td>\n",
       "    </tr>\n",
       "    <tr>\n",
       "      <th>2</th>\n",
       "      <td>MPM</td>\n",
       "      <td>10768</td>\n",
       "      <td>8793</td>\n",
       "      <td>26</td>\n",
       "      <td>1943</td>\n",
       "    </tr>\n",
       "    <tr>\n",
       "      <th>3</th>\n",
       "      <td>KGD</td>\n",
       "      <td>6240</td>\n",
       "      <td>4274</td>\n",
       "      <td>31</td>\n",
       "      <td>1932</td>\n",
       "    </tr>\n",
       "    <tr>\n",
       "      <th>4</th>\n",
       "      <td>KTM</td>\n",
       "      <td>5030</td>\n",
       "      <td>3332</td>\n",
       "      <td>3</td>\n",
       "      <td>1695</td>\n",
       "    </tr>\n",
       "    <tr>\n",
       "      <th>5</th>\n",
       "      <td>KLM</td>\n",
       "      <td>5331</td>\n",
       "      <td>3644</td>\n",
       "      <td>26</td>\n",
       "      <td>1658</td>\n",
       "    </tr>\n",
       "    <tr>\n",
       "      <th>6</th>\n",
       "      <td>TSR</td>\n",
       "      <td>5483</td>\n",
       "      <td>3922</td>\n",
       "      <td>17</td>\n",
       "      <td>1542</td>\n",
       "    </tr>\n",
       "    <tr>\n",
       "      <th>7</th>\n",
       "      <td>ALP</td>\n",
       "      <td>6584</td>\n",
       "      <td>5052</td>\n",
       "      <td>16</td>\n",
       "      <td>1513</td>\n",
       "    </tr>\n",
       "    <tr>\n",
       "      <th>8</th>\n",
       "      <td>KKD</td>\n",
       "      <td>6845</td>\n",
       "      <td>5321</td>\n",
       "      <td>36</td>\n",
       "      <td>1483</td>\n",
       "    </tr>\n",
       "    <tr>\n",
       "      <th>9</th>\n",
       "      <td>KNR</td>\n",
       "      <td>4686</td>\n",
       "      <td>3365</td>\n",
       "      <td>31</td>\n",
       "      <td>1288</td>\n",
       "    </tr>\n",
       "    <tr>\n",
       "      <th>10</th>\n",
       "      <td>PTA</td>\n",
       "      <td>4018</td>\n",
       "      <td>3061</td>\n",
       "      <td>3</td>\n",
       "      <td>952</td>\n",
       "    </tr>\n",
       "    <tr>\n",
       "      <th>11</th>\n",
       "      <td>PKD</td>\n",
       "      <td>5231</td>\n",
       "      <td>4499</td>\n",
       "      <td>4</td>\n",
       "      <td>726</td>\n",
       "    </tr>\n",
       "    <tr>\n",
       "      <th>12</th>\n",
       "      <td>WYD</td>\n",
       "      <td>1709</td>\n",
       "      <td>1427</td>\n",
       "      <td>5</td>\n",
       "      <td>277</td>\n",
       "    </tr>\n",
       "    <tr>\n",
       "      <th>13</th>\n",
       "      <td>IDK</td>\n",
       "      <td>1905</td>\n",
       "      <td>1628</td>\n",
       "      <td>3</td>\n",
       "      <td>273</td>\n",
       "    </tr>\n",
       "  </tbody>\n",
       "</table>\n",
       "</div>"
      ],
      "text/plain": [
       "   District  Confirmed  Recoverd  Death  Active\n",
       "0       TVM      18168     13521    119    4501\n",
       "1       EKM       7491      5158     39    2286\n",
       "2       MPM      10768      8793     26    1943\n",
       "3       KGD       6240      4274     31    1932\n",
       "4       KTM       5030      3332      3    1695\n",
       "5       KLM       5331      3644     26    1658\n",
       "6       TSR       5483      3922     17    1542\n",
       "7       ALP       6584      5052     16    1513\n",
       "8       KKD       6845      5321     36    1483\n",
       "9       KNR       4686      3365     31    1288\n",
       "10      PTA       4018      3061      3     952\n",
       "11      PKD       5231      4499      4     726\n",
       "12      WYD       1709      1427      5     277\n",
       "13      IDK       1905      1628      3     273"
      ]
     },
     "execution_count": 25,
     "metadata": {},
     "output_type": "execute_result"
    }
   ],
   "source": [
    "sample_df"
   ]
  },
  {
   "cell_type": "code",
   "execution_count": 26,
   "metadata": {},
   "outputs": [],
   "source": [
    "file_path = 'data/covid_case_study/' + date\n",
    "sample_df.to_csv(file_path)"
   ]
  },
  {
   "cell_type": "code",
   "execution_count": 27,
   "metadata": {},
   "outputs": [
    {
     "data": {
      "image/png": "[encoded data removed]",
      "text/plain": [
       "<Figure size 1080x576 with 1 Axes>"
      ]
     },
     "metadata": {
      "needs_background": "light"
     },
     "output_type": "display_data"
    }
   ],
   "source": [
    "fig,ax= plt.subplots(figsize=(15,8))\n",
    "#plt.grid(True)\n",
    "bars = ax.bar(sample_df['District'],sample_df['Active'],color='darkred')\n",
    "\n",
    "plt.xticks(rotation = 90)\n",
    "plt.title('Disrictwise active cases  {0}\\n'.format(date),fontsize=20,weight='bold')\n",
    "plt.ylabel('No.of people \\n',fontsize='x-large',weight='bold')\n",
    "plt.xlabel('\\n',fontsize='x-large',weight='bold')\n",
    "for bar in bars:\n",
    "    ax.text(\n",
    "        bar.get_x()+bar.get_width() /2,\n",
    "        bar.get_height(),\n",
    "        round(bar.get_height()),\n",
    "        horizontalalignment='center',\n",
    "        weight = 'bold',\n",
    "        fontsize=12\n",
    "    )\n",
    "\n",
    "    \n",
    "fig.savefig('reports/covid_case_study/active_cases.jpg')    \n"
   ]
  },
  {
   "cell_type": "code",
   "execution_count": 28,
   "metadata": {},
   "outputs": [
    {
     "data": {
      "image/png": "[encoded data removed]",
      "text/plain": [
       "<Figure size 1080x576 with 1 Axes>"
      ]
     },
     "metadata": {
      "needs_background": "light"
     },
     "output_type": "display_data"
    }
   ],
   "source": [
    "fig,ax= plt.subplots(figsize=(15,8))\n",
    "#plt.grid(True)\n",
    "bars = ax.bar(sample_df['District'],sample_df['Death'],color='black')\n",
    "\n",
    "plt.xticks(rotation = 90)\n",
    "plt.title('Disrictwise death report {0}\\n'.format(date),fontsize=20,weight='bold')\n",
    "plt.ylabel('No.of people \\n',fontsize='x-large',weight='bold')\n",
    "plt.xlabel('\\n',fontsize='x-large',weight='bold')\n",
    "for bar in bars:\n",
    "    ax.text(\n",
    "        bar.get_x()+bar.get_width() /2,\n",
    "        bar.get_height(),\n",
    "        round(bar.get_height()),\n",
    "        horizontalalignment='center',\n",
    "        weight = 'bold',\n",
    "        fontsize=12\n",
    "    )\n",
    "\n",
    "    \n",
    "fig.savefig('reports/covid_case_study/deathrate.jpg')    \n"
   ]
  },
  {
   "cell_type": "code",
   "execution_count": null,
   "metadata": {},
   "outputs": [],
   "source": []
  }
 ],
 "metadata": {
  "kernelspec": {
   "display_name": "Python 3",
   "language": "python",
   "name": "python3"
  },
  "language_info": {
   "codemirror_mode": {
    "name": "ipython",
    "version": 3
   },
   "file_extension": ".py",
   "mimetype": "text/x-python",
   "name": "python",
   "nbconvert_exporter": "python",
   "pygments_lexer": "ipython3",
   "version": "3.7.6"
  }
 },
 "nbformat": 4,
 "nbformat_minor": 4
}
