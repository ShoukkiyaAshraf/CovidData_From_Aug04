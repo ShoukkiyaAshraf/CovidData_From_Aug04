{
 "cells": [
  {
   "cell_type": "code",
   "execution_count": 38,
   "metadata": {},
   "outputs": [],
   "source": [
    "import pandas as pd"
   ]
  },
  {
   "cell_type": "code",
   "execution_count": 39,
   "metadata": {},
   "outputs": [],
   "source": [
    "date = ['05-09-2020','06-09-2020','07-09-2020','08-09-2020','10-09-2020','12-09-2020','13-09-2020','14-09-2020','15-09-2020','16-09-2020','17-09-2020']"
   ]
  },
  {
   "cell_type": "code",
   "execution_count": 41,
   "metadata": {},
   "outputs": [],
   "source": [
    "active = {}\n",
    "path = 'data/covid_case_study/'\n",
    "for i in range(len(date)):\n",
    "    df = pd.read_csv(path+date[i]+'.csv')\n",
    "    active[date[i]]= [df[['District']],df[['Active']]]"
   ]
  },
  {
   "cell_type": "code",
   "execution_count": 48,
   "metadata": {},
   "outputs": [
    {
     "data": {
      "text/plain": [
       "[   District\n",
       " 0       TVM\n",
       " 1       EKM\n",
       " 2       MPM\n",
       " 3       KGD\n",
       " 4       KKD\n",
       " 5       KLM\n",
       " 6       KTM\n",
       " 7       TSR\n",
       " 8       ALP\n",
       " 9       PTA\n",
       " 10      KNR\n",
       " 11      PKD\n",
       " 12      WYD\n",
       " 13      IDK,\n",
       "     Active\n",
       " 0     4963\n",
       " 1     2245\n",
       " 2     1836\n",
       " 3     1786\n",
       " 4     1664\n",
       " 5     1595\n",
       " 6     1591\n",
       " 7     1546\n",
       " 8     1383\n",
       " 9     1026\n",
       " 10     968\n",
       " 11     636\n",
       " 12     283\n",
       " 13     281]"
      ]
     },
     "execution_count": 48,
     "metadata": {},
     "output_type": "execute_result"
    }
   ],
   "source": [
    "column = ['date','TVM','EKM','MPM','KGD','KKD','KLM','KTM','TSR','ALP','PTA','KNR','PKD','WYD','IDK']"
   ]
  },
  {
   "cell_type": "code",
   "execution_count": 19,
   "metadata": {},
   "outputs": [
    {
     "data": {
      "text/plain": [
       "{'key1': ['value1', 'v1', 'V1'], 'key2': ['value2', 'v2', 'V2']}"
      ]
     },
     "execution_count": 19,
     "metadata": {},
     "output_type": "execute_result"
    }
   ],
   "source": [
    "test"
   ]
  },
  {
   "cell_type": "code",
   "execution_count": null,
   "metadata": {},
   "outputs": [],
   "source": []
  }
 ],
 "metadata": {
  "kernelspec": {
   "display_name": "Python 3",
   "language": "python",
   "name": "python3"
  },
  "language_info": {
   "codemirror_mode": {
    "name": "ipython",
    "version": 3
   },
   "file_extension": ".py",
   "mimetype": "text/x-python",
   "name": "python",
   "nbconvert_exporter": "python",
   "pygments_lexer": "ipython3",
   "version": "3.7.6"
  }
 },
 "nbformat": 4,
 "nbformat_minor": 4
}
