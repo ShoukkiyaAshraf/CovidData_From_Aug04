{
 "cells": [
  {
   "cell_type": "code",
   "execution_count": 1,
   "metadata": {},
   "outputs": [],
   "source": [
    "import pandas as pd\n",
    "import numpy as np\n",
    "import matplotlib.pyplot as plt"
   ]
  },
  {
   "cell_type": "code",
   "execution_count": 31,
   "metadata": {},
   "outputs": [],
   "source": [
    "# dist = ['TVM','EKM','MPM','KGD','KKD','KLM','KTM','TSR','ALP','PTA','KNR','PKD','WYD','IDK']\n"
   ]
  },
  {
   "cell_type": "code",
   "execution_count": 134,
   "metadata": {},
   "outputs": [
    {
     "name": "stdout",
     "output_type": "stream",
     "text": [
      "enter date dd-mm-yy : 05-09-2020\n"
     ]
    }
   ],
   "source": [
    "date = (input('enter date dd-mm-yy : '))"
   ]
  },
  {
   "cell_type": "code",
   "execution_count": 26,
   "metadata": {},
   "outputs": [
    {
     "name": "stdout",
     "output_type": "stream",
     "text": [
      "enter 17387\n",
      "enter 7080\n",
      "enter 10257\n",
      "enter 5888\n",
      "enter 6478\n",
      "enter 4932\n",
      "enter 4681\n",
      "enter 5186\n",
      "enter 6285\n",
      "enter 3881\n",
      "enter 4226\n",
      "enter 4951\n",
      "enter 1665\n",
      "enter 1862\n"
     ]
    }
   ],
   "source": [
    "l = []\n",
    "for i in range(14):\n",
    "    c = int(input('enter '))\n",
    "    l.append(c)   "
   ]
  },
  {
   "cell_type": "code",
   "execution_count": 29,
   "metadata": {},
   "outputs": [
    {
     "data": {
      "text/plain": [
       "[17387,\n",
       " 7080,\n",
       " 10257,\n",
       " 5888,\n",
       " 6478,\n",
       " 4932,\n",
       " 4681,\n",
       " 5186,\n",
       " 6285,\n",
       " 3881,\n",
       " 4226,\n",
       " 4951,\n",
       " 1665,\n",
       " 1862]"
      ]
     },
     "execution_count": 29,
     "metadata": {},
     "output_type": "execute_result"
    }
   ],
   "source": [
    "confirmed = l\n",
    "p =[]\n",
    "for i in confirmed:\n",
    "    s = int(i)\n",
    "    p.append(s)\n",
    "confirmed = p\n",
    "confirmed"
   ]
  },
  {
   "cell_type": "code",
   "execution_count": 36,
   "metadata": {},
   "outputs": [
    {
     "name": "stdout",
     "output_type": "stream",
     "text": [
      "enter recoverd : 12289\n",
      "enter death : 108\n",
      "enter active   : 4963\n",
      "enter recoverd : 4789\n",
      "enter death : 38\n",
      "enter active   : 2245\n",
      "enter recoverd : 8389\n",
      "enter death : 26\n",
      "enter active   : 1836\n",
      "enter recoverd : 4069\n",
      "enter death : 30\n",
      "enter active   : 1786\n",
      "enter recoverd : 4778\n",
      "enter death : 31\n",
      "enter active   : 1664\n",
      "enter recoverd : 3309\n",
      "enter death : 25\n",
      "enter active   : 1595\n",
      "enter recoverd : 3087\n",
      "enter death : 3\n",
      "enter active   : 1591\n",
      "enter recoverd : 3622\n",
      "enter death : 16\n",
      "enter active   : 1546\n",
      "enter recoverd : 4884\n",
      "enter death : 15\n",
      "enter active   : 1383\n",
      "enter recoverd : 2850\n",
      "enter death : 3\n",
      "enter active   : 1026\n",
      "enter recoverd : 3226\n",
      "enter death : 3\n",
      "enter active   : 968\n",
      "enter recoverd : 4309\n",
      "enter death : 4\n",
      "enter active   : 636\n",
      "enter recoverd : 137\n",
      "enter death : 5\n",
      "enter active   : 283\n",
      "enter recoverd : 1577\n",
      "enter death : 3\n",
      "enter active   : 281\n"
     ]
    }
   ],
   "source": [
    "recvrd = []\n",
    "death = []\n",
    "active = [] \n",
    "for i in range(14):\n",
    "    r,d,a = int(input('enter recoverd : ')),int(input('enter death : ')),int(input('enter active   : '))\n",
    "    recvrd.append(r)\n",
    "    death.append(d)\n",
    "    active.append(a)\n",
    "    "
   ]
  },
  {
   "cell_type": "code",
   "execution_count": 48,
   "metadata": {},
   "outputs": [
    {
     "data": {
      "text/plain": [
       "[4963,\n",
       " 2245,\n",
       " 1836,\n",
       " 1786,\n",
       " 1664,\n",
       " 1595,\n",
       " 1591,\n",
       " 1546,\n",
       " 1383,\n",
       " 1026,\n",
       " 968,\n",
       " 636,\n",
       " 283,\n",
       " 281]"
      ]
     },
     "execution_count": 48,
     "metadata": {},
     "output_type": "execute_result"
    }
   ],
   "source": [
    "active"
   ]
  },
  {
   "cell_type": "code",
   "execution_count": 66,
   "metadata": {},
   "outputs": [],
   "source": [
    "# arrays = [dist, confirmed,recvrd,death,active]\n",
    "# sample = pd.MultiIndex.from_arrays(arrays, names=('District','Confirmed','Recoverd','Death','Active'))\n",
    "sample_df = pd.DataFrame(columns=['District','Confirmed','Recoverd','Death','Active'])"
   ]
  },
  {
   "cell_type": "code",
   "execution_count": 75,
   "metadata": {},
   "outputs": [],
   "source": [
    "sample_df['District'] = dist\n",
    "sample_df['Confirmed'] = confirmed\n",
    "sample_df['Recoverd'] = recvrd\n",
    "sample_df['Death'] = death\n",
    "sample_df['Active'] = active"
   ]
  },
  {
   "cell_type": "code",
   "execution_count": 76,
   "metadata": {},
   "outputs": [
    {
     "data": {
      "text/html": [
       "<div>\n",
       "<style scoped>\n",
       "    .dataframe tbody tr th:only-of-type {\n",
       "        vertical-align: middle;\n",
       "    }\n",
       "\n",
       "    .dataframe tbody tr th {\n",
       "        vertical-align: top;\n",
       "    }\n",
       "\n",
       "    .dataframe thead th {\n",
       "        text-align: right;\n",
       "    }\n",
       "</style>\n",
       "<table border=\"1\" class=\"dataframe\">\n",
       "  <thead>\n",
       "    <tr style=\"text-align: right;\">\n",
       "      <th></th>\n",
       "      <th>District</th>\n",
       "      <th>Confirmed</th>\n",
       "      <th>Recoverd</th>\n",
       "      <th>Death</th>\n",
       "      <th>Active</th>\n",
       "    </tr>\n",
       "  </thead>\n",
       "  <tbody>\n",
       "    <tr>\n",
       "      <th>0</th>\n",
       "      <td>TVM</td>\n",
       "      <td>17387</td>\n",
       "      <td>12289</td>\n",
       "      <td>108</td>\n",
       "      <td>4963</td>\n",
       "    </tr>\n",
       "    <tr>\n",
       "      <th>1</th>\n",
       "      <td>EKM</td>\n",
       "      <td>7080</td>\n",
       "      <td>4789</td>\n",
       "      <td>38</td>\n",
       "      <td>2245</td>\n",
       "    </tr>\n",
       "    <tr>\n",
       "      <th>2</th>\n",
       "      <td>MPM</td>\n",
       "      <td>10257</td>\n",
       "      <td>8389</td>\n",
       "      <td>26</td>\n",
       "      <td>1836</td>\n",
       "    </tr>\n",
       "    <tr>\n",
       "      <th>3</th>\n",
       "      <td>KGD</td>\n",
       "      <td>5888</td>\n",
       "      <td>4069</td>\n",
       "      <td>30</td>\n",
       "      <td>1786</td>\n",
       "    </tr>\n",
       "    <tr>\n",
       "      <th>4</th>\n",
       "      <td>KKD</td>\n",
       "      <td>6478</td>\n",
       "      <td>4778</td>\n",
       "      <td>31</td>\n",
       "      <td>1664</td>\n",
       "    </tr>\n",
       "    <tr>\n",
       "      <th>5</th>\n",
       "      <td>KLM</td>\n",
       "      <td>4932</td>\n",
       "      <td>3309</td>\n",
       "      <td>25</td>\n",
       "      <td>1595</td>\n",
       "    </tr>\n",
       "    <tr>\n",
       "      <th>6</th>\n",
       "      <td>KTM</td>\n",
       "      <td>4681</td>\n",
       "      <td>3087</td>\n",
       "      <td>3</td>\n",
       "      <td>1591</td>\n",
       "    </tr>\n",
       "    <tr>\n",
       "      <th>7</th>\n",
       "      <td>TSR</td>\n",
       "      <td>5186</td>\n",
       "      <td>3622</td>\n",
       "      <td>16</td>\n",
       "      <td>1546</td>\n",
       "    </tr>\n",
       "    <tr>\n",
       "      <th>8</th>\n",
       "      <td>ALP</td>\n",
       "      <td>6285</td>\n",
       "      <td>4884</td>\n",
       "      <td>15</td>\n",
       "      <td>1383</td>\n",
       "    </tr>\n",
       "    <tr>\n",
       "      <th>9</th>\n",
       "      <td>PTA</td>\n",
       "      <td>3881</td>\n",
       "      <td>2850</td>\n",
       "      <td>3</td>\n",
       "      <td>1026</td>\n",
       "    </tr>\n",
       "    <tr>\n",
       "      <th>10</th>\n",
       "      <td>KNR</td>\n",
       "      <td>4226</td>\n",
       "      <td>3226</td>\n",
       "      <td>30</td>\n",
       "      <td>968</td>\n",
       "    </tr>\n",
       "    <tr>\n",
       "      <th>11</th>\n",
       "      <td>PKD</td>\n",
       "      <td>4951</td>\n",
       "      <td>4309</td>\n",
       "      <td>4</td>\n",
       "      <td>636</td>\n",
       "    </tr>\n",
       "    <tr>\n",
       "      <th>12</th>\n",
       "      <td>WYD</td>\n",
       "      <td>1665</td>\n",
       "      <td>1377</td>\n",
       "      <td>5</td>\n",
       "      <td>283</td>\n",
       "    </tr>\n",
       "    <tr>\n",
       "      <th>13</th>\n",
       "      <td>IDK</td>\n",
       "      <td>1862</td>\n",
       "      <td>1577</td>\n",
       "      <td>3</td>\n",
       "      <td>281</td>\n",
       "    </tr>\n",
       "  </tbody>\n",
       "</table>\n",
       "</div>"
      ],
      "text/plain": [
       "   District  Confirmed  Recoverd  Death  Active\n",
       "0       TVM      17387     12289    108    4963\n",
       "1       EKM       7080      4789     38    2245\n",
       "2       MPM      10257      8389     26    1836\n",
       "3       KGD       5888      4069     30    1786\n",
       "4       KKD       6478      4778     31    1664\n",
       "5       KLM       4932      3309     25    1595\n",
       "6       KTM       4681      3087      3    1591\n",
       "7       TSR       5186      3622     16    1546\n",
       "8       ALP       6285      4884     15    1383\n",
       "9       PTA       3881      2850      3    1026\n",
       "10      KNR       4226      3226     30     968\n",
       "11      PKD       4951      4309      4     636\n",
       "12      WYD       1665      1377      5     283\n",
       "13      IDK       1862      1577      3     281"
      ]
     },
     "execution_count": 76,
     "metadata": {},
     "output_type": "execute_result"
    }
   ],
   "source": [
    "sample_df"
   ]
  },
  {
   "cell_type": "code",
   "execution_count": 138,
   "metadata": {},
   "outputs": [],
   "source": [
    "file_path = 'data/covid_case_study/' + date\n",
    "sample_df.to_csv(file_path)"
   ]
  },
  {
   "cell_type": "code",
   "execution_count": 139,
   "metadata": {},
   "outputs": [
    {
     "data": {
      "image/png": "[encoded data removed]",
      "text/plain": [
       "<Figure size 1080x576 with 1 Axes>"
      ]
     },
     "metadata": {
      "needs_background": "light"
     },
     "output_type": "display_data"
    }
   ],
   "source": [
    "fig,ax= plt.subplots(figsize=(15,8))\n",
    "#plt.grid(True)\n",
    "bars = ax.bar(sample_df['District'],sample_df['Active'],color='darkred')\n",
    "\n",
    "plt.xticks(rotation = 90)\n",
    "plt.title('Disrictwise active cases on {0}\\n'.format(date),fontsize=20,weight='bold')\n",
    "plt.ylabel('No.of people \\n',fontsize='x-large',weight='bold')\n",
    "plt.xlabel('\\n',fontsize='x-large',weight='bold')\n",
    "for bar in bars:\n",
    "    ax.text(\n",
    "        bar.get_x()+bar.get_width() /2,\n",
    "        bar.get_height(),\n",
    "        round(bar.get_height()),\n",
    "        horizontalalignment='center',\n",
    "        weight = 'bold',\n",
    "        fontsize=12\n",
    "    )\n",
    "\n",
    "    \n",
    "fig.savefig('reports/covid_case_study/active_cases.jpg')    \n"
   ]
  },
  {
   "cell_type": "code",
   "execution_count": 140,
   "metadata": {},
   "outputs": [
    {
     "data": {
      "image/png": "[encoded data removed]",
      "text/plain": [
       "<Figure size 1080x576 with 1 Axes>"
      ]
     },
     "metadata": {
      "needs_background": "light"
     },
     "output_type": "display_data"
    }
   ],
   "source": [
    "fig,ax= plt.subplots(figsize=(15,8))\n",
    "#plt.grid(True)\n",
    "bars = ax.bar(sample_df['District'],sample_df['Death'],color='black')\n",
    "\n",
    "plt.xticks(rotation = 90)\n",
    "plt.title('Disrictwise death report on {0}\\n'.format(date),fontsize=20,weight='bold')\n",
    "plt.ylabel('No.of people \\n',fontsize='x-large',weight='bold')\n",
    "plt.xlabel('\\n',fontsize='x-large',weight='bold')\n",
    "for bar in bars:\n",
    "    ax.text(\n",
    "        bar.get_x()+bar.get_width() /2,\n",
    "        bar.get_height(),\n",
    "        round(bar.get_height()),\n",
    "        horizontalalignment='center',\n",
    "        weight = 'bold',\n",
    "        fontsize=12\n",
    "    )\n",
    "\n",
    "    \n",
    "fig.savefig('reports/covid_case_study/deathrate.jpg')    \n"
   ]
  },
  {
   "cell_type": "code",
   "execution_count": null,
   "metadata": {},
   "outputs": [],
   "source": []
  }
 ],
 "metadata": {
  "kernelspec": {
   "display_name": "Python 3",
   "language": "python",
   "name": "python3"
  },
  "language_info": {
   "codemirror_mode": {
    "name": "ipython",
    "version": 3
   },
   "file_extension": ".py",
   "mimetype": "text/x-python",
   "name": "python",
   "nbconvert_exporter": "python",
   "pygments_lexer": "ipython3",
   "version": "3.7.6"
  }
 },
 "nbformat": 4,
 "nbformat_minor": 4
}
