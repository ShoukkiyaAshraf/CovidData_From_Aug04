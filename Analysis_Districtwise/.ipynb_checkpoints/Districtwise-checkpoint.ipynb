{
 "cells": [
  {
   "cell_type": "code",
   "execution_count": 141,
   "metadata": {},
   "outputs": [],
   "source": [
    "import pandas as pd\n",
    "import numpy as np\n",
    "import matplotlib.pyplot as plt"
   ]
  },
  {
   "cell_type": "code",
   "execution_count": 159,
   "metadata": {},
   "outputs": [],
   "source": [
    "dist = ['TVM','EKM','MPM','KGD','KLM','KKD','KTM','TSR','ALP','KNR','PTA','PKD','IDK','WYD']\n"
   ]
  },
  {
   "cell_type": "code",
   "execution_count": 142,
   "metadata": {},
   "outputs": [
    {
     "name": "stdout",
     "output_type": "stream",
     "text": [
      "enter date dd-mm-yy : 06-09-2020\n"
     ]
    }
   ],
   "source": [
    "date = (input('enter date dd-mm-yy : '))"
   ]
  },
  {
   "cell_type": "code",
   "execution_count": 26,
   "metadata": {},
   "outputs": [
    {
     "name": "stdout",
     "output_type": "stream",
     "text": [
      "enter 17387\n",
      "enter 7080\n",
      "enter 10257\n",
      "enter 5888\n",
      "enter 6478\n",
      "enter 4932\n",
      "enter 4681\n",
      "enter 5186\n",
      "enter 6285\n",
      "enter 3881\n",
      "enter 4226\n",
      "enter 4951\n",
      "enter 1665\n",
      "enter 1862\n"
     ]
    }
   ],
   "source": [
    "# l = []\n",
    "# for i in range(14):\n",
    "#     c = int(input('enter '))\n",
    "#     l.append(c)   "
   ]
  },
  {
   "cell_type": "code",
   "execution_count": 29,
   "metadata": {},
   "outputs": [
    {
     "data": {
      "text/plain": [
       "[17387,\n",
       " 7080,\n",
       " 10257,\n",
       " 5888,\n",
       " 6478,\n",
       " 4932,\n",
       " 4681,\n",
       " 5186,\n",
       " 6285,\n",
       " 3881,\n",
       " 4226,\n",
       " 4951,\n",
       " 1665,\n",
       " 1862]"
      ]
     },
     "execution_count": 29,
     "metadata": {},
     "output_type": "execute_result"
    }
   ],
   "source": [
    "# confirmed = l\n",
    "# p =[]\n",
    "# for i in confirmed:\n",
    "#     s = int(i)\n",
    "#     p.append(s)\n",
    "# confirmed = p\n",
    "# confirmed"
   ]
  },
  {
   "cell_type": "code",
   "execution_count": 158,
   "metadata": {},
   "outputs": [
    {
     "name": "stdout",
     "output_type": "stream",
     "text": [
      "enter confirmed on  TVM : 17915\n",
      "enter recoverd on  TVM : 12907\n",
      "enter death on  TVM : 112\n",
      "enter active on  TVM  : 4869\n",
      "enter confirmed on  EKM : 7361\n",
      "enter recoverd on  EKM : 4974\n",
      "enter death on  EKM : 38\n",
      "enter active on  EKM  : 2341\n",
      "enter confirmed on  MPM : 10581\n",
      "enter recoverd on  MPM : 8591\n",
      "enter death on  MPM : 26\n",
      "enter active on  MPM  : 1958\n",
      "enter confirmed on  KGD : 6106\n",
      "enter recoverd on  KGD : 4179\n",
      "enter death on  KGD : 31\n",
      "enter active on  KGD  : 1893\n",
      "enter confirmed on  KKD : 5260\n",
      "enter recoverd on  KKD : 3513\n",
      "enter death on  KKD : 26\n",
      "enter active on  KKD  : 1718\n",
      "enter confirmed on  KLM : 6742\n",
      "enter recoverd on  KLM : 5043\n",
      "enter death on  KLM : 33\n",
      "enter active on  KLM  : 1661\n",
      "enter confirmed on  KTM : 4876\n",
      "enter recoverd on  KTM : 3217\n",
      "enter death on  KTM : 16\n",
      "enter active on  KTM  : 1570\n",
      "enter confirmed on  TSR : 6506\n",
      "enter recoverd on  TSR : 4920\n",
      "enter death on  TSR : 16\n",
      "enter active on  TSR  : 1570\n",
      "enter confirmed on  ALP : 6506\n",
      "enter recoverd on  ALP : 4920\n",
      "enter death on  ALP : 16\n",
      "enter active on  ALP  : 1567\n",
      "enter confirmed on  PTA : 4426\n",
      "enter recoverd on  PTA : 3295\n",
      "enter death on  PTA : 31\n",
      "enter active on  PTA  : 1098\n",
      "enter confirmed on  KNR : 3994\n",
      "enter recoverd on  KNR : 2938\n",
      "enter death on  KNR : 3\n",
      "enter active on  KNR  : 1051\n",
      "enter confirmed on  PKD : 5113\n",
      "enter recoverd on  PKD : 4404\n",
      "enter death on  PKD : 4\n",
      "enter active on  PKD  : 703\n",
      "enter confirmed on  WYD : 1901\n",
      "enter recoverd on  WYD : 1596\n",
      "enter death on  WYD : 3\n",
      "enter active on  WYD  : 301\n",
      "enter confirmed on  IDK : 1705\n",
      "enter recoverd on  IDK : 1407\n",
      "enter death on  IDK : 5\n",
      "enter active on  IDK  : 293\n"
     ]
    }
   ],
   "source": [
    "confirmed = []\n",
    "recvrd = []\n",
    "death = []\n",
    "active = [] \n",
    "for i in range(14):\n",
    "    c,r,d,a = int(input('enter confirmed on  {0} : '.format(dist[i]))),int(input('enter recoverd on  {0} : '.format(dist[i]))),int(input('enter death on  {0} : '.format(dist[i]))),int(input('enter active on  {0}  : '.format(dist[i])))\n",
    "    confirmed.append(c)              \n",
    "    recvrd.append(r)\n",
    "    death.append(d)\n",
    "    active.append(a)\n",
    "    "
   ]
  },
  {
   "cell_type": "code",
   "execution_count": 149,
   "metadata": {},
   "outputs": [
    {
     "data": {
      "text/plain": [
       "[17915,\n",
       " 7361,\n",
       " 10581,\n",
       " 6106,\n",
       " 5260,\n",
       " 6742,\n",
       " 4876,\n",
       " 5355,\n",
       " 6506,\n",
       " 4426,\n",
       " 3994,\n",
       " 5113,\n",
       " 1901,\n",
       " 1705]"
      ]
     },
     "execution_count": 149,
     "metadata": {},
     "output_type": "execute_result"
    }
   ],
   "source": [
    "confirmed"
   ]
  },
  {
   "cell_type": "code",
   "execution_count": 160,
   "metadata": {},
   "outputs": [],
   "source": [
    "# arrays = [dist, confirmed,recvrd,death,active]\n",
    "# sample = pd.MultiIndex.from_arrays(arrays, names=('District','Confirmed','Recoverd','Death','Active'))\n",
    "sample_df = pd.DataFrame(columns=['District','Confirmed','Recoverd','Death','Active'])"
   ]
  },
  {
   "cell_type": "code",
   "execution_count": 161,
   "metadata": {},
   "outputs": [],
   "source": [
    "sample_df['District'] = dist\n",
    "sample_df['Confirmed'] = confirmed\n",
    "sample_df['Recoverd'] = recvrd\n",
    "sample_df['Death'] = death\n",
    "sample_df['Active'] = active"
   ]
  },
  {
   "cell_type": "code",
   "execution_count": 162,
   "metadata": {},
   "outputs": [
    {
     "data": {
      "text/html": [
       "<div>\n",
       "<style scoped>\n",
       "    .dataframe tbody tr th:only-of-type {\n",
       "        vertical-align: middle;\n",
       "    }\n",
       "\n",
       "    .dataframe tbody tr th {\n",
       "        vertical-align: top;\n",
       "    }\n",
       "\n",
       "    .dataframe thead th {\n",
       "        text-align: right;\n",
       "    }\n",
       "</style>\n",
       "<table border=\"1\" class=\"dataframe\">\n",
       "  <thead>\n",
       "    <tr style=\"text-align: right;\">\n",
       "      <th></th>\n",
       "      <th>District</th>\n",
       "      <th>Confirmed</th>\n",
       "      <th>Recoverd</th>\n",
       "      <th>Death</th>\n",
       "      <th>Active</th>\n",
       "    </tr>\n",
       "  </thead>\n",
       "  <tbody>\n",
       "    <tr>\n",
       "      <th>0</th>\n",
       "      <td>TVM</td>\n",
       "      <td>17915</td>\n",
       "      <td>12907</td>\n",
       "      <td>112</td>\n",
       "      <td>4869</td>\n",
       "    </tr>\n",
       "    <tr>\n",
       "      <th>1</th>\n",
       "      <td>EKM</td>\n",
       "      <td>7361</td>\n",
       "      <td>4974</td>\n",
       "      <td>38</td>\n",
       "      <td>2341</td>\n",
       "    </tr>\n",
       "    <tr>\n",
       "      <th>2</th>\n",
       "      <td>MPM</td>\n",
       "      <td>10581</td>\n",
       "      <td>8591</td>\n",
       "      <td>26</td>\n",
       "      <td>1958</td>\n",
       "    </tr>\n",
       "    <tr>\n",
       "      <th>3</th>\n",
       "      <td>KGD</td>\n",
       "      <td>6106</td>\n",
       "      <td>4179</td>\n",
       "      <td>31</td>\n",
       "      <td>1893</td>\n",
       "    </tr>\n",
       "    <tr>\n",
       "      <th>4</th>\n",
       "      <td>KLM</td>\n",
       "      <td>5260</td>\n",
       "      <td>3513</td>\n",
       "      <td>26</td>\n",
       "      <td>1718</td>\n",
       "    </tr>\n",
       "    <tr>\n",
       "      <th>5</th>\n",
       "      <td>KKD</td>\n",
       "      <td>6742</td>\n",
       "      <td>5043</td>\n",
       "      <td>33</td>\n",
       "      <td>1661</td>\n",
       "    </tr>\n",
       "    <tr>\n",
       "      <th>6</th>\n",
       "      <td>KTM</td>\n",
       "      <td>4876</td>\n",
       "      <td>3217</td>\n",
       "      <td>16</td>\n",
       "      <td>1570</td>\n",
       "    </tr>\n",
       "    <tr>\n",
       "      <th>7</th>\n",
       "      <td>TSR</td>\n",
       "      <td>6506</td>\n",
       "      <td>4920</td>\n",
       "      <td>16</td>\n",
       "      <td>1570</td>\n",
       "    </tr>\n",
       "    <tr>\n",
       "      <th>8</th>\n",
       "      <td>ALP</td>\n",
       "      <td>6506</td>\n",
       "      <td>4920</td>\n",
       "      <td>16</td>\n",
       "      <td>1567</td>\n",
       "    </tr>\n",
       "    <tr>\n",
       "      <th>9</th>\n",
       "      <td>KNR</td>\n",
       "      <td>4426</td>\n",
       "      <td>3295</td>\n",
       "      <td>31</td>\n",
       "      <td>1098</td>\n",
       "    </tr>\n",
       "    <tr>\n",
       "      <th>10</th>\n",
       "      <td>PTA</td>\n",
       "      <td>3994</td>\n",
       "      <td>2938</td>\n",
       "      <td>3</td>\n",
       "      <td>1051</td>\n",
       "    </tr>\n",
       "    <tr>\n",
       "      <th>11</th>\n",
       "      <td>PKD</td>\n",
       "      <td>5113</td>\n",
       "      <td>4404</td>\n",
       "      <td>4</td>\n",
       "      <td>703</td>\n",
       "    </tr>\n",
       "    <tr>\n",
       "      <th>12</th>\n",
       "      <td>IDK</td>\n",
       "      <td>1901</td>\n",
       "      <td>1596</td>\n",
       "      <td>3</td>\n",
       "      <td>301</td>\n",
       "    </tr>\n",
       "    <tr>\n",
       "      <th>13</th>\n",
       "      <td>WYD</td>\n",
       "      <td>1705</td>\n",
       "      <td>1407</td>\n",
       "      <td>5</td>\n",
       "      <td>293</td>\n",
       "    </tr>\n",
       "  </tbody>\n",
       "</table>\n",
       "</div>"
      ],
      "text/plain": [
       "   District  Confirmed  Recoverd  Death  Active\n",
       "0       TVM      17915     12907    112    4869\n",
       "1       EKM       7361      4974     38    2341\n",
       "2       MPM      10581      8591     26    1958\n",
       "3       KGD       6106      4179     31    1893\n",
       "4       KLM       5260      3513     26    1718\n",
       "5       KKD       6742      5043     33    1661\n",
       "6       KTM       4876      3217     16    1570\n",
       "7       TSR       6506      4920     16    1570\n",
       "8       ALP       6506      4920     16    1567\n",
       "9       KNR       4426      3295     31    1098\n",
       "10      PTA       3994      2938      3    1051\n",
       "11      PKD       5113      4404      4     703\n",
       "12      IDK       1901      1596      3     301\n",
       "13      WYD       1705      1407      5     293"
      ]
     },
     "execution_count": 162,
     "metadata": {},
     "output_type": "execute_result"
    }
   ],
   "source": [
    "sample_df"
   ]
  },
  {
   "cell_type": "code",
   "execution_count": 163,
   "metadata": {},
   "outputs": [],
   "source": [
    "file_path = 'data/covid_case_study/' + date\n",
    "sample_df.to_csv(file_path)"
   ]
  },
  {
   "cell_type": "code",
   "execution_count": 167,
   "metadata": {},
   "outputs": [
    {
     "data": {
      "image/png": "[encoded data removed]",
      "text/plain": [
       "<Figure size 1080x576 with 1 Axes>"
      ]
     },
     "metadata": {
      "needs_background": "light"
     },
     "output_type": "display_data"
    }
   ],
   "source": [
    "fig,ax= plt.subplots(figsize=(15,8))\n",
    "#plt.grid(True)\n",
    "bars = ax.bar(sample_df['District'],sample_df['Active'],color='darkred')\n",
    "\n",
    "plt.xticks(rotation = 90)\n",
    "plt.title('Disrictwise active cases  {0}\\n'.format(date),fontsize=20,weight='bold')\n",
    "plt.ylabel('No.of people \\n',fontsize='x-large',weight='bold')\n",
    "plt.xlabel('\\n',fontsize='x-large',weight='bold')\n",
    "for bar in bars:\n",
    "    ax.text(\n",
    "        bar.get_x()+bar.get_width() /2,\n",
    "        bar.get_height(),\n",
    "        round(bar.get_height()),\n",
    "        horizontalalignment='center',\n",
    "        weight = 'bold',\n",
    "        fontsize=12\n",
    "    )\n",
    "\n",
    "    \n",
    "fig.savefig('reports/covid_case_study/active_cases.jpg')    \n"
   ]
  },
  {
   "cell_type": "code",
   "execution_count": 166,
   "metadata": {},
   "outputs": [
    {
     "data": {
      "image/png": "[encoded data removed]",
      "text/plain": [
       "<Figure size 1080x576 with 1 Axes>"
      ]
     },
     "metadata": {
      "needs_background": "light"
     },
     "output_type": "display_data"
    }
   ],
   "source": [
    "fig,ax= plt.subplots(figsize=(15,8))\n",
    "#plt.grid(True)\n",
    "bars = ax.bar(sample_df['District'],sample_df['Death'],color='black')\n",
    "\n",
    "plt.xticks(rotation = 90)\n",
    "plt.title('Disrictwise death report {0}\\n'.format(date),fontsize=20,weight='bold')\n",
    "plt.ylabel('No.of people \\n',fontsize='x-large',weight='bold')\n",
    "plt.xlabel('\\n',fontsize='x-large',weight='bold')\n",
    "for bar in bars:\n",
    "    ax.text(\n",
    "        bar.get_x()+bar.get_width() /2,\n",
    "        bar.get_height(),\n",
    "        round(bar.get_height()),\n",
    "        horizontalalignment='center',\n",
    "        weight = 'bold',\n",
    "        fontsize=12\n",
    "    )\n",
    "\n",
    "    \n",
    "fig.savefig('reports/covid_case_study/deathrate.jpg')    \n"
   ]
  },
  {
   "cell_type": "code",
   "execution_count": null,
   "metadata": {},
   "outputs": [],
   "source": []
  }
 ],
 "metadata": {
  "kernelspec": {
   "display_name": "Python 3",
   "language": "python",
   "name": "python3"
  },
  "language_info": {
   "codemirror_mode": {
    "name": "ipython",
    "version": 3
   },
   "file_extension": ".py",
   "mimetype": "text/x-python",
   "name": "python",
   "nbconvert_exporter": "python",
   "pygments_lexer": "ipython3",
   "version": "3.7.6"
  }
 },
 "nbformat": 4,
 "nbformat_minor": 4
}
