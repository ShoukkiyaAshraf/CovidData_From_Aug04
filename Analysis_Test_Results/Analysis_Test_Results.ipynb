{
 "cells": [
  {
   "cell_type": "code",
   "execution_count": 1,
   "metadata": {},
   "outputs": [],
   "source": [
    "import numpy as np\n",
    "import pandas as pd\n",
    "import matplotlib.pyplot as plt\n",
    "import json\n",
    "import csv\n",
    "from collections import OrderedDict\n",
    "from update_dataframe import *\n",
    "from matplotlib import cbook"
   ]
  },
  {
   "cell_type": "code",
   "execution_count": 2,
   "metadata": {},
   "outputs": [],
   "source": [
    "# #creating a new dataframe\n",
    "\n",
    "# columns = [['Date','Total_Sent','Sent_On_Date','Proceed_In_24_Hr','Total_Positive','New_Positive']]\n",
    "# test_report = pd.DataFrame(columns=columns)\n",
    "# test_report.to_csv('data/Analysis_Test_Results.csv')"
   ]
  },
  {
   "cell_type": "code",
   "execution_count": 8,
   "metadata": {},
   "outputs": [
    {
     "data": {
      "text/html": [
       "<div>\n",
       "<style scoped>\n",
       "    .dataframe tbody tr th:only-of-type {\n",
       "        vertical-align: middle;\n",
       "    }\n",
       "\n",
       "    .dataframe tbody tr th {\n",
       "        vertical-align: top;\n",
       "    }\n",
       "\n",
       "    .dataframe thead th {\n",
       "        text-align: right;\n",
       "    }\n",
       "</style>\n",
       "<table border=\"1\" class=\"dataframe\">\n",
       "  <thead>\n",
       "    <tr style=\"text-align: right;\">\n",
       "      <th></th>\n",
       "      <th>Unnamed: 0</th>\n",
       "      <th>Date</th>\n",
       "      <th>Total_Sent</th>\n",
       "      <th>Sent_On_Date</th>\n",
       "      <th>Proceed_In_24_Hr</th>\n",
       "      <th>Total_Positive</th>\n",
       "      <th>New_Positive</th>\n",
       "    </tr>\n",
       "  </thead>\n",
       "  <tbody>\n",
       "    <tr>\n",
       "      <th>0</th>\n",
       "      <td>0</td>\n",
       "      <td>04/08/2020</td>\n",
       "      <td>858960</td>\n",
       "      <td>24745</td>\n",
       "      <td>20087</td>\n",
       "      <td>27956</td>\n",
       "      <td>1083</td>\n",
       "    </tr>\n",
       "    <tr>\n",
       "      <th>1</th>\n",
       "      <td>1</td>\n",
       "      <td>05/08/2020</td>\n",
       "      <td>884056</td>\n",
       "      <td>25096</td>\n",
       "      <td>25096</td>\n",
       "      <td>29151</td>\n",
       "      <td>1195</td>\n",
       "    </tr>\n",
       "    <tr>\n",
       "      <th>2</th>\n",
       "      <td>2</td>\n",
       "      <td>06/08/2020</td>\n",
       "      <td>908355</td>\n",
       "      <td>24299</td>\n",
       "      <td>25205</td>\n",
       "      <td>30449</td>\n",
       "      <td>1298</td>\n",
       "    </tr>\n",
       "    <tr>\n",
       "      <th>3</th>\n",
       "      <td>3</td>\n",
       "      <td>07/08/2020</td>\n",
       "      <td>936651</td>\n",
       "      <td>28296</td>\n",
       "      <td>27608</td>\n",
       "      <td>31700</td>\n",
       "      <td>1251</td>\n",
       "    </tr>\n",
       "    <tr>\n",
       "      <th>4</th>\n",
       "      <td>4</td>\n",
       "      <td>08/08/2020</td>\n",
       "      <td>963632</td>\n",
       "      <td>26981</td>\n",
       "      <td>27714</td>\n",
       "      <td>33120</td>\n",
       "      <td>1420</td>\n",
       "    </tr>\n",
       "    <tr>\n",
       "      <th>5</th>\n",
       "      <td>5</td>\n",
       "      <td>09/08/2020</td>\n",
       "      <td>984208</td>\n",
       "      <td>20576</td>\n",
       "      <td>22745</td>\n",
       "      <td>34331</td>\n",
       "      <td>1211</td>\n",
       "    </tr>\n",
       "    <tr>\n",
       "      <th>6</th>\n",
       "      <td>6</td>\n",
       "      <td>10/08/2020</td>\n",
       "      <td>1000988</td>\n",
       "      <td>16780</td>\n",
       "      <td>20583</td>\n",
       "      <td>35515</td>\n",
       "      <td>1184</td>\n",
       "    </tr>\n",
       "    <tr>\n",
       "      <th>7</th>\n",
       "      <td>7</td>\n",
       "      <td>11/08/2020</td>\n",
       "      <td>1027433</td>\n",
       "      <td>26445</td>\n",
       "      <td>21625</td>\n",
       "      <td>36932</td>\n",
       "      <td>1417</td>\n",
       "    </tr>\n",
       "    <tr>\n",
       "      <th>8</th>\n",
       "      <td>8</td>\n",
       "      <td>12/08/2020</td>\n",
       "      <td>1056360</td>\n",
       "      <td>28927</td>\n",
       "      <td>28644</td>\n",
       "      <td>38144</td>\n",
       "      <td>1212</td>\n",
       "    </tr>\n",
       "    <tr>\n",
       "      <th>9</th>\n",
       "      <td>9</td>\n",
       "      <td>13/08/2020</td>\n",
       "      <td>1087722</td>\n",
       "      <td>31362</td>\n",
       "      <td>31270</td>\n",
       "      <td>39708</td>\n",
       "      <td>1564</td>\n",
       "    </tr>\n",
       "    <tr>\n",
       "      <th>10</th>\n",
       "      <td>10</td>\n",
       "      <td>14/08/2020</td>\n",
       "      <td>1120935</td>\n",
       "      <td>33213</td>\n",
       "      <td>31738</td>\n",
       "      <td>41277</td>\n",
       "      <td>1569</td>\n",
       "    </tr>\n",
       "    <tr>\n",
       "      <th>11</th>\n",
       "      <td>11</td>\n",
       "      <td>15/08/2020</td>\n",
       "      <td>1154365</td>\n",
       "      <td>33430</td>\n",
       "      <td>32108</td>\n",
       "      <td>42885</td>\n",
       "      <td>1608</td>\n",
       "    </tr>\n",
       "    <tr>\n",
       "      <th>12</th>\n",
       "      <td>12</td>\n",
       "      <td>16/08/2020</td>\n",
       "      <td>1182727</td>\n",
       "      <td>28362</td>\n",
       "      <td>30123</td>\n",
       "      <td>44415</td>\n",
       "      <td>1530</td>\n",
       "    </tr>\n",
       "    <tr>\n",
       "      <th>13</th>\n",
       "      <td>13</td>\n",
       "      <td>17/08/2020</td>\n",
       "      <td>1205759</td>\n",
       "      <td>23032</td>\n",
       "      <td>26150</td>\n",
       "      <td>46140</td>\n",
       "      <td>1725</td>\n",
       "    </tr>\n",
       "    <tr>\n",
       "      <th>14</th>\n",
       "      <td>14</td>\n",
       "      <td>18/08/2020</td>\n",
       "      <td>1240076</td>\n",
       "      <td>34317</td>\n",
       "      <td>29265</td>\n",
       "      <td>47898</td>\n",
       "      <td>1758</td>\n",
       "    </tr>\n",
       "    <tr>\n",
       "      <th>15</th>\n",
       "      <td>15</td>\n",
       "      <td>19/08/2020</td>\n",
       "      <td>1276358</td>\n",
       "      <td>36282</td>\n",
       "      <td>36291</td>\n",
       "      <td>50231</td>\n",
       "      <td>2333</td>\n",
       "    </tr>\n",
       "    <tr>\n",
       "      <th>16</th>\n",
       "      <td>16</td>\n",
       "      <td>20/08/2020</td>\n",
       "      <td>1312992</td>\n",
       "      <td>36634</td>\n",
       "      <td>37010</td>\n",
       "      <td>52199</td>\n",
       "      <td>1968</td>\n",
       "    </tr>\n",
       "    <tr>\n",
       "      <th>17</th>\n",
       "      <td>17</td>\n",
       "      <td>21/08/2020</td>\n",
       "      <td>1349071</td>\n",
       "      <td>36079</td>\n",
       "      <td>35825</td>\n",
       "      <td>54182</td>\n",
       "      <td>1983</td>\n",
       "    </tr>\n",
       "    <tr>\n",
       "      <th>18</th>\n",
       "      <td>18</td>\n",
       "      <td>22/08/2020</td>\n",
       "      <td>1386775</td>\n",
       "      <td>37704</td>\n",
       "      <td>37027</td>\n",
       "      <td>56354</td>\n",
       "      <td>2172</td>\n",
       "    </tr>\n",
       "    <tr>\n",
       "      <th>19</th>\n",
       "      <td>19</td>\n",
       "      <td>23/08/2020</td>\n",
       "      <td>142258</td>\n",
       "      <td>37583</td>\n",
       "      <td>36353</td>\n",
       "      <td>58262</td>\n",
       "      <td>1908</td>\n",
       "    </tr>\n",
       "    <tr>\n",
       "      <th>20</th>\n",
       "      <td>20</td>\n",
       "      <td>24/08/2020</td>\n",
       "      <td>1446380</td>\n",
       "      <td>23822</td>\n",
       "      <td>26186</td>\n",
       "      <td>59504</td>\n",
       "      <td>1242</td>\n",
       "    </tr>\n",
       "    <tr>\n",
       "      <th>21</th>\n",
       "      <td>21</td>\n",
       "      <td>25/08/2020</td>\n",
       "      <td>1484907</td>\n",
       "      <td>38527</td>\n",
       "      <td>34344</td>\n",
       "      <td>61879</td>\n",
       "      <td>2375</td>\n",
       "    </tr>\n",
       "    <tr>\n",
       "      <th>22</th>\n",
       "      <td>22</td>\n",
       "      <td>26/08/2020</td>\n",
       "      <td>1525792</td>\n",
       "      <td>40885</td>\n",
       "      <td>40352</td>\n",
       "      <td>64355</td>\n",
       "      <td>2476</td>\n",
       "    </tr>\n",
       "    <tr>\n",
       "      <th>23</th>\n",
       "      <td>23</td>\n",
       "      <td>27/08/2020</td>\n",
       "      <td>1525792</td>\n",
       "      <td>0</td>\n",
       "      <td>37873</td>\n",
       "      <td>66761</td>\n",
       "      <td>2406</td>\n",
       "    </tr>\n",
       "    <tr>\n",
       "      <th>24</th>\n",
       "      <td>24</td>\n",
       "      <td>28/08/2020</td>\n",
       "      <td>1608013</td>\n",
       "      <td>82221</td>\n",
       "      <td>41860</td>\n",
       "      <td>69304</td>\n",
       "      <td>2543</td>\n",
       "    </tr>\n",
       "    <tr>\n",
       "      <th>25</th>\n",
       "      <td>25</td>\n",
       "      <td>29/08/2020</td>\n",
       "      <td>1643633</td>\n",
       "      <td>35620</td>\n",
       "      <td>34988</td>\n",
       "      <td>71701</td>\n",
       "      <td>2397</td>\n",
       "    </tr>\n",
       "  </tbody>\n",
       "</table>\n",
       "</div>"
      ],
      "text/plain": [
       "    Unnamed: 0        Date  Total_Sent  Sent_On_Date  Proceed_In_24_Hr  \\\n",
       "0            0  04/08/2020      858960         24745             20087   \n",
       "1            1  05/08/2020      884056         25096             25096   \n",
       "2            2  06/08/2020      908355         24299             25205   \n",
       "3            3  07/08/2020      936651         28296             27608   \n",
       "4            4  08/08/2020      963632         26981             27714   \n",
       "5            5  09/08/2020      984208         20576             22745   \n",
       "6            6  10/08/2020     1000988         16780             20583   \n",
       "7            7  11/08/2020     1027433         26445             21625   \n",
       "8            8  12/08/2020     1056360         28927             28644   \n",
       "9            9  13/08/2020     1087722         31362             31270   \n",
       "10          10  14/08/2020     1120935         33213             31738   \n",
       "11          11  15/08/2020     1154365         33430             32108   \n",
       "12          12  16/08/2020     1182727         28362             30123   \n",
       "13          13  17/08/2020     1205759         23032             26150   \n",
       "14          14  18/08/2020     1240076         34317             29265   \n",
       "15          15  19/08/2020     1276358         36282             36291   \n",
       "16          16  20/08/2020     1312992         36634             37010   \n",
       "17          17  21/08/2020     1349071         36079             35825   \n",
       "18          18  22/08/2020     1386775         37704             37027   \n",
       "19          19  23/08/2020      142258         37583             36353   \n",
       "20          20  24/08/2020     1446380         23822             26186   \n",
       "21          21  25/08/2020     1484907         38527             34344   \n",
       "22          22  26/08/2020     1525792         40885             40352   \n",
       "23          23  27/08/2020     1525792             0             37873   \n",
       "24          24  28/08/2020     1608013         82221             41860   \n",
       "25          25  29/08/2020     1643633         35620             34988   \n",
       "\n",
       "    Total_Positive  New_Positive  \n",
       "0            27956          1083  \n",
       "1            29151          1195  \n",
       "2            30449          1298  \n",
       "3            31700          1251  \n",
       "4            33120          1420  \n",
       "5            34331          1211  \n",
       "6            35515          1184  \n",
       "7            36932          1417  \n",
       "8            38144          1212  \n",
       "9            39708          1564  \n",
       "10           41277          1569  \n",
       "11           42885          1608  \n",
       "12           44415          1530  \n",
       "13           46140          1725  \n",
       "14           47898          1758  \n",
       "15           50231          2333  \n",
       "16           52199          1968  \n",
       "17           54182          1983  \n",
       "18           56354          2172  \n",
       "19           58262          1908  \n",
       "20           59504          1242  \n",
       "21           61879          2375  \n",
       "22           64355          2476  \n",
       "23           66761          2406  \n",
       "24           69304          2543  \n",
       "25           71701          2397  "
      ]
     },
     "execution_count": 8,
     "metadata": {},
     "output_type": "execute_result"
    }
   ],
   "source": [
    "test_report = pd.read_csv('data/Analysis_Test_Results.csv')\n",
    "test_report"
   ]
  },
  {
   "cell_type": "code",
   "execution_count": 4,
   "metadata": {},
   "outputs": [],
   "source": [
    "file_path = 'data/Analysis_Test_Results.csv'\n",
    "#update_file(test_report,file_path)"
   ]
  },
  {
   "cell_type": "code",
   "execution_count": 9,
   "metadata": {},
   "outputs": [
    {
     "name": "stdout",
     "output_type": "stream",
     "text": [
      "Index(['Unnamed: 0', 'Date', 'Total_Sent', 'Sent_On_Date', 'Proceed_In_24_Hr',\n",
      "       'Total_Positive', 'New_Positive'],\n",
      "      dtype='object')\n",
      "is there any unwanted coumns ? (y/n)y\n",
      "Enter column name :Unnamed: 0\n"
     ]
    }
   ],
   "source": [
    "#check if there is unwanterd columns ?\n",
    "print(test_report.columns)\n",
    "inp = input(\"is there any unwanted coumns ? (y/n)\")\n",
    "if inp == 'y':\n",
    "    column_name =  input(\"Enter column name :\")\n",
    "    del test_report[column_name]\n",
    "    test_report.to_csv(file_path, index = True)"
   ]
  },
  {
   "cell_type": "code",
   "execution_count": 6,
   "metadata": {},
   "outputs": [
    {
     "name": "stdout",
     "output_type": "stream",
     "text": [
      "Do you have to update the data  : (y/n)y\n",
      "<class 'str'>\n",
      "hi\n",
      " Options !!\n",
      "\tAdd Column : c \n",
      "\tAdd row values : r\n",
      "Enter your optionr\n",
      "-------------------\n",
      "Adding row values\n",
      "-------------------\n",
      "Enter Date 29/08/2020\n",
      "Enter Total_Sent 1643633\t\n",
      "Enter Sent_On_Date 35620\n",
      "Enter Proceed_In_24_Hr 34988\n",
      "Enter Total_Positive 71701\n",
      "Enter New_Positive 2397\n",
      "          Date  Total_Sent  Sent_On_Date  Proceed_In_24_Hr  Total_Positive  \\\n",
      "0   04/08/2020      858960         24745             20087           27956   \n",
      "1   05/08/2020      884056         25096             25096           29151   \n",
      "2   06/08/2020      908355         24299             25205           30449   \n",
      "3   07/08/2020      936651         28296             27608           31700   \n",
      "4   08/08/2020      963632         26981             27714           33120   \n",
      "5   09/08/2020      984208         20576             22745           34331   \n",
      "6   10/08/2020     1000988         16780             20583           35515   \n",
      "7   11/08/2020     1027433         26445             21625           36932   \n",
      "8   12/08/2020     1056360         28927             28644           38144   \n",
      "9   13/08/2020     1087722         31362             31270           39708   \n",
      "10  14/08/2020     1120935         33213             31738           41277   \n",
      "11  15/08/2020     1154365         33430             32108           42885   \n",
      "12  16/08/2020     1182727         28362             30123           44415   \n",
      "13  17/08/2020     1205759         23032             26150           46140   \n",
      "14  18/08/2020     1240076         34317             29265           47898   \n",
      "15  19/08/2020     1276358         36282             36291           50231   \n",
      "16  20/08/2020     1312992         36634             37010           52199   \n",
      "17  21/08/2020     1349071         36079             35825           54182   \n",
      "18  22/08/2020     1386775         37704             37027           56354   \n",
      "19  23/08/2020      142258         37583             36353           58262   \n",
      "20  24/08/2020     1446380         23822             26186           59504   \n",
      "21  25/08/2020     1484907         38527             34344           61879   \n",
      "22  26/08/2020     1525792         40885             40352           64355   \n",
      "23  27/08/2020     1525792             0             37873           66761   \n",
      "24  28/08/2020     1608013         82221             41860           69304   \n",
      "25  29/08/2020     1643633         35620             34988           71701   \n",
      "\n",
      "    New_Positive  \n",
      "0           1083  \n",
      "1           1195  \n",
      "2           1298  \n",
      "3           1251  \n",
      "4           1420  \n",
      "5           1211  \n",
      "6           1184  \n",
      "7           1417  \n",
      "8           1212  \n",
      "9           1564  \n",
      "10          1569  \n",
      "11          1608  \n",
      "12          1530  \n",
      "13          1725  \n",
      "14          1758  \n",
      "15          2333  \n",
      "16          1968  \n",
      "17          1983  \n",
      "18          2172  \n",
      "19          1908  \n",
      "20          1242  \n",
      "21          2375  \n",
      "22          2476  \n",
      "23          2406  \n",
      "24          2543  \n",
      "25          2397  \n",
      "Do you want to save these changes (y/n): y\n",
      "          Date  Total_Sent  Sent_On_Date  Proceed_In_24_Hr  Total_Positive  \\\n",
      "0   04/08/2020      858960         24745             20087           27956   \n",
      "1   05/08/2020      884056         25096             25096           29151   \n",
      "2   06/08/2020      908355         24299             25205           30449   \n",
      "3   07/08/2020      936651         28296             27608           31700   \n",
      "4   08/08/2020      963632         26981             27714           33120   \n",
      "5   09/08/2020      984208         20576             22745           34331   \n",
      "6   10/08/2020     1000988         16780             20583           35515   \n",
      "7   11/08/2020     1027433         26445             21625           36932   \n",
      "8   12/08/2020     1056360         28927             28644           38144   \n",
      "9   13/08/2020     1087722         31362             31270           39708   \n",
      "10  14/08/2020     1120935         33213             31738           41277   \n",
      "11  15/08/2020     1154365         33430             32108           42885   \n",
      "12  16/08/2020     1182727         28362             30123           44415   \n",
      "13  17/08/2020     1205759         23032             26150           46140   \n",
      "14  18/08/2020     1240076         34317             29265           47898   \n",
      "15  19/08/2020     1276358         36282             36291           50231   \n",
      "16  20/08/2020     1312992         36634             37010           52199   \n",
      "17  21/08/2020     1349071         36079             35825           54182   \n",
      "18  22/08/2020     1386775         37704             37027           56354   \n",
      "19  23/08/2020      142258         37583             36353           58262   \n",
      "20  24/08/2020     1446380         23822             26186           59504   \n",
      "21  25/08/2020     1484907         38527             34344           61879   \n",
      "22  26/08/2020     1525792         40885             40352           64355   \n",
      "23  27/08/2020     1525792             0             37873           66761   \n",
      "24  28/08/2020     1608013         82221             41860           69304   \n",
      "25  29/08/2020     1643633         35620             34988           71701   \n",
      "\n",
      "    New_Positive  \n",
      "0           1083  \n",
      "1           1195  \n",
      "2           1298  \n",
      "3           1251  \n",
      "4           1420  \n",
      "5           1211  \n",
      "6           1184  \n",
      "7           1417  \n",
      "8           1212  \n",
      "9           1564  \n",
      "10          1569  \n",
      "11          1608  \n",
      "12          1530  \n",
      "13          1725  \n",
      "14          1758  \n",
      "15          2333  \n",
      "16          1968  \n",
      "17          1983  \n",
      "18          2172  \n",
      "19          1908  \n",
      "20          1242  \n",
      "21          2375  \n",
      "22          2476  \n",
      "23          2406  \n",
      "24          2543  \n",
      "25          2397  \n",
      "do you want to add more : (y/n)n\n",
      "Final : \n",
      "          Date  Total_Sent  Sent_On_Date  Proceed_In_24_Hr  Total_Positive  \\\n",
      "0   04/08/2020      858960         24745             20087           27956   \n",
      "1   05/08/2020      884056         25096             25096           29151   \n",
      "2   06/08/2020      908355         24299             25205           30449   \n",
      "3   07/08/2020      936651         28296             27608           31700   \n",
      "4   08/08/2020      963632         26981             27714           33120   \n",
      "5   09/08/2020      984208         20576             22745           34331   \n",
      "6   10/08/2020     1000988         16780             20583           35515   \n",
      "7   11/08/2020     1027433         26445             21625           36932   \n",
      "8   12/08/2020     1056360         28927             28644           38144   \n",
      "9   13/08/2020     1087722         31362             31270           39708   \n",
      "10  14/08/2020     1120935         33213             31738           41277   \n",
      "11  15/08/2020     1154365         33430             32108           42885   \n",
      "12  16/08/2020     1182727         28362             30123           44415   \n",
      "13  17/08/2020     1205759         23032             26150           46140   \n",
      "14  18/08/2020     1240076         34317             29265           47898   \n",
      "15  19/08/2020     1276358         36282             36291           50231   \n",
      "16  20/08/2020     1312992         36634             37010           52199   \n",
      "17  21/08/2020     1349071         36079             35825           54182   \n",
      "18  22/08/2020     1386775         37704             37027           56354   \n",
      "19  23/08/2020      142258         37583             36353           58262   \n",
      "20  24/08/2020     1446380         23822             26186           59504   \n",
      "21  25/08/2020     1484907         38527             34344           61879   \n",
      "22  26/08/2020     1525792         40885             40352           64355   \n",
      "23  27/08/2020     1525792             0             37873           66761   \n",
      "24  28/08/2020     1608013         82221             41860           69304   \n",
      "25  29/08/2020     1643633         35620             34988           71701   \n",
      "\n",
      "    New_Positive  \n",
      "0           1083  \n",
      "1           1195  \n",
      "2           1298  \n",
      "3           1251  \n",
      "4           1420  \n",
      "5           1211  \n",
      "6           1184  \n",
      "7           1417  \n",
      "8           1212  \n",
      "9           1564  \n",
      "10          1569  \n",
      "11          1608  \n",
      "12          1530  \n",
      "13          1725  \n",
      "14          1758  \n",
      "15          2333  \n",
      "16          1968  \n",
      "17          1983  \n",
      "18          2172  \n",
      "19          1908  \n",
      "20          1242  \n",
      "21          2375  \n",
      "22          2476  \n",
      "23          2406  \n",
      "24          2543  \n",
      "25          2397  \n"
     ]
    },
    {
     "name": "stdout",
     "output_type": "stream",
     "text": [
      "Do you want to overwrite csv file : (y/n) y\n",
      "Successully saved data\n"
     ]
    }
   ],
   "source": [
    "update_file(test_report,file_path)\n"
   ]
  },
  {
   "cell_type": "markdown",
   "metadata": {},
   "source": [
    "## Trying to train the data "
   ]
  },
  {
   "cell_type": "code",
   "execution_count": 76,
   "metadata": {},
   "outputs": [],
   "source": [
    "from sklearn.model_selection import train_test_split\n",
    "from sklearn.linear_model import LinearRegression\n",
    "from sklearn.model_selection import train_test_split\n",
    "from sklearn import metrics"
   ]
  },
  {
   "cell_type": "code",
   "execution_count": 59,
   "metadata": {},
   "outputs": [],
   "source": [
    "features = test_report[['Total_Sent', 'Sent_On_Date', 'Proceed_In_24_Hr', 'Total_Positive']]\n",
    "label = test_report[['New_Positive']]"
   ]
  },
  {
   "cell_type": "code",
   "execution_count": 60,
   "metadata": {},
   "outputs": [
    {
     "data": {
      "text/html": [
       "<div>\n",
       "<style scoped>\n",
       "    .dataframe tbody tr th:only-of-type {\n",
       "        vertical-align: middle;\n",
       "    }\n",
       "\n",
       "    .dataframe tbody tr th {\n",
       "        vertical-align: top;\n",
       "    }\n",
       "\n",
       "    .dataframe thead th {\n",
       "        text-align: right;\n",
       "    }\n",
       "</style>\n",
       "<table border=\"1\" class=\"dataframe\">\n",
       "  <thead>\n",
       "    <tr style=\"text-align: right;\">\n",
       "      <th></th>\n",
       "      <th>Total_Sent</th>\n",
       "      <th>Sent_On_Date</th>\n",
       "      <th>Proceed_In_24_Hr</th>\n",
       "      <th>Total_Positive</th>\n",
       "    </tr>\n",
       "  </thead>\n",
       "  <tbody>\n",
       "    <tr>\n",
       "      <th>0</th>\n",
       "      <td>858960</td>\n",
       "      <td>24745</td>\n",
       "      <td>20087</td>\n",
       "      <td>27956</td>\n",
       "    </tr>\n",
       "    <tr>\n",
       "      <th>1</th>\n",
       "      <td>884056</td>\n",
       "      <td>25096</td>\n",
       "      <td>25096</td>\n",
       "      <td>29151</td>\n",
       "    </tr>\n",
       "    <tr>\n",
       "      <th>2</th>\n",
       "      <td>908355</td>\n",
       "      <td>24299</td>\n",
       "      <td>25205</td>\n",
       "      <td>30449</td>\n",
       "    </tr>\n",
       "    <tr>\n",
       "      <th>3</th>\n",
       "      <td>936651</td>\n",
       "      <td>28296</td>\n",
       "      <td>27608</td>\n",
       "      <td>31700</td>\n",
       "    </tr>\n",
       "    <tr>\n",
       "      <th>4</th>\n",
       "      <td>963632</td>\n",
       "      <td>26981</td>\n",
       "      <td>27714</td>\n",
       "      <td>33120</td>\n",
       "    </tr>\n",
       "    <tr>\n",
       "      <th>5</th>\n",
       "      <td>984208</td>\n",
       "      <td>20576</td>\n",
       "      <td>22745</td>\n",
       "      <td>34331</td>\n",
       "    </tr>\n",
       "    <tr>\n",
       "      <th>6</th>\n",
       "      <td>1000988</td>\n",
       "      <td>16780</td>\n",
       "      <td>20583</td>\n",
       "      <td>35515</td>\n",
       "    </tr>\n",
       "    <tr>\n",
       "      <th>7</th>\n",
       "      <td>1027433</td>\n",
       "      <td>26445</td>\n",
       "      <td>21625</td>\n",
       "      <td>36932</td>\n",
       "    </tr>\n",
       "    <tr>\n",
       "      <th>8</th>\n",
       "      <td>1056360</td>\n",
       "      <td>28927</td>\n",
       "      <td>28644</td>\n",
       "      <td>38144</td>\n",
       "    </tr>\n",
       "    <tr>\n",
       "      <th>9</th>\n",
       "      <td>1087722</td>\n",
       "      <td>31362</td>\n",
       "      <td>31270</td>\n",
       "      <td>39708</td>\n",
       "    </tr>\n",
       "    <tr>\n",
       "      <th>10</th>\n",
       "      <td>1120935</td>\n",
       "      <td>33213</td>\n",
       "      <td>31738</td>\n",
       "      <td>41277</td>\n",
       "    </tr>\n",
       "    <tr>\n",
       "      <th>11</th>\n",
       "      <td>1154365</td>\n",
       "      <td>33430</td>\n",
       "      <td>32108</td>\n",
       "      <td>42885</td>\n",
       "    </tr>\n",
       "    <tr>\n",
       "      <th>12</th>\n",
       "      <td>1182727</td>\n",
       "      <td>28362</td>\n",
       "      <td>30123</td>\n",
       "      <td>44415</td>\n",
       "    </tr>\n",
       "    <tr>\n",
       "      <th>13</th>\n",
       "      <td>1205759</td>\n",
       "      <td>23032</td>\n",
       "      <td>26150</td>\n",
       "      <td>46140</td>\n",
       "    </tr>\n",
       "    <tr>\n",
       "      <th>14</th>\n",
       "      <td>1240076</td>\n",
       "      <td>34317</td>\n",
       "      <td>29265</td>\n",
       "      <td>47898</td>\n",
       "    </tr>\n",
       "    <tr>\n",
       "      <th>15</th>\n",
       "      <td>1276358</td>\n",
       "      <td>36282</td>\n",
       "      <td>36291</td>\n",
       "      <td>50231</td>\n",
       "    </tr>\n",
       "    <tr>\n",
       "      <th>16</th>\n",
       "      <td>1312992</td>\n",
       "      <td>36634</td>\n",
       "      <td>37010</td>\n",
       "      <td>52199</td>\n",
       "    </tr>\n",
       "    <tr>\n",
       "      <th>17</th>\n",
       "      <td>1349071</td>\n",
       "      <td>36079</td>\n",
       "      <td>35825</td>\n",
       "      <td>54182</td>\n",
       "    </tr>\n",
       "    <tr>\n",
       "      <th>18</th>\n",
       "      <td>1386775</td>\n",
       "      <td>37704</td>\n",
       "      <td>37027</td>\n",
       "      <td>56354</td>\n",
       "    </tr>\n",
       "    <tr>\n",
       "      <th>19</th>\n",
       "      <td>142258</td>\n",
       "      <td>37583</td>\n",
       "      <td>36353</td>\n",
       "      <td>58262</td>\n",
       "    </tr>\n",
       "    <tr>\n",
       "      <th>20</th>\n",
       "      <td>1446380</td>\n",
       "      <td>23822</td>\n",
       "      <td>26186</td>\n",
       "      <td>59504</td>\n",
       "    </tr>\n",
       "    <tr>\n",
       "      <th>21</th>\n",
       "      <td>1484907</td>\n",
       "      <td>38527</td>\n",
       "      <td>34344</td>\n",
       "      <td>61879</td>\n",
       "    </tr>\n",
       "    <tr>\n",
       "      <th>22</th>\n",
       "      <td>1525792</td>\n",
       "      <td>40885</td>\n",
       "      <td>40352</td>\n",
       "      <td>64355</td>\n",
       "    </tr>\n",
       "    <tr>\n",
       "      <th>23</th>\n",
       "      <td>1525792</td>\n",
       "      <td>0</td>\n",
       "      <td>37873</td>\n",
       "      <td>66761</td>\n",
       "    </tr>\n",
       "    <tr>\n",
       "      <th>24</th>\n",
       "      <td>1608013</td>\n",
       "      <td>82221</td>\n",
       "      <td>41860</td>\n",
       "      <td>69304</td>\n",
       "    </tr>\n",
       "    <tr>\n",
       "      <th>25</th>\n",
       "      <td>1643633</td>\n",
       "      <td>35620</td>\n",
       "      <td>34988</td>\n",
       "      <td>71701</td>\n",
       "    </tr>\n",
       "  </tbody>\n",
       "</table>\n",
       "</div>"
      ],
      "text/plain": [
       "    Total_Sent  Sent_On_Date  Proceed_In_24_Hr  Total_Positive\n",
       "0       858960         24745             20087           27956\n",
       "1       884056         25096             25096           29151\n",
       "2       908355         24299             25205           30449\n",
       "3       936651         28296             27608           31700\n",
       "4       963632         26981             27714           33120\n",
       "5       984208         20576             22745           34331\n",
       "6      1000988         16780             20583           35515\n",
       "7      1027433         26445             21625           36932\n",
       "8      1056360         28927             28644           38144\n",
       "9      1087722         31362             31270           39708\n",
       "10     1120935         33213             31738           41277\n",
       "11     1154365         33430             32108           42885\n",
       "12     1182727         28362             30123           44415\n",
       "13     1205759         23032             26150           46140\n",
       "14     1240076         34317             29265           47898\n",
       "15     1276358         36282             36291           50231\n",
       "16     1312992         36634             37010           52199\n",
       "17     1349071         36079             35825           54182\n",
       "18     1386775         37704             37027           56354\n",
       "19      142258         37583             36353           58262\n",
       "20     1446380         23822             26186           59504\n",
       "21     1484907         38527             34344           61879\n",
       "22     1525792         40885             40352           64355\n",
       "23     1525792             0             37873           66761\n",
       "24     1608013         82221             41860           69304\n",
       "25     1643633         35620             34988           71701"
      ]
     },
     "execution_count": 60,
     "metadata": {},
     "output_type": "execute_result"
    }
   ],
   "source": [
    "features"
   ]
  },
  {
   "cell_type": "code",
   "execution_count": 61,
   "metadata": {},
   "outputs": [
    {
     "data": {
      "text/html": [
       "<div>\n",
       "<style scoped>\n",
       "    .dataframe tbody tr th:only-of-type {\n",
       "        vertical-align: middle;\n",
       "    }\n",
       "\n",
       "    .dataframe tbody tr th {\n",
       "        vertical-align: top;\n",
       "    }\n",
       "\n",
       "    .dataframe thead th {\n",
       "        text-align: right;\n",
       "    }\n",
       "</style>\n",
       "<table border=\"1\" class=\"dataframe\">\n",
       "  <thead>\n",
       "    <tr style=\"text-align: right;\">\n",
       "      <th></th>\n",
       "      <th>New_Positive</th>\n",
       "    </tr>\n",
       "  </thead>\n",
       "  <tbody>\n",
       "    <tr>\n",
       "      <th>0</th>\n",
       "      <td>1083</td>\n",
       "    </tr>\n",
       "    <tr>\n",
       "      <th>1</th>\n",
       "      <td>1195</td>\n",
       "    </tr>\n",
       "    <tr>\n",
       "      <th>2</th>\n",
       "      <td>1298</td>\n",
       "    </tr>\n",
       "    <tr>\n",
       "      <th>3</th>\n",
       "      <td>1251</td>\n",
       "    </tr>\n",
       "    <tr>\n",
       "      <th>4</th>\n",
       "      <td>1420</td>\n",
       "    </tr>\n",
       "    <tr>\n",
       "      <th>5</th>\n",
       "      <td>1211</td>\n",
       "    </tr>\n",
       "    <tr>\n",
       "      <th>6</th>\n",
       "      <td>1184</td>\n",
       "    </tr>\n",
       "    <tr>\n",
       "      <th>7</th>\n",
       "      <td>1417</td>\n",
       "    </tr>\n",
       "    <tr>\n",
       "      <th>8</th>\n",
       "      <td>1212</td>\n",
       "    </tr>\n",
       "    <tr>\n",
       "      <th>9</th>\n",
       "      <td>1564</td>\n",
       "    </tr>\n",
       "    <tr>\n",
       "      <th>10</th>\n",
       "      <td>1569</td>\n",
       "    </tr>\n",
       "    <tr>\n",
       "      <th>11</th>\n",
       "      <td>1608</td>\n",
       "    </tr>\n",
       "    <tr>\n",
       "      <th>12</th>\n",
       "      <td>1530</td>\n",
       "    </tr>\n",
       "    <tr>\n",
       "      <th>13</th>\n",
       "      <td>1725</td>\n",
       "    </tr>\n",
       "    <tr>\n",
       "      <th>14</th>\n",
       "      <td>1758</td>\n",
       "    </tr>\n",
       "    <tr>\n",
       "      <th>15</th>\n",
       "      <td>2333</td>\n",
       "    </tr>\n",
       "    <tr>\n",
       "      <th>16</th>\n",
       "      <td>1968</td>\n",
       "    </tr>\n",
       "    <tr>\n",
       "      <th>17</th>\n",
       "      <td>1983</td>\n",
       "    </tr>\n",
       "    <tr>\n",
       "      <th>18</th>\n",
       "      <td>2172</td>\n",
       "    </tr>\n",
       "    <tr>\n",
       "      <th>19</th>\n",
       "      <td>1908</td>\n",
       "    </tr>\n",
       "    <tr>\n",
       "      <th>20</th>\n",
       "      <td>1242</td>\n",
       "    </tr>\n",
       "    <tr>\n",
       "      <th>21</th>\n",
       "      <td>2375</td>\n",
       "    </tr>\n",
       "    <tr>\n",
       "      <th>22</th>\n",
       "      <td>2476</td>\n",
       "    </tr>\n",
       "    <tr>\n",
       "      <th>23</th>\n",
       "      <td>2406</td>\n",
       "    </tr>\n",
       "    <tr>\n",
       "      <th>24</th>\n",
       "      <td>2543</td>\n",
       "    </tr>\n",
       "    <tr>\n",
       "      <th>25</th>\n",
       "      <td>2397</td>\n",
       "    </tr>\n",
       "  </tbody>\n",
       "</table>\n",
       "</div>"
      ],
      "text/plain": [
       "    New_Positive\n",
       "0           1083\n",
       "1           1195\n",
       "2           1298\n",
       "3           1251\n",
       "4           1420\n",
       "5           1211\n",
       "6           1184\n",
       "7           1417\n",
       "8           1212\n",
       "9           1564\n",
       "10          1569\n",
       "11          1608\n",
       "12          1530\n",
       "13          1725\n",
       "14          1758\n",
       "15          2333\n",
       "16          1968\n",
       "17          1983\n",
       "18          2172\n",
       "19          1908\n",
       "20          1242\n",
       "21          2375\n",
       "22          2476\n",
       "23          2406\n",
       "24          2543\n",
       "25          2397"
      ]
     },
     "execution_count": 61,
     "metadata": {},
     "output_type": "execute_result"
    }
   ],
   "source": [
    "label"
   ]
  },
  {
   "cell_type": "code",
   "execution_count": 62,
   "metadata": {
    "scrolled": true
   },
   "outputs": [
    {
     "data": {
      "text/html": [
       "<style  type=\"text/css\" >\n",
       "    #T_b95a3f3e_eb6e_11ea_a26f_507b9d5f0fd7row0_col0 {\n",
       "            background-color:  #023858;\n",
       "            color:  #f1f1f1;\n",
       "        }    #T_b95a3f3e_eb6e_11ea_a26f_507b9d5f0fd7row0_col1 {\n",
       "            background-color:  #fff7fb;\n",
       "            color:  #000000;\n",
       "        }    #T_b95a3f3e_eb6e_11ea_a26f_507b9d5f0fd7row0_col2 {\n",
       "            background-color:  #fff7fb;\n",
       "            color:  #000000;\n",
       "        }    #T_b95a3f3e_eb6e_11ea_a26f_507b9d5f0fd7row0_col3 {\n",
       "            background-color:  #abbfdc;\n",
       "            color:  #000000;\n",
       "        }    #T_b95a3f3e_eb6e_11ea_a26f_507b9d5f0fd7row1_col0 {\n",
       "            background-color:  #fff7fb;\n",
       "            color:  #000000;\n",
       "        }    #T_b95a3f3e_eb6e_11ea_a26f_507b9d5f0fd7row1_col1 {\n",
       "            background-color:  #023858;\n",
       "            color:  #f1f1f1;\n",
       "        }    #T_b95a3f3e_eb6e_11ea_a26f_507b9d5f0fd7row1_col2 {\n",
       "            background-color:  #e3e0ee;\n",
       "            color:  #000000;\n",
       "        }    #T_b95a3f3e_eb6e_11ea_a26f_507b9d5f0fd7row1_col3 {\n",
       "            background-color:  #fff7fb;\n",
       "            color:  #000000;\n",
       "        }    #T_b95a3f3e_eb6e_11ea_a26f_507b9d5f0fd7row2_col0 {\n",
       "            background-color:  #c2cbe2;\n",
       "            color:  #000000;\n",
       "        }    #T_b95a3f3e_eb6e_11ea_a26f_507b9d5f0fd7row2_col1 {\n",
       "            background-color:  #99b8d8;\n",
       "            color:  #000000;\n",
       "        }    #T_b95a3f3e_eb6e_11ea_a26f_507b9d5f0fd7row2_col2 {\n",
       "            background-color:  #023858;\n",
       "            color:  #f1f1f1;\n",
       "        }    #T_b95a3f3e_eb6e_11ea_a26f_507b9d5f0fd7row2_col3 {\n",
       "            background-color:  #2383ba;\n",
       "            color:  #000000;\n",
       "        }    #T_b95a3f3e_eb6e_11ea_a26f_507b9d5f0fd7row3_col0 {\n",
       "            background-color:  #75a9cf;\n",
       "            color:  #000000;\n",
       "        }    #T_b95a3f3e_eb6e_11ea_a26f_507b9d5f0fd7row3_col1 {\n",
       "            background-color:  #d9d8ea;\n",
       "            color:  #000000;\n",
       "        }    #T_b95a3f3e_eb6e_11ea_a26f_507b9d5f0fd7row3_col2 {\n",
       "            background-color:  #308cbe;\n",
       "            color:  #000000;\n",
       "        }    #T_b95a3f3e_eb6e_11ea_a26f_507b9d5f0fd7row3_col3 {\n",
       "            background-color:  #023858;\n",
       "            color:  #f1f1f1;\n",
       "        }</style><table id=\"T_b95a3f3e_eb6e_11ea_a26f_507b9d5f0fd7\" ><thead>    <tr>        <th class=\"blank level0\" ></th>        <th class=\"col_heading level0 col0\" >Total_Sent</th>        <th class=\"col_heading level0 col1\" >Sent_On_Date</th>        <th class=\"col_heading level0 col2\" >Proceed_In_24_Hr</th>        <th class=\"col_heading level0 col3\" >Total_Positive</th>    </tr></thead><tbody>\n",
       "                <tr>\n",
       "                        <th id=\"T_b95a3f3e_eb6e_11ea_a26f_507b9d5f0fd7level0_row0\" class=\"row_heading level0 row0\" >Total_Sent</th>\n",
       "                        <td id=\"T_b95a3f3e_eb6e_11ea_a26f_507b9d5f0fd7row0_col0\" class=\"data row0 col0\" >1.000000</td>\n",
       "                        <td id=\"T_b95a3f3e_eb6e_11ea_a26f_507b9d5f0fd7row0_col1\" class=\"data row0 col1\" >0.248000</td>\n",
       "                        <td id=\"T_b95a3f3e_eb6e_11ea_a26f_507b9d5f0fd7row0_col2\" class=\"data row0 col2\" >0.467663</td>\n",
       "                        <td id=\"T_b95a3f3e_eb6e_11ea_a26f_507b9d5f0fd7row0_col3\" class=\"data row0 col3\" >0.621797</td>\n",
       "            </tr>\n",
       "            <tr>\n",
       "                        <th id=\"T_b95a3f3e_eb6e_11ea_a26f_507b9d5f0fd7level0_row1\" class=\"row_heading level0 row1\" >Sent_On_Date</th>\n",
       "                        <td id=\"T_b95a3f3e_eb6e_11ea_a26f_507b9d5f0fd7row1_col0\" class=\"data row1 col0\" >0.248000</td>\n",
       "                        <td id=\"T_b95a3f3e_eb6e_11ea_a26f_507b9d5f0fd7row1_col1\" class=\"data row1 col1\" >1.000000</td>\n",
       "                        <td id=\"T_b95a3f3e_eb6e_11ea_a26f_507b9d5f0fd7row1_col2\" class=\"data row1 col2\" >0.555621</td>\n",
       "                        <td id=\"T_b95a3f3e_eb6e_11ea_a26f_507b9d5f0fd7row1_col3\" class=\"data row1 col3\" >0.408998</td>\n",
       "            </tr>\n",
       "            <tr>\n",
       "                        <th id=\"T_b95a3f3e_eb6e_11ea_a26f_507b9d5f0fd7level0_row2\" class=\"row_heading level0 row2\" >Proceed_In_24_Hr</th>\n",
       "                        <td id=\"T_b95a3f3e_eb6e_11ea_a26f_507b9d5f0fd7row2_col0\" class=\"data row2 col0\" >0.467663</td>\n",
       "                        <td id=\"T_b95a3f3e_eb6e_11ea_a26f_507b9d5f0fd7row2_col1\" class=\"data row2 col1\" >0.555621</td>\n",
       "                        <td id=\"T_b95a3f3e_eb6e_11ea_a26f_507b9d5f0fd7row2_col2\" class=\"data row2 col2\" >1.000000</td>\n",
       "                        <td id=\"T_b95a3f3e_eb6e_11ea_a26f_507b9d5f0fd7row2_col3\" class=\"data row2 col3\" >0.807105</td>\n",
       "            </tr>\n",
       "            <tr>\n",
       "                        <th id=\"T_b95a3f3e_eb6e_11ea_a26f_507b9d5f0fd7level0_row3\" class=\"row_heading level0 row3\" >Total_Positive</th>\n",
       "                        <td id=\"T_b95a3f3e_eb6e_11ea_a26f_507b9d5f0fd7row3_col0\" class=\"data row3 col0\" >0.621797</td>\n",
       "                        <td id=\"T_b95a3f3e_eb6e_11ea_a26f_507b9d5f0fd7row3_col1\" class=\"data row3 col1\" >0.408998</td>\n",
       "                        <td id=\"T_b95a3f3e_eb6e_11ea_a26f_507b9d5f0fd7row3_col2\" class=\"data row3 col2\" >0.807105</td>\n",
       "                        <td id=\"T_b95a3f3e_eb6e_11ea_a26f_507b9d5f0fd7row3_col3\" class=\"data row3 col3\" >1.000000</td>\n",
       "            </tr>\n",
       "    </tbody></table>"
      ],
      "text/plain": [
       "<pandas.io.formats.style.Styler at 0x263adb2aa88>"
      ]
     },
     "execution_count": 62,
     "metadata": {},
     "output_type": "execute_result"
    }
   ],
   "source": [
    "# Create a correlation matrix\n",
    "corr_metrics = features.corr()\n",
    "corr_metrics.style.background_gradient()"
   ]
  },
  {
   "cell_type": "code",
   "execution_count": 63,
   "metadata": {},
   "outputs": [],
   "source": [
    "# features = test_report[['Sent_On_Date', 'Proceed_In_24_Hr']]\n",
    "# label = test_report[['New_Positive']]"
   ]
  },
  {
   "cell_type": "code",
   "execution_count": 64,
   "metadata": {},
   "outputs": [
    {
     "data": {
      "text/plain": [
       "pandas.core.frame.DataFrame"
      ]
     },
     "execution_count": 64,
     "metadata": {},
     "output_type": "execute_result"
    }
   ],
   "source": [
    "type(features)"
   ]
  },
  {
   "cell_type": "code",
   "execution_count": 65,
   "metadata": {},
   "outputs": [],
   "source": [
    "x_train,x_test,y_train,y_test = train_test_split(features,label,test_size = 0.3,random_state=42)"
   ]
  },
  {
   "cell_type": "code",
   "execution_count": 66,
   "metadata": {},
   "outputs": [
    {
     "data": {
      "text/html": [
       "<div>\n",
       "<style scoped>\n",
       "    .dataframe tbody tr th:only-of-type {\n",
       "        vertical-align: middle;\n",
       "    }\n",
       "\n",
       "    .dataframe tbody tr th {\n",
       "        vertical-align: top;\n",
       "    }\n",
       "\n",
       "    .dataframe thead th {\n",
       "        text-align: right;\n",
       "    }\n",
       "</style>\n",
       "<table border=\"1\" class=\"dataframe\">\n",
       "  <thead>\n",
       "    <tr style=\"text-align: right;\">\n",
       "      <th></th>\n",
       "      <th>Total_Sent</th>\n",
       "      <th>Sent_On_Date</th>\n",
       "      <th>Proceed_In_24_Hr</th>\n",
       "      <th>Total_Positive</th>\n",
       "    </tr>\n",
       "  </thead>\n",
       "  <tbody>\n",
       "    <tr>\n",
       "      <th>23</th>\n",
       "      <td>1525792</td>\n",
       "      <td>0</td>\n",
       "      <td>37873</td>\n",
       "      <td>66761</td>\n",
       "    </tr>\n",
       "    <tr>\n",
       "      <th>5</th>\n",
       "      <td>984208</td>\n",
       "      <td>20576</td>\n",
       "      <td>22745</td>\n",
       "      <td>34331</td>\n",
       "    </tr>\n",
       "    <tr>\n",
       "      <th>2</th>\n",
       "      <td>908355</td>\n",
       "      <td>24299</td>\n",
       "      <td>25205</td>\n",
       "      <td>30449</td>\n",
       "    </tr>\n",
       "    <tr>\n",
       "      <th>12</th>\n",
       "      <td>1182727</td>\n",
       "      <td>28362</td>\n",
       "      <td>30123</td>\n",
       "      <td>44415</td>\n",
       "    </tr>\n",
       "    <tr>\n",
       "      <th>15</th>\n",
       "      <td>1276358</td>\n",
       "      <td>36282</td>\n",
       "      <td>36291</td>\n",
       "      <td>50231</td>\n",
       "    </tr>\n",
       "    <tr>\n",
       "      <th>3</th>\n",
       "      <td>936651</td>\n",
       "      <td>28296</td>\n",
       "      <td>27608</td>\n",
       "      <td>31700</td>\n",
       "    </tr>\n",
       "    <tr>\n",
       "      <th>4</th>\n",
       "      <td>963632</td>\n",
       "      <td>26981</td>\n",
       "      <td>27714</td>\n",
       "      <td>33120</td>\n",
       "    </tr>\n",
       "    <tr>\n",
       "      <th>21</th>\n",
       "      <td>1484907</td>\n",
       "      <td>38527</td>\n",
       "      <td>34344</td>\n",
       "      <td>61879</td>\n",
       "    </tr>\n",
       "    <tr>\n",
       "      <th>17</th>\n",
       "      <td>1349071</td>\n",
       "      <td>36079</td>\n",
       "      <td>35825</td>\n",
       "      <td>54182</td>\n",
       "    </tr>\n",
       "    <tr>\n",
       "      <th>22</th>\n",
       "      <td>1525792</td>\n",
       "      <td>40885</td>\n",
       "      <td>40352</td>\n",
       "      <td>64355</td>\n",
       "    </tr>\n",
       "    <tr>\n",
       "      <th>18</th>\n",
       "      <td>1386775</td>\n",
       "      <td>37704</td>\n",
       "      <td>37027</td>\n",
       "      <td>56354</td>\n",
       "    </tr>\n",
       "    <tr>\n",
       "      <th>25</th>\n",
       "      <td>1643633</td>\n",
       "      <td>35620</td>\n",
       "      <td>34988</td>\n",
       "      <td>71701</td>\n",
       "    </tr>\n",
       "    <tr>\n",
       "      <th>20</th>\n",
       "      <td>1446380</td>\n",
       "      <td>23822</td>\n",
       "      <td>26186</td>\n",
       "      <td>59504</td>\n",
       "    </tr>\n",
       "    <tr>\n",
       "      <th>7</th>\n",
       "      <td>1027433</td>\n",
       "      <td>26445</td>\n",
       "      <td>21625</td>\n",
       "      <td>36932</td>\n",
       "    </tr>\n",
       "    <tr>\n",
       "      <th>10</th>\n",
       "      <td>1120935</td>\n",
       "      <td>33213</td>\n",
       "      <td>31738</td>\n",
       "      <td>41277</td>\n",
       "    </tr>\n",
       "    <tr>\n",
       "      <th>14</th>\n",
       "      <td>1240076</td>\n",
       "      <td>34317</td>\n",
       "      <td>29265</td>\n",
       "      <td>47898</td>\n",
       "    </tr>\n",
       "    <tr>\n",
       "      <th>19</th>\n",
       "      <td>142258</td>\n",
       "      <td>37583</td>\n",
       "      <td>36353</td>\n",
       "      <td>58262</td>\n",
       "    </tr>\n",
       "    <tr>\n",
       "      <th>6</th>\n",
       "      <td>1000988</td>\n",
       "      <td>16780</td>\n",
       "      <td>20583</td>\n",
       "      <td>35515</td>\n",
       "    </tr>\n",
       "  </tbody>\n",
       "</table>\n",
       "</div>"
      ],
      "text/plain": [
       "    Total_Sent  Sent_On_Date  Proceed_In_24_Hr  Total_Positive\n",
       "23     1525792             0             37873           66761\n",
       "5       984208         20576             22745           34331\n",
       "2       908355         24299             25205           30449\n",
       "12     1182727         28362             30123           44415\n",
       "15     1276358         36282             36291           50231\n",
       "3       936651         28296             27608           31700\n",
       "4       963632         26981             27714           33120\n",
       "21     1484907         38527             34344           61879\n",
       "17     1349071         36079             35825           54182\n",
       "22     1525792         40885             40352           64355\n",
       "18     1386775         37704             37027           56354\n",
       "25     1643633         35620             34988           71701\n",
       "20     1446380         23822             26186           59504\n",
       "7      1027433         26445             21625           36932\n",
       "10     1120935         33213             31738           41277\n",
       "14     1240076         34317             29265           47898\n",
       "19      142258         37583             36353           58262\n",
       "6      1000988         16780             20583           35515"
      ]
     },
     "execution_count": 66,
     "metadata": {},
     "output_type": "execute_result"
    }
   ],
   "source": [
    "x_train"
   ]
  },
  {
   "cell_type": "code",
   "execution_count": 67,
   "metadata": {},
   "outputs": [],
   "source": [
    "model = LinearRegression()"
   ]
  },
  {
   "cell_type": "code",
   "execution_count": 68,
   "metadata": {},
   "outputs": [
    {
     "data": {
      "text/plain": [
       "LinearRegression(copy_X=True, fit_intercept=True, n_jobs=None, normalize=False)"
      ]
     },
     "execution_count": 68,
     "metadata": {},
     "output_type": "execute_result"
    }
   ],
   "source": [
    "model.fit(x_train,y_train)"
   ]
  },
  {
   "cell_type": "code",
   "execution_count": 69,
   "metadata": {},
   "outputs": [],
   "source": [
    "predicted = model.predict(x_test)"
   ]
  },
  {
   "cell_type": "code",
   "execution_count": 70,
   "metadata": {},
   "outputs": [
    {
     "data": {
      "text/plain": [
       "array([[1542.1496026 ],\n",
       "       [2165.82282235],\n",
       "       [ 957.53414953],\n",
       "       [2685.49034876],\n",
       "       [1791.4721343 ],\n",
       "       [1703.81022353],\n",
       "       [1501.09936989],\n",
       "       [1238.10497572]])"
      ]
     },
     "execution_count": 70,
     "metadata": {},
     "output_type": "execute_result"
    }
   ],
   "source": [
    "predicted"
   ]
  },
  {
   "cell_type": "code",
   "execution_count": 71,
   "metadata": {},
   "outputs": [
    {
     "data": {
      "text/html": [
       "<div>\n",
       "<style scoped>\n",
       "    .dataframe tbody tr th:only-of-type {\n",
       "        vertical-align: middle;\n",
       "    }\n",
       "\n",
       "    .dataframe tbody tr th {\n",
       "        vertical-align: top;\n",
       "    }\n",
       "\n",
       "    .dataframe thead th {\n",
       "        text-align: right;\n",
       "    }\n",
       "</style>\n",
       "<table border=\"1\" class=\"dataframe\">\n",
       "  <thead>\n",
       "    <tr style=\"text-align: right;\">\n",
       "      <th></th>\n",
       "      <th>New_Positive</th>\n",
       "    </tr>\n",
       "  </thead>\n",
       "  <tbody>\n",
       "    <tr>\n",
       "      <th>8</th>\n",
       "      <td>1212</td>\n",
       "    </tr>\n",
       "    <tr>\n",
       "      <th>16</th>\n",
       "      <td>1968</td>\n",
       "    </tr>\n",
       "    <tr>\n",
       "      <th>0</th>\n",
       "      <td>1083</td>\n",
       "    </tr>\n",
       "    <tr>\n",
       "      <th>24</th>\n",
       "      <td>2543</td>\n",
       "    </tr>\n",
       "    <tr>\n",
       "      <th>11</th>\n",
       "      <td>1608</td>\n",
       "    </tr>\n",
       "    <tr>\n",
       "      <th>9</th>\n",
       "      <td>1564</td>\n",
       "    </tr>\n",
       "    <tr>\n",
       "      <th>13</th>\n",
       "      <td>1725</td>\n",
       "    </tr>\n",
       "    <tr>\n",
       "      <th>1</th>\n",
       "      <td>1195</td>\n",
       "    </tr>\n",
       "  </tbody>\n",
       "</table>\n",
       "</div>"
      ],
      "text/plain": [
       "    New_Positive\n",
       "8           1212\n",
       "16          1968\n",
       "0           1083\n",
       "24          2543\n",
       "11          1608\n",
       "9           1564\n",
       "13          1725\n",
       "1           1195"
      ]
     },
     "execution_count": 71,
     "metadata": {},
     "output_type": "execute_result"
    }
   ],
   "source": [
    "y_test"
   ]
  },
  {
   "cell_type": "code",
   "execution_count": 72,
   "metadata": {},
   "outputs": [
    {
     "data": {
      "text/plain": [
       "0.8216276291343974"
      ]
     },
     "execution_count": 72,
     "metadata": {},
     "output_type": "execute_result"
    }
   ],
   "source": [
    "model.score(x_test,y_test)"
   ]
  },
  {
   "cell_type": "code",
   "execution_count": 73,
   "metadata": {},
   "outputs": [
    {
     "data": {
      "text/plain": [
       "0.8735056371228582"
      ]
     },
     "execution_count": 73,
     "metadata": {},
     "output_type": "execute_result"
    }
   ],
   "source": [
    "model.score(x_train,y_train)"
   ]
  },
  {
   "cell_type": "code",
   "execution_count": 84,
   "metadata": {},
   "outputs": [
    {
     "name": "stdout",
     "output_type": "stream",
     "text": [
      "root mean squared error :  190.1894654111445\n",
      "r2 score :  0.8216276291343974\n"
     ]
    }
   ],
   "source": [
    "error = metrics.mean_squared_error(y_test,predicted)\n",
    "print('root mean squared error : ',np.sqrt(error))\n",
    "r2_Score = metrics.r2_score(y_test,predicted)\n",
    "print(\"r2 score : \",r2_Score)"
   ]
  },
  {
   "cell_type": "code",
   "execution_count": 85,
   "metadata": {},
   "outputs": [],
   "source": [
    "test = [1643633,35620,34988,71701]"
   ]
  },
  {
   "cell_type": "code",
   "execution_count": 86,
   "metadata": {},
   "outputs": [],
   "source": [
    "test_predicted = model.predict(np.array(test).reshape(1,-1))"
   ]
  },
  {
   "cell_type": "code",
   "execution_count": 94,
   "metadata": {},
   "outputs": [
    {
     "name": "stdout",
     "output_type": "stream",
     "text": [
      "new test positives on ['29/08/2020']\n",
      "actual :     2397 \n",
      "predicted :  2289\n"
     ]
    }
   ],
   "source": [
    "actual = 2397\n",
    "print('new test positives on {0}'.format(np.array(test_report['Date'].tail(1))))\n",
    "print('actual :    ',actual,'\\npredicted : ',int(test_predicted))"
   ]
  },
  {
   "cell_type": "markdown",
   "metadata": {},
   "source": [
    "## Using MLPRegressor "
   ]
  },
  {
   "cell_type": "code",
   "execution_count": 95,
   "metadata": {},
   "outputs": [],
   "source": [
    "from sklearn.neural_network import MLPRegressor"
   ]
  },
  {
   "cell_type": "code",
   "execution_count": 102,
   "metadata": {},
   "outputs": [],
   "source": [
    "model_mlp = MLPRegressor(solver='sgd')"
   ]
  },
  {
   "cell_type": "code",
   "execution_count": 103,
   "metadata": {},
   "outputs": [
    {
     "name": "stderr",
     "output_type": "stream",
     "text": [
      "C:\\Users\\Shoukkiya_Ashraf\\miniconda3\\lib\\site-packages\\sklearn\\neural_network\\_multilayer_perceptron.py:1342: DataConversionWarning: A column-vector y was passed when a 1d array was expected. Please change the shape of y to (n_samples, ), for example using ravel().\n",
      "  y = column_or_1d(y, warn=True)\n"
     ]
    },
    {
     "data": {
      "text/plain": [
       "MLPRegressor(activation='relu', alpha=0.0001, batch_size='auto', beta_1=0.9,\n",
       "             beta_2=0.999, early_stopping=False, epsilon=1e-08,\n",
       "             hidden_layer_sizes=(100,), learning_rate='constant',\n",
       "             learning_rate_init=0.001, max_fun=15000, max_iter=200,\n",
       "             momentum=0.9, n_iter_no_change=10, nesterovs_momentum=True,\n",
       "             power_t=0.5, random_state=None, shuffle=True, solver='sgd',\n",
       "             tol=0.0001, validation_fraction=0.1, verbose=False,\n",
       "             warm_start=False)"
      ]
     },
     "execution_count": 103,
     "metadata": {},
     "output_type": "execute_result"
    }
   ],
   "source": [
    "model_mlp.fit(x_train,y_train)"
   ]
  },
  {
   "cell_type": "code",
   "execution_count": 104,
   "metadata": {},
   "outputs": [],
   "source": [
    "predict_mlp = model_mlp.predict(x_test)"
   ]
  },
  {
   "cell_type": "code",
   "execution_count": 105,
   "metadata": {},
   "outputs": [
    {
     "name": "stdout",
     "output_type": "stream",
     "text": [
      "root mean squared error :  6.851389960902336e+20\n",
      "r2 score :  -2.3147923765187873e+36\n"
     ]
    }
   ],
   "source": [
    "error = metrics.mean_squared_error(y_test,predict_mlp)\n",
    "print('root mean squared error : ',np.sqrt(error))\n",
    "r2_Score = metrics.r2_score(y_test,predict_mlp)\n",
    "print(\"r2 score : \",r2_Score)"
   ]
  },
  {
   "cell_type": "code",
   "execution_count": 106,
   "metadata": {},
   "outputs": [],
   "source": [
    "test_predicted = model_mlp.predict(np.array(test).reshape(1,-1))"
   ]
  },
  {
   "cell_type": "code",
   "execution_count": 107,
   "metadata": {},
   "outputs": [
    {
     "data": {
      "text/plain": [
       "array([6.85138996e+20])"
      ]
     },
     "execution_count": 107,
     "metadata": {},
     "output_type": "execute_result"
    }
   ],
   "source": [
    "test_predicted"
   ]
  },
  {
   "cell_type": "markdown",
   "metadata": {},
   "source": [
    "## Using  DecisionTreeRegressor "
   ]
  },
  {
   "cell_type": "code",
   "execution_count": 108,
   "metadata": {},
   "outputs": [],
   "source": [
    "from sklearn.tree import DecisionTreeRegressor"
   ]
  },
  {
   "cell_type": "code",
   "execution_count": 109,
   "metadata": {},
   "outputs": [],
   "source": [
    "model_tree = DecisionTreeRegressor()"
   ]
  },
  {
   "cell_type": "code",
   "execution_count": 110,
   "metadata": {},
   "outputs": [
    {
     "data": {
      "text/plain": [
       "DecisionTreeRegressor(ccp_alpha=0.0, criterion='mse', max_depth=None,\n",
       "                      max_features=None, max_leaf_nodes=None,\n",
       "                      min_impurity_decrease=0.0, min_impurity_split=None,\n",
       "                      min_samples_leaf=1, min_samples_split=2,\n",
       "                      min_weight_fraction_leaf=0.0, presort='deprecated',\n",
       "                      random_state=None, splitter='best')"
      ]
     },
     "execution_count": 110,
     "metadata": {},
     "output_type": "execute_result"
    }
   ],
   "source": [
    "model_tree.fit(x_train,y_train)"
   ]
  },
  {
   "cell_type": "code",
   "execution_count": 111,
   "metadata": {},
   "outputs": [],
   "source": [
    "predict_tree = model_tree.predict(x_test)"
   ]
  },
  {
   "cell_type": "code",
   "execution_count": 112,
   "metadata": {},
   "outputs": [
    {
     "name": "stdout",
     "output_type": "stream",
     "text": [
      "root mean squared error :  307.89730430778377\n",
      "r2 score :  0.5325163323656835\n"
     ]
    }
   ],
   "source": [
    "error = metrics.mean_squared_error(y_test,predict_tree)\n",
    "print('root mean squared error : ',np.sqrt(error))\n",
    "r2_Score = metrics.r2_score(y_test,predict_tree)\n",
    "print(\"r2 score : \",r2_Score)"
   ]
  },
  {
   "cell_type": "code",
   "execution_count": 113,
   "metadata": {},
   "outputs": [
    {
     "data": {
      "text/plain": [
       "0.5325163323656835"
      ]
     },
     "execution_count": 113,
     "metadata": {},
     "output_type": "execute_result"
    }
   ],
   "source": [
    "model_tree.score(x_test,y_test)"
   ]
  },
  {
   "cell_type": "markdown",
   "metadata": {},
   "source": [
    "# KNeighborsRegressor"
   ]
  },
  {
   "cell_type": "code",
   "execution_count": 114,
   "metadata": {},
   "outputs": [],
   "source": [
    "from sklearn.neighbors import KNeighborsRegressor"
   ]
  },
  {
   "cell_type": "code",
   "execution_count": 115,
   "metadata": {},
   "outputs": [],
   "source": [
    "model_knn = KNeighborsRegressor()"
   ]
  },
  {
   "cell_type": "code",
   "execution_count": 116,
   "metadata": {},
   "outputs": [
    {
     "data": {
      "text/plain": [
       "KNeighborsRegressor(algorithm='auto', leaf_size=30, metric='minkowski',\n",
       "                    metric_params=None, n_jobs=None, n_neighbors=5, p=2,\n",
       "                    weights='uniform')"
      ]
     },
     "execution_count": 116,
     "metadata": {},
     "output_type": "execute_result"
    }
   ],
   "source": [
    "model_knn.fit(x_train,y_train)"
   ]
  },
  {
   "cell_type": "code",
   "execution_count": 117,
   "metadata": {},
   "outputs": [],
   "source": [
    "predict_knn = model.predict(x_test)\n",
    "\n"
   ]
  },
  {
   "cell_type": "code",
   "execution_count": 118,
   "metadata": {},
   "outputs": [
    {
     "name": "stdout",
     "output_type": "stream",
     "text": [
      "root mean squared error :  190.1894654111445\n",
      "r2 score :  0.8216276291343974\n"
     ]
    }
   ],
   "source": [
    "error = metrics.mean_squared_error(y_test,predict_knn)\n",
    "print('root mean squared error : ',np.sqrt(error))\n",
    "r2_Score = metrics.r2_score(y_test,predict_knn)\n",
    "print(\"r2 score : \",r2_Score)"
   ]
  },
  {
   "cell_type": "code",
   "execution_count": 122,
   "metadata": {},
   "outputs": [
    {
     "data": {
      "text/plain": [
       "0.8431394140042426"
      ]
     },
     "execution_count": 122,
     "metadata": {},
     "output_type": "execute_result"
    }
   ],
   "source": [
    "model_knn.score(x_test,y_test)"
   ]
  },
  {
   "cell_type": "code",
   "execution_count": 123,
   "metadata": {},
   "outputs": [
    {
     "name": "stdout",
     "output_type": "stream",
     "text": [
      "new test positives on ['29/08/2020']\n",
      "actual :     2397 \n",
      "predicted :  2179\n"
     ]
    }
   ],
   "source": [
    "test_predicted = model_knn.predict(np.array(test).reshape(1,-1))\n",
    "\n",
    "actual = 2397\n",
    "print('new test positives on {0}'.format(np.array(test_report['Date'].tail(1))))\n",
    "print('actual :    ',actual,'\\npredicted : ',int(test_predicted))"
   ]
  },
  {
   "cell_type": "code",
   "execution_count": 124,
   "metadata": {},
   "outputs": [
    {
     "name": "stdout",
     "output_type": "stream",
     "text": [
      "prediction by Linearregression\n",
      "new test positives on ['29/08/2020']\n",
      "actual :     2397 \n",
      "predicted :  2289\n",
      "prediction by KNNregressor\n",
      "new test positives on ['29/08/2020']\n",
      "actual :     2397 \n",
      "predicted :  2179\n"
     ]
    }
   ],
   "source": [
    "print('prediction by Linearregression')\n",
    "test_predicted = model.predict(np.array(test).reshape(1,-1))\n",
    "\n",
    "actual = 2397\n",
    "print('new test positives on {0}'.format(np.array(test_report['Date'].tail(1))))\n",
    "print('actual :    ',actual,'\\npredicted : ',int(test_predicted))\n",
    "\n",
    "print('prediction by KNNregressor')\n",
    "test_predicted = model_knn.predict(np.array(test).reshape(1,-1))\n",
    "\n",
    "actual = 2397\n",
    "print('new test positives on {0}'.format(np.array(test_report['Date'].tail(1))))\n",
    "print('actual :    ',actual,'\\npredicted : ',int(test_predicted))"
   ]
  },
  {
   "cell_type": "code",
   "execution_count": null,
   "metadata": {},
   "outputs": [],
   "source": []
  }
 ],
 "metadata": {
  "kernelspec": {
   "display_name": "Python 3",
   "language": "python",
   "name": "python3"
  },
  "language_info": {
   "codemirror_mode": {
    "name": "ipython",
    "version": 3
   },
   "file_extension": ".py",
   "mimetype": "text/x-python",
   "name": "python",
   "nbconvert_exporter": "python",
   "pygments_lexer": "ipython3",
   "version": "3.7.6"
  }
 },
 "nbformat": 4,
 "nbformat_minor": 4
}
