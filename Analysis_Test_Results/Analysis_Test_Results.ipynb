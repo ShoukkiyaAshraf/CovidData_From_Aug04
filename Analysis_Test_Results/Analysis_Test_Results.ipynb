{
 "cells": [
  {
   "cell_type": "code",
   "execution_count": 127,
   "metadata": {},
   "outputs": [],
   "source": [
    "import numpy as np\n",
    "import pandas as pd\n",
    "import matplotlib.pyplot as plt\n",
    "import json\n",
    "import csv\n",
    "from collections import OrderedDict\n",
    "from update_dataframe import *\n",
    "from matplotlib import cbook\n",
    "import seaborn as sns\n",
    "import math"
   ]
  },
  {
   "cell_type": "code",
   "execution_count": 128,
   "metadata": {},
   "outputs": [],
   "source": [
    "# #creating a new dataframe\n",
    "\n",
    "# columns = [['Date','Total_Sent','Sent_On_Date','Proceed_In_24_Hr','Total_Positive','New_Positive']]\n",
    "# test_report = pd.DataFrame(columns=columns)\n",
    "# test_report.to_csv('data/Analysis_Test_Results.csv')"
   ]
  },
  {
   "cell_type": "code",
   "execution_count": 129,
   "metadata": {},
   "outputs": [
    {
     "data": {
      "text/html": [
       "<div>\n",
       "<style scoped>\n",
       "    .dataframe tbody tr th:only-of-type {\n",
       "        vertical-align: middle;\n",
       "    }\n",
       "\n",
       "    .dataframe tbody tr th {\n",
       "        vertical-align: top;\n",
       "    }\n",
       "\n",
       "    .dataframe thead th {\n",
       "        text-align: right;\n",
       "    }\n",
       "</style>\n",
       "<table border=\"1\" class=\"dataframe\">\n",
       "  <thead>\n",
       "    <tr style=\"text-align: right;\">\n",
       "      <th></th>\n",
       "      <th>Unnamed: 0</th>\n",
       "      <th>Date</th>\n",
       "      <th>Total_Sent</th>\n",
       "      <th>Sent_On_Date</th>\n",
       "      <th>Proceed_In_24_Hr</th>\n",
       "      <th>Total_Positive</th>\n",
       "      <th>New_Positive</th>\n",
       "    </tr>\n",
       "  </thead>\n",
       "  <tbody>\n",
       "    <tr>\n",
       "      <th>0</th>\n",
       "      <td>0</td>\n",
       "      <td>04/08/2020</td>\n",
       "      <td>858960</td>\n",
       "      <td>24745</td>\n",
       "      <td>20087</td>\n",
       "      <td>27956</td>\n",
       "      <td>1083</td>\n",
       "    </tr>\n",
       "    <tr>\n",
       "      <th>1</th>\n",
       "      <td>1</td>\n",
       "      <td>05/08/2020</td>\n",
       "      <td>884056</td>\n",
       "      <td>25096</td>\n",
       "      <td>25096</td>\n",
       "      <td>29151</td>\n",
       "      <td>1195</td>\n",
       "    </tr>\n",
       "    <tr>\n",
       "      <th>2</th>\n",
       "      <td>2</td>\n",
       "      <td>06/08/2020</td>\n",
       "      <td>908355</td>\n",
       "      <td>24299</td>\n",
       "      <td>25205</td>\n",
       "      <td>30449</td>\n",
       "      <td>1298</td>\n",
       "    </tr>\n",
       "    <tr>\n",
       "      <th>3</th>\n",
       "      <td>3</td>\n",
       "      <td>07/08/2020</td>\n",
       "      <td>936651</td>\n",
       "      <td>28296</td>\n",
       "      <td>27608</td>\n",
       "      <td>31700</td>\n",
       "      <td>1251</td>\n",
       "    </tr>\n",
       "    <tr>\n",
       "      <th>4</th>\n",
       "      <td>4</td>\n",
       "      <td>08/08/2020</td>\n",
       "      <td>963632</td>\n",
       "      <td>26981</td>\n",
       "      <td>27714</td>\n",
       "      <td>33120</td>\n",
       "      <td>1420</td>\n",
       "    </tr>\n",
       "    <tr>\n",
       "      <th>5</th>\n",
       "      <td>5</td>\n",
       "      <td>09/08/2020</td>\n",
       "      <td>984208</td>\n",
       "      <td>20576</td>\n",
       "      <td>22745</td>\n",
       "      <td>34331</td>\n",
       "      <td>1211</td>\n",
       "    </tr>\n",
       "    <tr>\n",
       "      <th>6</th>\n",
       "      <td>6</td>\n",
       "      <td>10/08/2020</td>\n",
       "      <td>1000988</td>\n",
       "      <td>16780</td>\n",
       "      <td>20583</td>\n",
       "      <td>35515</td>\n",
       "      <td>1184</td>\n",
       "    </tr>\n",
       "    <tr>\n",
       "      <th>7</th>\n",
       "      <td>7</td>\n",
       "      <td>11/08/2020</td>\n",
       "      <td>1027433</td>\n",
       "      <td>26445</td>\n",
       "      <td>21625</td>\n",
       "      <td>36932</td>\n",
       "      <td>1417</td>\n",
       "    </tr>\n",
       "    <tr>\n",
       "      <th>8</th>\n",
       "      <td>8</td>\n",
       "      <td>12/08/2020</td>\n",
       "      <td>1056360</td>\n",
       "      <td>28927</td>\n",
       "      <td>28644</td>\n",
       "      <td>38144</td>\n",
       "      <td>1212</td>\n",
       "    </tr>\n",
       "    <tr>\n",
       "      <th>9</th>\n",
       "      <td>9</td>\n",
       "      <td>13/08/2020</td>\n",
       "      <td>1087722</td>\n",
       "      <td>31362</td>\n",
       "      <td>31270</td>\n",
       "      <td>39708</td>\n",
       "      <td>1564</td>\n",
       "    </tr>\n",
       "    <tr>\n",
       "      <th>10</th>\n",
       "      <td>10</td>\n",
       "      <td>14/08/2020</td>\n",
       "      <td>1120935</td>\n",
       "      <td>33213</td>\n",
       "      <td>31738</td>\n",
       "      <td>41277</td>\n",
       "      <td>1569</td>\n",
       "    </tr>\n",
       "    <tr>\n",
       "      <th>11</th>\n",
       "      <td>11</td>\n",
       "      <td>15/08/2020</td>\n",
       "      <td>1154365</td>\n",
       "      <td>33430</td>\n",
       "      <td>32108</td>\n",
       "      <td>42885</td>\n",
       "      <td>1608</td>\n",
       "    </tr>\n",
       "    <tr>\n",
       "      <th>12</th>\n",
       "      <td>12</td>\n",
       "      <td>16/08/2020</td>\n",
       "      <td>1182727</td>\n",
       "      <td>28362</td>\n",
       "      <td>30123</td>\n",
       "      <td>44415</td>\n",
       "      <td>1530</td>\n",
       "    </tr>\n",
       "    <tr>\n",
       "      <th>13</th>\n",
       "      <td>13</td>\n",
       "      <td>17/08/2020</td>\n",
       "      <td>1205759</td>\n",
       "      <td>23032</td>\n",
       "      <td>26150</td>\n",
       "      <td>46140</td>\n",
       "      <td>1725</td>\n",
       "    </tr>\n",
       "    <tr>\n",
       "      <th>14</th>\n",
       "      <td>14</td>\n",
       "      <td>18/08/2020</td>\n",
       "      <td>1240076</td>\n",
       "      <td>34317</td>\n",
       "      <td>29265</td>\n",
       "      <td>47898</td>\n",
       "      <td>1758</td>\n",
       "    </tr>\n",
       "    <tr>\n",
       "      <th>15</th>\n",
       "      <td>15</td>\n",
       "      <td>19/08/2020</td>\n",
       "      <td>1276358</td>\n",
       "      <td>36282</td>\n",
       "      <td>36291</td>\n",
       "      <td>50231</td>\n",
       "      <td>2333</td>\n",
       "    </tr>\n",
       "    <tr>\n",
       "      <th>16</th>\n",
       "      <td>16</td>\n",
       "      <td>20/08/2020</td>\n",
       "      <td>1312992</td>\n",
       "      <td>36634</td>\n",
       "      <td>37010</td>\n",
       "      <td>52199</td>\n",
       "      <td>1968</td>\n",
       "    </tr>\n",
       "    <tr>\n",
       "      <th>17</th>\n",
       "      <td>17</td>\n",
       "      <td>21/08/2020</td>\n",
       "      <td>1349071</td>\n",
       "      <td>36079</td>\n",
       "      <td>35825</td>\n",
       "      <td>54182</td>\n",
       "      <td>1983</td>\n",
       "    </tr>\n",
       "    <tr>\n",
       "      <th>18</th>\n",
       "      <td>18</td>\n",
       "      <td>22/08/2020</td>\n",
       "      <td>1386775</td>\n",
       "      <td>37704</td>\n",
       "      <td>37027</td>\n",
       "      <td>56354</td>\n",
       "      <td>2172</td>\n",
       "    </tr>\n",
       "    <tr>\n",
       "      <th>19</th>\n",
       "      <td>19</td>\n",
       "      <td>23/08/2020</td>\n",
       "      <td>142258</td>\n",
       "      <td>37583</td>\n",
       "      <td>36353</td>\n",
       "      <td>58262</td>\n",
       "      <td>1908</td>\n",
       "    </tr>\n",
       "    <tr>\n",
       "      <th>20</th>\n",
       "      <td>20</td>\n",
       "      <td>24/08/2020</td>\n",
       "      <td>1446380</td>\n",
       "      <td>23822</td>\n",
       "      <td>26186</td>\n",
       "      <td>59504</td>\n",
       "      <td>1242</td>\n",
       "    </tr>\n",
       "    <tr>\n",
       "      <th>21</th>\n",
       "      <td>21</td>\n",
       "      <td>25/08/2020</td>\n",
       "      <td>1484907</td>\n",
       "      <td>38527</td>\n",
       "      <td>34344</td>\n",
       "      <td>61879</td>\n",
       "      <td>2375</td>\n",
       "    </tr>\n",
       "    <tr>\n",
       "      <th>22</th>\n",
       "      <td>22</td>\n",
       "      <td>26/08/2020</td>\n",
       "      <td>1525792</td>\n",
       "      <td>40885</td>\n",
       "      <td>40352</td>\n",
       "      <td>64355</td>\n",
       "      <td>2476</td>\n",
       "    </tr>\n",
       "    <tr>\n",
       "      <th>23</th>\n",
       "      <td>23</td>\n",
       "      <td>27/08/2020</td>\n",
       "      <td>1525792</td>\n",
       "      <td>0</td>\n",
       "      <td>37873</td>\n",
       "      <td>66761</td>\n",
       "      <td>2406</td>\n",
       "    </tr>\n",
       "    <tr>\n",
       "      <th>24</th>\n",
       "      <td>24</td>\n",
       "      <td>28/08/2020</td>\n",
       "      <td>1608013</td>\n",
       "      <td>82221</td>\n",
       "      <td>41860</td>\n",
       "      <td>69304</td>\n",
       "      <td>2543</td>\n",
       "    </tr>\n",
       "    <tr>\n",
       "      <th>25</th>\n",
       "      <td>25</td>\n",
       "      <td>29/08/2020</td>\n",
       "      <td>1643633</td>\n",
       "      <td>35620</td>\n",
       "      <td>34988</td>\n",
       "      <td>71701</td>\n",
       "      <td>2397</td>\n",
       "    </tr>\n",
       "    <tr>\n",
       "      <th>26</th>\n",
       "      <td>26</td>\n",
       "      <td>30/08/2020</td>\n",
       "      <td>1669779</td>\n",
       "      <td>26146</td>\n",
       "      <td>27908</td>\n",
       "      <td>73855</td>\n",
       "      <td>2154</td>\n",
       "    </tr>\n",
       "    <tr>\n",
       "      <th>27</th>\n",
       "      <td>27</td>\n",
       "      <td>31/08/2020</td>\n",
       "      <td>1685203</td>\n",
       "      <td>15424</td>\n",
       "      <td>18027</td>\n",
       "      <td>75385</td>\n",
       "      <td>1530</td>\n",
       "    </tr>\n",
       "  </tbody>\n",
       "</table>\n",
       "</div>"
      ],
      "text/plain": [
       "    Unnamed: 0        Date  Total_Sent  Sent_On_Date  Proceed_In_24_Hr  \\\n",
       "0            0  04/08/2020      858960         24745             20087   \n",
       "1            1  05/08/2020      884056         25096             25096   \n",
       "2            2  06/08/2020      908355         24299             25205   \n",
       "3            3  07/08/2020      936651         28296             27608   \n",
       "4            4  08/08/2020      963632         26981             27714   \n",
       "5            5  09/08/2020      984208         20576             22745   \n",
       "6            6  10/08/2020     1000988         16780             20583   \n",
       "7            7  11/08/2020     1027433         26445             21625   \n",
       "8            8  12/08/2020     1056360         28927             28644   \n",
       "9            9  13/08/2020     1087722         31362             31270   \n",
       "10          10  14/08/2020     1120935         33213             31738   \n",
       "11          11  15/08/2020     1154365         33430             32108   \n",
       "12          12  16/08/2020     1182727         28362             30123   \n",
       "13          13  17/08/2020     1205759         23032             26150   \n",
       "14          14  18/08/2020     1240076         34317             29265   \n",
       "15          15  19/08/2020     1276358         36282             36291   \n",
       "16          16  20/08/2020     1312992         36634             37010   \n",
       "17          17  21/08/2020     1349071         36079             35825   \n",
       "18          18  22/08/2020     1386775         37704             37027   \n",
       "19          19  23/08/2020      142258         37583             36353   \n",
       "20          20  24/08/2020     1446380         23822             26186   \n",
       "21          21  25/08/2020     1484907         38527             34344   \n",
       "22          22  26/08/2020     1525792         40885             40352   \n",
       "23          23  27/08/2020     1525792             0             37873   \n",
       "24          24  28/08/2020     1608013         82221             41860   \n",
       "25          25  29/08/2020     1643633         35620             34988   \n",
       "26          26  30/08/2020     1669779         26146             27908   \n",
       "27          27  31/08/2020     1685203         15424             18027   \n",
       "\n",
       "    Total_Positive  New_Positive  \n",
       "0            27956          1083  \n",
       "1            29151          1195  \n",
       "2            30449          1298  \n",
       "3            31700          1251  \n",
       "4            33120          1420  \n",
       "5            34331          1211  \n",
       "6            35515          1184  \n",
       "7            36932          1417  \n",
       "8            38144          1212  \n",
       "9            39708          1564  \n",
       "10           41277          1569  \n",
       "11           42885          1608  \n",
       "12           44415          1530  \n",
       "13           46140          1725  \n",
       "14           47898          1758  \n",
       "15           50231          2333  \n",
       "16           52199          1968  \n",
       "17           54182          1983  \n",
       "18           56354          2172  \n",
       "19           58262          1908  \n",
       "20           59504          1242  \n",
       "21           61879          2375  \n",
       "22           64355          2476  \n",
       "23           66761          2406  \n",
       "24           69304          2543  \n",
       "25           71701          2397  \n",
       "26           73855          2154  \n",
       "27           75385          1530  "
      ]
     },
     "execution_count": 129,
     "metadata": {},
     "output_type": "execute_result"
    }
   ],
   "source": [
    "test_report = pd.read_csv('data/Analysis_Test_Results.csv')\n",
    "test_report"
   ]
  },
  {
   "cell_type": "code",
   "execution_count": 130,
   "metadata": {},
   "outputs": [],
   "source": [
    "file_path = 'data/Analysis_Test_Results.csv'\n",
    "#update_file(test_report,file_path)"
   ]
  },
  {
   "cell_type": "code",
   "execution_count": 131,
   "metadata": {},
   "outputs": [
    {
     "name": "stdout",
     "output_type": "stream",
     "text": [
      "Index(['Unnamed: 0', 'Date', 'Total_Sent', 'Sent_On_Date', 'Proceed_In_24_Hr',\n",
      "       'Total_Positive', 'New_Positive'],\n",
      "      dtype='object')\n",
      "is there any unwanted coumns ? (y/n)y\n",
      "Enter column name :Unnamed: 0\n"
     ]
    }
   ],
   "source": [
    "#check if there is unwanterd columns ?\n",
    "print(test_report.columns)\n",
    "inp = input(\"is there any unwanted coumns ? (y/n)\")\n",
    "if inp == 'y':\n",
    "    column_name =  input(\"Enter column name :\")\n",
    "    del test_report[column_name]\n",
    "    test_report.to_csv(file_path, index = True)"
   ]
  },
  {
   "cell_type": "code",
   "execution_count": 132,
   "metadata": {},
   "outputs": [
    {
     "name": "stdout",
     "output_type": "stream",
     "text": [
      "Do you have to update the data  : (y/n)n\n",
      "<class 'str'>\n",
      "hi\n",
      "Final : \n",
      "          Date  Total_Sent  Sent_On_Date  Proceed_In_24_Hr  Total_Positive  \\\n",
      "0   04/08/2020      858960         24745             20087           27956   \n",
      "1   05/08/2020      884056         25096             25096           29151   \n",
      "2   06/08/2020      908355         24299             25205           30449   \n",
      "3   07/08/2020      936651         28296             27608           31700   \n",
      "4   08/08/2020      963632         26981             27714           33120   \n",
      "5   09/08/2020      984208         20576             22745           34331   \n",
      "6   10/08/2020     1000988         16780             20583           35515   \n",
      "7   11/08/2020     1027433         26445             21625           36932   \n",
      "8   12/08/2020     1056360         28927             28644           38144   \n",
      "9   13/08/2020     1087722         31362             31270           39708   \n",
      "10  14/08/2020     1120935         33213             31738           41277   \n",
      "11  15/08/2020     1154365         33430             32108           42885   \n",
      "12  16/08/2020     1182727         28362             30123           44415   \n",
      "13  17/08/2020     1205759         23032             26150           46140   \n",
      "14  18/08/2020     1240076         34317             29265           47898   \n",
      "15  19/08/2020     1276358         36282             36291           50231   \n",
      "16  20/08/2020     1312992         36634             37010           52199   \n",
      "17  21/08/2020     1349071         36079             35825           54182   \n",
      "18  22/08/2020     1386775         37704             37027           56354   \n",
      "19  23/08/2020      142258         37583             36353           58262   \n",
      "20  24/08/2020     1446380         23822             26186           59504   \n",
      "21  25/08/2020     1484907         38527             34344           61879   \n",
      "22  26/08/2020     1525792         40885             40352           64355   \n",
      "23  27/08/2020     1525792             0             37873           66761   \n",
      "24  28/08/2020     1608013         82221             41860           69304   \n",
      "25  29/08/2020     1643633         35620             34988           71701   \n",
      "26  30/08/2020     1669779         26146             27908           73855   \n",
      "27  31/08/2020     1685203         15424             18027           75385   \n",
      "\n",
      "    New_Positive  \n",
      "0           1083  \n",
      "1           1195  \n",
      "2           1298  \n",
      "3           1251  \n",
      "4           1420  \n",
      "5           1211  \n",
      "6           1184  \n",
      "7           1417  \n",
      "8           1212  \n",
      "9           1564  \n",
      "10          1569  \n",
      "11          1608  \n",
      "12          1530  \n",
      "13          1725  \n",
      "14          1758  \n",
      "15          2333  \n",
      "16          1968  \n",
      "17          1983  \n",
      "18          2172  \n",
      "19          1908  \n",
      "20          1242  \n",
      "21          2375  \n",
      "22          2476  \n",
      "23          2406  \n",
      "24          2543  \n",
      "25          2397  \n",
      "26          2154  \n",
      "27          1530  \n",
      "Do you want to overwrite csv file : (y/n) n\n"
     ]
    }
   ],
   "source": [
    "update_file(test_report,file_path)\n"
   ]
  },
  {
   "cell_type": "code",
   "execution_count": 133,
   "metadata": {},
   "outputs": [
    {
     "data": {
      "text/html": [
       "<div>\n",
       "<style scoped>\n",
       "    .dataframe tbody tr th:only-of-type {\n",
       "        vertical-align: middle;\n",
       "    }\n",
       "\n",
       "    .dataframe tbody tr th {\n",
       "        vertical-align: top;\n",
       "    }\n",
       "\n",
       "    .dataframe thead th {\n",
       "        text-align: right;\n",
       "    }\n",
       "</style>\n",
       "<table border=\"1\" class=\"dataframe\">\n",
       "  <thead>\n",
       "    <tr style=\"text-align: right;\">\n",
       "      <th></th>\n",
       "      <th>Date</th>\n",
       "      <th>Total_Sent</th>\n",
       "      <th>Sent_On_Date</th>\n",
       "      <th>Proceed_In_24_Hr</th>\n",
       "      <th>Total_Positive</th>\n",
       "      <th>New_Positive</th>\n",
       "    </tr>\n",
       "  </thead>\n",
       "  <tbody>\n",
       "    <tr>\n",
       "      <th>0</th>\n",
       "      <td>04/08/2020</td>\n",
       "      <td>858960</td>\n",
       "      <td>24745</td>\n",
       "      <td>20087</td>\n",
       "      <td>27956</td>\n",
       "      <td>1083</td>\n",
       "    </tr>\n",
       "    <tr>\n",
       "      <th>1</th>\n",
       "      <td>05/08/2020</td>\n",
       "      <td>884056</td>\n",
       "      <td>25096</td>\n",
       "      <td>25096</td>\n",
       "      <td>29151</td>\n",
       "      <td>1195</td>\n",
       "    </tr>\n",
       "    <tr>\n",
       "      <th>2</th>\n",
       "      <td>06/08/2020</td>\n",
       "      <td>908355</td>\n",
       "      <td>24299</td>\n",
       "      <td>25205</td>\n",
       "      <td>30449</td>\n",
       "      <td>1298</td>\n",
       "    </tr>\n",
       "    <tr>\n",
       "      <th>3</th>\n",
       "      <td>07/08/2020</td>\n",
       "      <td>936651</td>\n",
       "      <td>28296</td>\n",
       "      <td>27608</td>\n",
       "      <td>31700</td>\n",
       "      <td>1251</td>\n",
       "    </tr>\n",
       "    <tr>\n",
       "      <th>4</th>\n",
       "      <td>08/08/2020</td>\n",
       "      <td>963632</td>\n",
       "      <td>26981</td>\n",
       "      <td>27714</td>\n",
       "      <td>33120</td>\n",
       "      <td>1420</td>\n",
       "    </tr>\n",
       "    <tr>\n",
       "      <th>5</th>\n",
       "      <td>09/08/2020</td>\n",
       "      <td>984208</td>\n",
       "      <td>20576</td>\n",
       "      <td>22745</td>\n",
       "      <td>34331</td>\n",
       "      <td>1211</td>\n",
       "    </tr>\n",
       "    <tr>\n",
       "      <th>6</th>\n",
       "      <td>10/08/2020</td>\n",
       "      <td>1000988</td>\n",
       "      <td>16780</td>\n",
       "      <td>20583</td>\n",
       "      <td>35515</td>\n",
       "      <td>1184</td>\n",
       "    </tr>\n",
       "    <tr>\n",
       "      <th>7</th>\n",
       "      <td>11/08/2020</td>\n",
       "      <td>1027433</td>\n",
       "      <td>26445</td>\n",
       "      <td>21625</td>\n",
       "      <td>36932</td>\n",
       "      <td>1417</td>\n",
       "    </tr>\n",
       "    <tr>\n",
       "      <th>8</th>\n",
       "      <td>12/08/2020</td>\n",
       "      <td>1056360</td>\n",
       "      <td>28927</td>\n",
       "      <td>28644</td>\n",
       "      <td>38144</td>\n",
       "      <td>1212</td>\n",
       "    </tr>\n",
       "    <tr>\n",
       "      <th>9</th>\n",
       "      <td>13/08/2020</td>\n",
       "      <td>1087722</td>\n",
       "      <td>31362</td>\n",
       "      <td>31270</td>\n",
       "      <td>39708</td>\n",
       "      <td>1564</td>\n",
       "    </tr>\n",
       "    <tr>\n",
       "      <th>10</th>\n",
       "      <td>14/08/2020</td>\n",
       "      <td>1120935</td>\n",
       "      <td>33213</td>\n",
       "      <td>31738</td>\n",
       "      <td>41277</td>\n",
       "      <td>1569</td>\n",
       "    </tr>\n",
       "    <tr>\n",
       "      <th>11</th>\n",
       "      <td>15/08/2020</td>\n",
       "      <td>1154365</td>\n",
       "      <td>33430</td>\n",
       "      <td>32108</td>\n",
       "      <td>42885</td>\n",
       "      <td>1608</td>\n",
       "    </tr>\n",
       "    <tr>\n",
       "      <th>12</th>\n",
       "      <td>16/08/2020</td>\n",
       "      <td>1182727</td>\n",
       "      <td>28362</td>\n",
       "      <td>30123</td>\n",
       "      <td>44415</td>\n",
       "      <td>1530</td>\n",
       "    </tr>\n",
       "    <tr>\n",
       "      <th>13</th>\n",
       "      <td>17/08/2020</td>\n",
       "      <td>1205759</td>\n",
       "      <td>23032</td>\n",
       "      <td>26150</td>\n",
       "      <td>46140</td>\n",
       "      <td>1725</td>\n",
       "    </tr>\n",
       "    <tr>\n",
       "      <th>14</th>\n",
       "      <td>18/08/2020</td>\n",
       "      <td>1240076</td>\n",
       "      <td>34317</td>\n",
       "      <td>29265</td>\n",
       "      <td>47898</td>\n",
       "      <td>1758</td>\n",
       "    </tr>\n",
       "    <tr>\n",
       "      <th>15</th>\n",
       "      <td>19/08/2020</td>\n",
       "      <td>1276358</td>\n",
       "      <td>36282</td>\n",
       "      <td>36291</td>\n",
       "      <td>50231</td>\n",
       "      <td>2333</td>\n",
       "    </tr>\n",
       "    <tr>\n",
       "      <th>16</th>\n",
       "      <td>20/08/2020</td>\n",
       "      <td>1312992</td>\n",
       "      <td>36634</td>\n",
       "      <td>37010</td>\n",
       "      <td>52199</td>\n",
       "      <td>1968</td>\n",
       "    </tr>\n",
       "    <tr>\n",
       "      <th>17</th>\n",
       "      <td>21/08/2020</td>\n",
       "      <td>1349071</td>\n",
       "      <td>36079</td>\n",
       "      <td>35825</td>\n",
       "      <td>54182</td>\n",
       "      <td>1983</td>\n",
       "    </tr>\n",
       "    <tr>\n",
       "      <th>18</th>\n",
       "      <td>22/08/2020</td>\n",
       "      <td>1386775</td>\n",
       "      <td>37704</td>\n",
       "      <td>37027</td>\n",
       "      <td>56354</td>\n",
       "      <td>2172</td>\n",
       "    </tr>\n",
       "    <tr>\n",
       "      <th>19</th>\n",
       "      <td>23/08/2020</td>\n",
       "      <td>142258</td>\n",
       "      <td>37583</td>\n",
       "      <td>36353</td>\n",
       "      <td>58262</td>\n",
       "      <td>1908</td>\n",
       "    </tr>\n",
       "    <tr>\n",
       "      <th>20</th>\n",
       "      <td>24/08/2020</td>\n",
       "      <td>1446380</td>\n",
       "      <td>23822</td>\n",
       "      <td>26186</td>\n",
       "      <td>59504</td>\n",
       "      <td>1242</td>\n",
       "    </tr>\n",
       "    <tr>\n",
       "      <th>21</th>\n",
       "      <td>25/08/2020</td>\n",
       "      <td>1484907</td>\n",
       "      <td>38527</td>\n",
       "      <td>34344</td>\n",
       "      <td>61879</td>\n",
       "      <td>2375</td>\n",
       "    </tr>\n",
       "    <tr>\n",
       "      <th>22</th>\n",
       "      <td>26/08/2020</td>\n",
       "      <td>1525792</td>\n",
       "      <td>40885</td>\n",
       "      <td>40352</td>\n",
       "      <td>64355</td>\n",
       "      <td>2476</td>\n",
       "    </tr>\n",
       "    <tr>\n",
       "      <th>23</th>\n",
       "      <td>27/08/2020</td>\n",
       "      <td>1525792</td>\n",
       "      <td>0</td>\n",
       "      <td>37873</td>\n",
       "      <td>66761</td>\n",
       "      <td>2406</td>\n",
       "    </tr>\n",
       "    <tr>\n",
       "      <th>24</th>\n",
       "      <td>28/08/2020</td>\n",
       "      <td>1608013</td>\n",
       "      <td>82221</td>\n",
       "      <td>41860</td>\n",
       "      <td>69304</td>\n",
       "      <td>2543</td>\n",
       "    </tr>\n",
       "    <tr>\n",
       "      <th>25</th>\n",
       "      <td>29/08/2020</td>\n",
       "      <td>1643633</td>\n",
       "      <td>35620</td>\n",
       "      <td>34988</td>\n",
       "      <td>71701</td>\n",
       "      <td>2397</td>\n",
       "    </tr>\n",
       "    <tr>\n",
       "      <th>26</th>\n",
       "      <td>30/08/2020</td>\n",
       "      <td>1669779</td>\n",
       "      <td>26146</td>\n",
       "      <td>27908</td>\n",
       "      <td>73855</td>\n",
       "      <td>2154</td>\n",
       "    </tr>\n",
       "    <tr>\n",
       "      <th>27</th>\n",
       "      <td>31/08/2020</td>\n",
       "      <td>1685203</td>\n",
       "      <td>15424</td>\n",
       "      <td>18027</td>\n",
       "      <td>75385</td>\n",
       "      <td>1530</td>\n",
       "    </tr>\n",
       "  </tbody>\n",
       "</table>\n",
       "</div>"
      ],
      "text/plain": [
       "          Date  Total_Sent  Sent_On_Date  Proceed_In_24_Hr  Total_Positive  \\\n",
       "0   04/08/2020      858960         24745             20087           27956   \n",
       "1   05/08/2020      884056         25096             25096           29151   \n",
       "2   06/08/2020      908355         24299             25205           30449   \n",
       "3   07/08/2020      936651         28296             27608           31700   \n",
       "4   08/08/2020      963632         26981             27714           33120   \n",
       "5   09/08/2020      984208         20576             22745           34331   \n",
       "6   10/08/2020     1000988         16780             20583           35515   \n",
       "7   11/08/2020     1027433         26445             21625           36932   \n",
       "8   12/08/2020     1056360         28927             28644           38144   \n",
       "9   13/08/2020     1087722         31362             31270           39708   \n",
       "10  14/08/2020     1120935         33213             31738           41277   \n",
       "11  15/08/2020     1154365         33430             32108           42885   \n",
       "12  16/08/2020     1182727         28362             30123           44415   \n",
       "13  17/08/2020     1205759         23032             26150           46140   \n",
       "14  18/08/2020     1240076         34317             29265           47898   \n",
       "15  19/08/2020     1276358         36282             36291           50231   \n",
       "16  20/08/2020     1312992         36634             37010           52199   \n",
       "17  21/08/2020     1349071         36079             35825           54182   \n",
       "18  22/08/2020     1386775         37704             37027           56354   \n",
       "19  23/08/2020      142258         37583             36353           58262   \n",
       "20  24/08/2020     1446380         23822             26186           59504   \n",
       "21  25/08/2020     1484907         38527             34344           61879   \n",
       "22  26/08/2020     1525792         40885             40352           64355   \n",
       "23  27/08/2020     1525792             0             37873           66761   \n",
       "24  28/08/2020     1608013         82221             41860           69304   \n",
       "25  29/08/2020     1643633         35620             34988           71701   \n",
       "26  30/08/2020     1669779         26146             27908           73855   \n",
       "27  31/08/2020     1685203         15424             18027           75385   \n",
       "\n",
       "    New_Positive  \n",
       "0           1083  \n",
       "1           1195  \n",
       "2           1298  \n",
       "3           1251  \n",
       "4           1420  \n",
       "5           1211  \n",
       "6           1184  \n",
       "7           1417  \n",
       "8           1212  \n",
       "9           1564  \n",
       "10          1569  \n",
       "11          1608  \n",
       "12          1530  \n",
       "13          1725  \n",
       "14          1758  \n",
       "15          2333  \n",
       "16          1968  \n",
       "17          1983  \n",
       "18          2172  \n",
       "19          1908  \n",
       "20          1242  \n",
       "21          2375  \n",
       "22          2476  \n",
       "23          2406  \n",
       "24          2543  \n",
       "25          2397  \n",
       "26          2154  \n",
       "27          1530  "
      ]
     },
     "execution_count": 133,
     "metadata": {},
     "output_type": "execute_result"
    }
   ],
   "source": [
    "#test_report = pd.read_csv('data/Analysis_Test_Results.csv')\n",
    "test_report"
   ]
  },
  {
   "cell_type": "markdown",
   "metadata": {},
   "source": [
    "## Trying to train the data "
   ]
  },
  {
   "cell_type": "code",
   "execution_count": 8,
   "metadata": {},
   "outputs": [],
   "source": [
    "from sklearn.model_selection import train_test_split\n",
    "from sklearn.linear_model import LinearRegression\n",
    "from sklearn.model_selection import train_test_split\n",
    "from sklearn import metrics"
   ]
  },
  {
   "cell_type": "code",
   "execution_count": 9,
   "metadata": {},
   "outputs": [],
   "source": [
    "features = test_report[['Total_Sent', 'Sent_On_Date', 'Proceed_In_24_Hr', 'Total_Positive']]\n",
    "label = test_report[['New_Positive']]"
   ]
  },
  {
   "cell_type": "code",
   "execution_count": 10,
   "metadata": {},
   "outputs": [
    {
     "data": {
      "text/html": [
       "<div>\n",
       "<style scoped>\n",
       "    .dataframe tbody tr th:only-of-type {\n",
       "        vertical-align: middle;\n",
       "    }\n",
       "\n",
       "    .dataframe tbody tr th {\n",
       "        vertical-align: top;\n",
       "    }\n",
       "\n",
       "    .dataframe thead th {\n",
       "        text-align: right;\n",
       "    }\n",
       "</style>\n",
       "<table border=\"1\" class=\"dataframe\">\n",
       "  <thead>\n",
       "    <tr style=\"text-align: right;\">\n",
       "      <th></th>\n",
       "      <th>Total_Sent</th>\n",
       "      <th>Sent_On_Date</th>\n",
       "      <th>Proceed_In_24_Hr</th>\n",
       "      <th>Total_Positive</th>\n",
       "    </tr>\n",
       "  </thead>\n",
       "  <tbody>\n",
       "    <tr>\n",
       "      <th>0</th>\n",
       "      <td>858960</td>\n",
       "      <td>24745</td>\n",
       "      <td>20087</td>\n",
       "      <td>27956</td>\n",
       "    </tr>\n",
       "    <tr>\n",
       "      <th>1</th>\n",
       "      <td>884056</td>\n",
       "      <td>25096</td>\n",
       "      <td>25096</td>\n",
       "      <td>29151</td>\n",
       "    </tr>\n",
       "    <tr>\n",
       "      <th>2</th>\n",
       "      <td>908355</td>\n",
       "      <td>24299</td>\n",
       "      <td>25205</td>\n",
       "      <td>30449</td>\n",
       "    </tr>\n",
       "    <tr>\n",
       "      <th>3</th>\n",
       "      <td>936651</td>\n",
       "      <td>28296</td>\n",
       "      <td>27608</td>\n",
       "      <td>31700</td>\n",
       "    </tr>\n",
       "    <tr>\n",
       "      <th>4</th>\n",
       "      <td>963632</td>\n",
       "      <td>26981</td>\n",
       "      <td>27714</td>\n",
       "      <td>33120</td>\n",
       "    </tr>\n",
       "    <tr>\n",
       "      <th>5</th>\n",
       "      <td>984208</td>\n",
       "      <td>20576</td>\n",
       "      <td>22745</td>\n",
       "      <td>34331</td>\n",
       "    </tr>\n",
       "    <tr>\n",
       "      <th>6</th>\n",
       "      <td>1000988</td>\n",
       "      <td>16780</td>\n",
       "      <td>20583</td>\n",
       "      <td>35515</td>\n",
       "    </tr>\n",
       "    <tr>\n",
       "      <th>7</th>\n",
       "      <td>1027433</td>\n",
       "      <td>26445</td>\n",
       "      <td>21625</td>\n",
       "      <td>36932</td>\n",
       "    </tr>\n",
       "    <tr>\n",
       "      <th>8</th>\n",
       "      <td>1056360</td>\n",
       "      <td>28927</td>\n",
       "      <td>28644</td>\n",
       "      <td>38144</td>\n",
       "    </tr>\n",
       "    <tr>\n",
       "      <th>9</th>\n",
       "      <td>1087722</td>\n",
       "      <td>31362</td>\n",
       "      <td>31270</td>\n",
       "      <td>39708</td>\n",
       "    </tr>\n",
       "    <tr>\n",
       "      <th>10</th>\n",
       "      <td>1120935</td>\n",
       "      <td>33213</td>\n",
       "      <td>31738</td>\n",
       "      <td>41277</td>\n",
       "    </tr>\n",
       "    <tr>\n",
       "      <th>11</th>\n",
       "      <td>1154365</td>\n",
       "      <td>33430</td>\n",
       "      <td>32108</td>\n",
       "      <td>42885</td>\n",
       "    </tr>\n",
       "    <tr>\n",
       "      <th>12</th>\n",
       "      <td>1182727</td>\n",
       "      <td>28362</td>\n",
       "      <td>30123</td>\n",
       "      <td>44415</td>\n",
       "    </tr>\n",
       "    <tr>\n",
       "      <th>13</th>\n",
       "      <td>1205759</td>\n",
       "      <td>23032</td>\n",
       "      <td>26150</td>\n",
       "      <td>46140</td>\n",
       "    </tr>\n",
       "    <tr>\n",
       "      <th>14</th>\n",
       "      <td>1240076</td>\n",
       "      <td>34317</td>\n",
       "      <td>29265</td>\n",
       "      <td>47898</td>\n",
       "    </tr>\n",
       "    <tr>\n",
       "      <th>15</th>\n",
       "      <td>1276358</td>\n",
       "      <td>36282</td>\n",
       "      <td>36291</td>\n",
       "      <td>50231</td>\n",
       "    </tr>\n",
       "    <tr>\n",
       "      <th>16</th>\n",
       "      <td>1312992</td>\n",
       "      <td>36634</td>\n",
       "      <td>37010</td>\n",
       "      <td>52199</td>\n",
       "    </tr>\n",
       "    <tr>\n",
       "      <th>17</th>\n",
       "      <td>1349071</td>\n",
       "      <td>36079</td>\n",
       "      <td>35825</td>\n",
       "      <td>54182</td>\n",
       "    </tr>\n",
       "    <tr>\n",
       "      <th>18</th>\n",
       "      <td>1386775</td>\n",
       "      <td>37704</td>\n",
       "      <td>37027</td>\n",
       "      <td>56354</td>\n",
       "    </tr>\n",
       "    <tr>\n",
       "      <th>19</th>\n",
       "      <td>142258</td>\n",
       "      <td>37583</td>\n",
       "      <td>36353</td>\n",
       "      <td>58262</td>\n",
       "    </tr>\n",
       "    <tr>\n",
       "      <th>20</th>\n",
       "      <td>1446380</td>\n",
       "      <td>23822</td>\n",
       "      <td>26186</td>\n",
       "      <td>59504</td>\n",
       "    </tr>\n",
       "    <tr>\n",
       "      <th>21</th>\n",
       "      <td>1484907</td>\n",
       "      <td>38527</td>\n",
       "      <td>34344</td>\n",
       "      <td>61879</td>\n",
       "    </tr>\n",
       "    <tr>\n",
       "      <th>22</th>\n",
       "      <td>1525792</td>\n",
       "      <td>40885</td>\n",
       "      <td>40352</td>\n",
       "      <td>64355</td>\n",
       "    </tr>\n",
       "    <tr>\n",
       "      <th>23</th>\n",
       "      <td>1525792</td>\n",
       "      <td>0</td>\n",
       "      <td>37873</td>\n",
       "      <td>66761</td>\n",
       "    </tr>\n",
       "    <tr>\n",
       "      <th>24</th>\n",
       "      <td>1608013</td>\n",
       "      <td>82221</td>\n",
       "      <td>41860</td>\n",
       "      <td>69304</td>\n",
       "    </tr>\n",
       "    <tr>\n",
       "      <th>25</th>\n",
       "      <td>1643633</td>\n",
       "      <td>35620</td>\n",
       "      <td>34988</td>\n",
       "      <td>71701</td>\n",
       "    </tr>\n",
       "    <tr>\n",
       "      <th>26</th>\n",
       "      <td>1669779</td>\n",
       "      <td>26146</td>\n",
       "      <td>27908</td>\n",
       "      <td>73855</td>\n",
       "    </tr>\n",
       "    <tr>\n",
       "      <th>27</th>\n",
       "      <td>1685203</td>\n",
       "      <td>15424</td>\n",
       "      <td>18027</td>\n",
       "      <td>75385</td>\n",
       "    </tr>\n",
       "  </tbody>\n",
       "</table>\n",
       "</div>"
      ],
      "text/plain": [
       "    Total_Sent  Sent_On_Date  Proceed_In_24_Hr  Total_Positive\n",
       "0       858960         24745             20087           27956\n",
       "1       884056         25096             25096           29151\n",
       "2       908355         24299             25205           30449\n",
       "3       936651         28296             27608           31700\n",
       "4       963632         26981             27714           33120\n",
       "5       984208         20576             22745           34331\n",
       "6      1000988         16780             20583           35515\n",
       "7      1027433         26445             21625           36932\n",
       "8      1056360         28927             28644           38144\n",
       "9      1087722         31362             31270           39708\n",
       "10     1120935         33213             31738           41277\n",
       "11     1154365         33430             32108           42885\n",
       "12     1182727         28362             30123           44415\n",
       "13     1205759         23032             26150           46140\n",
       "14     1240076         34317             29265           47898\n",
       "15     1276358         36282             36291           50231\n",
       "16     1312992         36634             37010           52199\n",
       "17     1349071         36079             35825           54182\n",
       "18     1386775         37704             37027           56354\n",
       "19      142258         37583             36353           58262\n",
       "20     1446380         23822             26186           59504\n",
       "21     1484907         38527             34344           61879\n",
       "22     1525792         40885             40352           64355\n",
       "23     1525792             0             37873           66761\n",
       "24     1608013         82221             41860           69304\n",
       "25     1643633         35620             34988           71701\n",
       "26     1669779         26146             27908           73855\n",
       "27     1685203         15424             18027           75385"
      ]
     },
     "execution_count": 10,
     "metadata": {},
     "output_type": "execute_result"
    }
   ],
   "source": [
    "features"
   ]
  },
  {
   "cell_type": "code",
   "execution_count": 11,
   "metadata": {},
   "outputs": [
    {
     "data": {
      "text/html": [
       "<div>\n",
       "<style scoped>\n",
       "    .dataframe tbody tr th:only-of-type {\n",
       "        vertical-align: middle;\n",
       "    }\n",
       "\n",
       "    .dataframe tbody tr th {\n",
       "        vertical-align: top;\n",
       "    }\n",
       "\n",
       "    .dataframe thead th {\n",
       "        text-align: right;\n",
       "    }\n",
       "</style>\n",
       "<table border=\"1\" class=\"dataframe\">\n",
       "  <thead>\n",
       "    <tr style=\"text-align: right;\">\n",
       "      <th></th>\n",
       "      <th>New_Positive</th>\n",
       "    </tr>\n",
       "  </thead>\n",
       "  <tbody>\n",
       "    <tr>\n",
       "      <th>0</th>\n",
       "      <td>1083</td>\n",
       "    </tr>\n",
       "    <tr>\n",
       "      <th>1</th>\n",
       "      <td>1195</td>\n",
       "    </tr>\n",
       "    <tr>\n",
       "      <th>2</th>\n",
       "      <td>1298</td>\n",
       "    </tr>\n",
       "    <tr>\n",
       "      <th>3</th>\n",
       "      <td>1251</td>\n",
       "    </tr>\n",
       "    <tr>\n",
       "      <th>4</th>\n",
       "      <td>1420</td>\n",
       "    </tr>\n",
       "    <tr>\n",
       "      <th>5</th>\n",
       "      <td>1211</td>\n",
       "    </tr>\n",
       "    <tr>\n",
       "      <th>6</th>\n",
       "      <td>1184</td>\n",
       "    </tr>\n",
       "    <tr>\n",
       "      <th>7</th>\n",
       "      <td>1417</td>\n",
       "    </tr>\n",
       "    <tr>\n",
       "      <th>8</th>\n",
       "      <td>1212</td>\n",
       "    </tr>\n",
       "    <tr>\n",
       "      <th>9</th>\n",
       "      <td>1564</td>\n",
       "    </tr>\n",
       "    <tr>\n",
       "      <th>10</th>\n",
       "      <td>1569</td>\n",
       "    </tr>\n",
       "    <tr>\n",
       "      <th>11</th>\n",
       "      <td>1608</td>\n",
       "    </tr>\n",
       "    <tr>\n",
       "      <th>12</th>\n",
       "      <td>1530</td>\n",
       "    </tr>\n",
       "    <tr>\n",
       "      <th>13</th>\n",
       "      <td>1725</td>\n",
       "    </tr>\n",
       "    <tr>\n",
       "      <th>14</th>\n",
       "      <td>1758</td>\n",
       "    </tr>\n",
       "    <tr>\n",
       "      <th>15</th>\n",
       "      <td>2333</td>\n",
       "    </tr>\n",
       "    <tr>\n",
       "      <th>16</th>\n",
       "      <td>1968</td>\n",
       "    </tr>\n",
       "    <tr>\n",
       "      <th>17</th>\n",
       "      <td>1983</td>\n",
       "    </tr>\n",
       "    <tr>\n",
       "      <th>18</th>\n",
       "      <td>2172</td>\n",
       "    </tr>\n",
       "    <tr>\n",
       "      <th>19</th>\n",
       "      <td>1908</td>\n",
       "    </tr>\n",
       "    <tr>\n",
       "      <th>20</th>\n",
       "      <td>1242</td>\n",
       "    </tr>\n",
       "    <tr>\n",
       "      <th>21</th>\n",
       "      <td>2375</td>\n",
       "    </tr>\n",
       "    <tr>\n",
       "      <th>22</th>\n",
       "      <td>2476</td>\n",
       "    </tr>\n",
       "    <tr>\n",
       "      <th>23</th>\n",
       "      <td>2406</td>\n",
       "    </tr>\n",
       "    <tr>\n",
       "      <th>24</th>\n",
       "      <td>2543</td>\n",
       "    </tr>\n",
       "    <tr>\n",
       "      <th>25</th>\n",
       "      <td>2397</td>\n",
       "    </tr>\n",
       "    <tr>\n",
       "      <th>26</th>\n",
       "      <td>2154</td>\n",
       "    </tr>\n",
       "    <tr>\n",
       "      <th>27</th>\n",
       "      <td>1530</td>\n",
       "    </tr>\n",
       "  </tbody>\n",
       "</table>\n",
       "</div>"
      ],
      "text/plain": [
       "    New_Positive\n",
       "0           1083\n",
       "1           1195\n",
       "2           1298\n",
       "3           1251\n",
       "4           1420\n",
       "5           1211\n",
       "6           1184\n",
       "7           1417\n",
       "8           1212\n",
       "9           1564\n",
       "10          1569\n",
       "11          1608\n",
       "12          1530\n",
       "13          1725\n",
       "14          1758\n",
       "15          2333\n",
       "16          1968\n",
       "17          1983\n",
       "18          2172\n",
       "19          1908\n",
       "20          1242\n",
       "21          2375\n",
       "22          2476\n",
       "23          2406\n",
       "24          2543\n",
       "25          2397\n",
       "26          2154\n",
       "27          1530"
      ]
     },
     "execution_count": 11,
     "metadata": {},
     "output_type": "execute_result"
    }
   ],
   "source": [
    "label"
   ]
  },
  {
   "cell_type": "code",
   "execution_count": 12,
   "metadata": {
    "scrolled": true
   },
   "outputs": [
    {
     "data": {
      "text/html": [
       "<style  type=\"text/css\" >\n",
       "    #T_4cacc08a_ec4b_11ea_b352_507b9d5f0fd7row0_col0 {\n",
       "            background-color:  #023858;\n",
       "            color:  #f1f1f1;\n",
       "        }    #T_4cacc08a_ec4b_11ea_b352_507b9d5f0fd7row0_col1 {\n",
       "            background-color:  #fff7fb;\n",
       "            color:  #000000;\n",
       "        }    #T_4cacc08a_ec4b_11ea_b352_507b9d5f0fd7row0_col2 {\n",
       "            background-color:  #fff7fb;\n",
       "            color:  #000000;\n",
       "        }    #T_4cacc08a_ec4b_11ea_b352_507b9d5f0fd7row0_col3 {\n",
       "            background-color:  #4496c3;\n",
       "            color:  #000000;\n",
       "        }    #T_4cacc08a_ec4b_11ea_b352_507b9d5f0fd7row1_col0 {\n",
       "            background-color:  #fff7fb;\n",
       "            color:  #000000;\n",
       "        }    #T_4cacc08a_ec4b_11ea_b352_507b9d5f0fd7row1_col1 {\n",
       "            background-color:  #023858;\n",
       "            color:  #f1f1f1;\n",
       "        }    #T_4cacc08a_ec4b_11ea_b352_507b9d5f0fd7row1_col2 {\n",
       "            background-color:  #8eb3d5;\n",
       "            color:  #000000;\n",
       "        }    #T_4cacc08a_ec4b_11ea_b352_507b9d5f0fd7row1_col3 {\n",
       "            background-color:  #fff7fb;\n",
       "            color:  #000000;\n",
       "        }    #T_4cacc08a_ec4b_11ea_b352_507b9d5f0fd7row2_col0 {\n",
       "            background-color:  #e7e3f0;\n",
       "            color:  #000000;\n",
       "        }    #T_4cacc08a_ec4b_11ea_b352_507b9d5f0fd7row2_col1 {\n",
       "            background-color:  #69a5cc;\n",
       "            color:  #000000;\n",
       "        }    #T_4cacc08a_ec4b_11ea_b352_507b9d5f0fd7row2_col2 {\n",
       "            background-color:  #023858;\n",
       "            color:  #f1f1f1;\n",
       "        }    #T_4cacc08a_ec4b_11ea_b352_507b9d5f0fd7row2_col3 {\n",
       "            background-color:  #b5c4df;\n",
       "            color:  #000000;\n",
       "        }    #T_4cacc08a_ec4b_11ea_b352_507b9d5f0fd7row3_col0 {\n",
       "            background-color:  #2d8abd;\n",
       "            color:  #000000;\n",
       "        }    #T_4cacc08a_ec4b_11ea_b352_507b9d5f0fd7row3_col1 {\n",
       "            background-color:  #ece7f2;\n",
       "            color:  #000000;\n",
       "        }    #T_4cacc08a_ec4b_11ea_b352_507b9d5f0fd7row3_col2 {\n",
       "            background-color:  #bcc7e1;\n",
       "            color:  #000000;\n",
       "        }    #T_4cacc08a_ec4b_11ea_b352_507b9d5f0fd7row3_col3 {\n",
       "            background-color:  #023858;\n",
       "            color:  #f1f1f1;\n",
       "        }</style><table id=\"T_4cacc08a_ec4b_11ea_b352_507b9d5f0fd7\" ><thead>    <tr>        <th class=\"blank level0\" ></th>        <th class=\"col_heading level0 col0\" >Total_Sent</th>        <th class=\"col_heading level0 col1\" >Sent_On_Date</th>        <th class=\"col_heading level0 col2\" >Proceed_In_24_Hr</th>        <th class=\"col_heading level0 col3\" >Total_Positive</th>    </tr></thead><tbody>\n",
       "                <tr>\n",
       "                        <th id=\"T_4cacc08a_ec4b_11ea_b352_507b9d5f0fd7level0_row0\" class=\"row_heading level0 row0\" >Total_Sent</th>\n",
       "                        <td id=\"T_4cacc08a_ec4b_11ea_b352_507b9d5f0fd7row0_col0\" class=\"data row0 col0\" >1.000000</td>\n",
       "                        <td id=\"T_4cacc08a_ec4b_11ea_b352_507b9d5f0fd7row0_col1\" class=\"data row0 col1\" >0.136820</td>\n",
       "                        <td id=\"T_4cacc08a_ec4b_11ea_b352_507b9d5f0fd7row0_col2\" class=\"data row0 col2\" >0.266981</td>\n",
       "                        <td id=\"T_4cacc08a_ec4b_11ea_b352_507b9d5f0fd7row0_col3\" class=\"data row0 col3\" >0.694240</td>\n",
       "            </tr>\n",
       "            <tr>\n",
       "                        <th id=\"T_4cacc08a_ec4b_11ea_b352_507b9d5f0fd7level0_row1\" class=\"row_heading level0 row1\" >Sent_On_Date</th>\n",
       "                        <td id=\"T_4cacc08a_ec4b_11ea_b352_507b9d5f0fd7row1_col0\" class=\"data row1 col0\" >0.136820</td>\n",
       "                        <td id=\"T_4cacc08a_ec4b_11ea_b352_507b9d5f0fd7row1_col1\" class=\"data row1 col1\" >1.000000</td>\n",
       "                        <td id=\"T_4cacc08a_ec4b_11ea_b352_507b9d5f0fd7row1_col2\" class=\"data row1 col2\" >0.587636</td>\n",
       "                        <td id=\"T_4cacc08a_ec4b_11ea_b352_507b9d5f0fd7row1_col3\" class=\"data row1 col3\" >0.244835</td>\n",
       "            </tr>\n",
       "            <tr>\n",
       "                        <th id=\"T_4cacc08a_ec4b_11ea_b352_507b9d5f0fd7level0_row2\" class=\"row_heading level0 row2\" >Proceed_In_24_Hr</th>\n",
       "                        <td id=\"T_4cacc08a_ec4b_11ea_b352_507b9d5f0fd7row2_col0\" class=\"data row2 col0\" >0.266981</td>\n",
       "                        <td id=\"T_4cacc08a_ec4b_11ea_b352_507b9d5f0fd7row2_col1\" class=\"data row2 col1\" >0.587636</td>\n",
       "                        <td id=\"T_4cacc08a_ec4b_11ea_b352_507b9d5f0fd7row2_col2\" class=\"data row2 col2\" >1.000000</td>\n",
       "                        <td id=\"T_4cacc08a_ec4b_11ea_b352_507b9d5f0fd7row2_col3\" class=\"data row2 col3\" >0.494202</td>\n",
       "            </tr>\n",
       "            <tr>\n",
       "                        <th id=\"T_4cacc08a_ec4b_11ea_b352_507b9d5f0fd7level0_row3\" class=\"row_heading level0 row3\" >Total_Positive</th>\n",
       "                        <td id=\"T_4cacc08a_ec4b_11ea_b352_507b9d5f0fd7row3_col0\" class=\"data row3 col0\" >0.694240</td>\n",
       "                        <td id=\"T_4cacc08a_ec4b_11ea_b352_507b9d5f0fd7row3_col1\" class=\"data row3 col1\" >0.244835</td>\n",
       "                        <td id=\"T_4cacc08a_ec4b_11ea_b352_507b9d5f0fd7row3_col2\" class=\"data row3 col2\" >0.494202</td>\n",
       "                        <td id=\"T_4cacc08a_ec4b_11ea_b352_507b9d5f0fd7row3_col3\" class=\"data row3 col3\" >1.000000</td>\n",
       "            </tr>\n",
       "    </tbody></table>"
      ],
      "text/plain": [
       "<pandas.io.formats.style.Styler at 0x1c6fe22f2c8>"
      ]
     },
     "execution_count": 12,
     "metadata": {},
     "output_type": "execute_result"
    }
   ],
   "source": [
    "# Create a correlation matrix\n",
    "corr_metrics = features.corr()\n",
    "corr_metrics.style.background_gradient()"
   ]
  },
  {
   "cell_type": "code",
   "execution_count": 13,
   "metadata": {},
   "outputs": [],
   "source": [
    "# features = test_report[['Sent_On_Date', 'Proceed_In_24_Hr']]\n",
    "# label = test_report[['New_Positive']]"
   ]
  },
  {
   "cell_type": "code",
   "execution_count": 14,
   "metadata": {},
   "outputs": [
    {
     "data": {
      "text/plain": [
       "pandas.core.frame.DataFrame"
      ]
     },
     "execution_count": 14,
     "metadata": {},
     "output_type": "execute_result"
    }
   ],
   "source": [
    "type(features)"
   ]
  },
  {
   "cell_type": "code",
   "execution_count": 15,
   "metadata": {},
   "outputs": [],
   "source": [
    "x_train,x_test,y_train,y_test = train_test_split(features,label,test_size = 0.3,random_state=42)"
   ]
  },
  {
   "cell_type": "code",
   "execution_count": 16,
   "metadata": {},
   "outputs": [
    {
     "data": {
      "text/html": [
       "<div>\n",
       "<style scoped>\n",
       "    .dataframe tbody tr th:only-of-type {\n",
       "        vertical-align: middle;\n",
       "    }\n",
       "\n",
       "    .dataframe tbody tr th {\n",
       "        vertical-align: top;\n",
       "    }\n",
       "\n",
       "    .dataframe thead th {\n",
       "        text-align: right;\n",
       "    }\n",
       "</style>\n",
       "<table border=\"1\" class=\"dataframe\">\n",
       "  <thead>\n",
       "    <tr style=\"text-align: right;\">\n",
       "      <th></th>\n",
       "      <th>Total_Sent</th>\n",
       "      <th>Sent_On_Date</th>\n",
       "      <th>Proceed_In_24_Hr</th>\n",
       "      <th>Total_Positive</th>\n",
       "    </tr>\n",
       "  </thead>\n",
       "  <tbody>\n",
       "    <tr>\n",
       "      <th>13</th>\n",
       "      <td>1205759</td>\n",
       "      <td>23032</td>\n",
       "      <td>26150</td>\n",
       "      <td>46140</td>\n",
       "    </tr>\n",
       "    <tr>\n",
       "      <th>15</th>\n",
       "      <td>1276358</td>\n",
       "      <td>36282</td>\n",
       "      <td>36291</td>\n",
       "      <td>50231</td>\n",
       "    </tr>\n",
       "    <tr>\n",
       "      <th>1</th>\n",
       "      <td>884056</td>\n",
       "      <td>25096</td>\n",
       "      <td>25096</td>\n",
       "      <td>29151</td>\n",
       "    </tr>\n",
       "    <tr>\n",
       "      <th>4</th>\n",
       "      <td>963632</td>\n",
       "      <td>26981</td>\n",
       "      <td>27714</td>\n",
       "      <td>33120</td>\n",
       "    </tr>\n",
       "    <tr>\n",
       "      <th>5</th>\n",
       "      <td>984208</td>\n",
       "      <td>20576</td>\n",
       "      <td>22745</td>\n",
       "      <td>34331</td>\n",
       "    </tr>\n",
       "    <tr>\n",
       "      <th>2</th>\n",
       "      <td>908355</td>\n",
       "      <td>24299</td>\n",
       "      <td>25205</td>\n",
       "      <td>30449</td>\n",
       "    </tr>\n",
       "    <tr>\n",
       "      <th>16</th>\n",
       "      <td>1312992</td>\n",
       "      <td>36634</td>\n",
       "      <td>37010</td>\n",
       "      <td>52199</td>\n",
       "    </tr>\n",
       "    <tr>\n",
       "      <th>23</th>\n",
       "      <td>1525792</td>\n",
       "      <td>0</td>\n",
       "      <td>37873</td>\n",
       "      <td>66761</td>\n",
       "    </tr>\n",
       "    <tr>\n",
       "      <th>3</th>\n",
       "      <td>936651</td>\n",
       "      <td>28296</td>\n",
       "      <td>27608</td>\n",
       "      <td>31700</td>\n",
       "    </tr>\n",
       "    <tr>\n",
       "      <th>26</th>\n",
       "      <td>1669779</td>\n",
       "      <td>26146</td>\n",
       "      <td>27908</td>\n",
       "      <td>73855</td>\n",
       "    </tr>\n",
       "    <tr>\n",
       "      <th>24</th>\n",
       "      <td>1608013</td>\n",
       "      <td>82221</td>\n",
       "      <td>41860</td>\n",
       "      <td>69304</td>\n",
       "    </tr>\n",
       "    <tr>\n",
       "      <th>18</th>\n",
       "      <td>1386775</td>\n",
       "      <td>37704</td>\n",
       "      <td>37027</td>\n",
       "      <td>56354</td>\n",
       "    </tr>\n",
       "    <tr>\n",
       "      <th>27</th>\n",
       "      <td>1685203</td>\n",
       "      <td>15424</td>\n",
       "      <td>18027</td>\n",
       "      <td>75385</td>\n",
       "    </tr>\n",
       "    <tr>\n",
       "      <th>20</th>\n",
       "      <td>1446380</td>\n",
       "      <td>23822</td>\n",
       "      <td>26186</td>\n",
       "      <td>59504</td>\n",
       "    </tr>\n",
       "    <tr>\n",
       "      <th>7</th>\n",
       "      <td>1027433</td>\n",
       "      <td>26445</td>\n",
       "      <td>21625</td>\n",
       "      <td>36932</td>\n",
       "    </tr>\n",
       "    <tr>\n",
       "      <th>10</th>\n",
       "      <td>1120935</td>\n",
       "      <td>33213</td>\n",
       "      <td>31738</td>\n",
       "      <td>41277</td>\n",
       "    </tr>\n",
       "    <tr>\n",
       "      <th>14</th>\n",
       "      <td>1240076</td>\n",
       "      <td>34317</td>\n",
       "      <td>29265</td>\n",
       "      <td>47898</td>\n",
       "    </tr>\n",
       "    <tr>\n",
       "      <th>19</th>\n",
       "      <td>142258</td>\n",
       "      <td>37583</td>\n",
       "      <td>36353</td>\n",
       "      <td>58262</td>\n",
       "    </tr>\n",
       "    <tr>\n",
       "      <th>6</th>\n",
       "      <td>1000988</td>\n",
       "      <td>16780</td>\n",
       "      <td>20583</td>\n",
       "      <td>35515</td>\n",
       "    </tr>\n",
       "  </tbody>\n",
       "</table>\n",
       "</div>"
      ],
      "text/plain": [
       "    Total_Sent  Sent_On_Date  Proceed_In_24_Hr  Total_Positive\n",
       "13     1205759         23032             26150           46140\n",
       "15     1276358         36282             36291           50231\n",
       "1       884056         25096             25096           29151\n",
       "4       963632         26981             27714           33120\n",
       "5       984208         20576             22745           34331\n",
       "2       908355         24299             25205           30449\n",
       "16     1312992         36634             37010           52199\n",
       "23     1525792             0             37873           66761\n",
       "3       936651         28296             27608           31700\n",
       "26     1669779         26146             27908           73855\n",
       "24     1608013         82221             41860           69304\n",
       "18     1386775         37704             37027           56354\n",
       "27     1685203         15424             18027           75385\n",
       "20     1446380         23822             26186           59504\n",
       "7      1027433         26445             21625           36932\n",
       "10     1120935         33213             31738           41277\n",
       "14     1240076         34317             29265           47898\n",
       "19      142258         37583             36353           58262\n",
       "6      1000988         16780             20583           35515"
      ]
     },
     "execution_count": 16,
     "metadata": {},
     "output_type": "execute_result"
    }
   ],
   "source": [
    "x_train"
   ]
  },
  {
   "cell_type": "code",
   "execution_count": 17,
   "metadata": {},
   "outputs": [],
   "source": [
    "model = LinearRegression()"
   ]
  },
  {
   "cell_type": "code",
   "execution_count": 18,
   "metadata": {},
   "outputs": [
    {
     "data": {
      "text/plain": [
       "LinearRegression(copy_X=True, fit_intercept=True, n_jobs=None, normalize=False)"
      ]
     },
     "execution_count": 18,
     "metadata": {},
     "output_type": "execute_result"
    }
   ],
   "source": [
    "model.fit(x_train,y_train)"
   ]
  },
  {
   "cell_type": "code",
   "execution_count": 19,
   "metadata": {},
   "outputs": [],
   "source": [
    "predicted = model.predict(x_test)"
   ]
  },
  {
   "cell_type": "code",
   "execution_count": 20,
   "metadata": {},
   "outputs": [
    {
     "data": {
      "text/plain": [
       "array([[1681.3540738 ],\n",
       "       [2282.12659467],\n",
       "       [1538.85648075],\n",
       "       [2120.19996839],\n",
       "       [1002.0000536 ],\n",
       "       [1695.98195636],\n",
       "       [2086.96229381],\n",
       "       [2431.38138173],\n",
       "       [1763.9250543 ]])"
      ]
     },
     "execution_count": 20,
     "metadata": {},
     "output_type": "execute_result"
    }
   ],
   "source": [
    "predicted"
   ]
  },
  {
   "cell_type": "code",
   "execution_count": 21,
   "metadata": {},
   "outputs": [
    {
     "data": {
      "text/html": [
       "<div>\n",
       "<style scoped>\n",
       "    .dataframe tbody tr th:only-of-type {\n",
       "        vertical-align: middle;\n",
       "    }\n",
       "\n",
       "    .dataframe tbody tr th {\n",
       "        vertical-align: top;\n",
       "    }\n",
       "\n",
       "    .dataframe thead th {\n",
       "        text-align: right;\n",
       "    }\n",
       "</style>\n",
       "<table border=\"1\" class=\"dataframe\">\n",
       "  <thead>\n",
       "    <tr style=\"text-align: right;\">\n",
       "      <th></th>\n",
       "      <th>New_Positive</th>\n",
       "    </tr>\n",
       "  </thead>\n",
       "  <tbody>\n",
       "    <tr>\n",
       "      <th>9</th>\n",
       "      <td>1564</td>\n",
       "    </tr>\n",
       "    <tr>\n",
       "      <th>25</th>\n",
       "      <td>2397</td>\n",
       "    </tr>\n",
       "    <tr>\n",
       "      <th>8</th>\n",
       "      <td>1212</td>\n",
       "    </tr>\n",
       "    <tr>\n",
       "      <th>21</th>\n",
       "      <td>2375</td>\n",
       "    </tr>\n",
       "    <tr>\n",
       "      <th>0</th>\n",
       "      <td>1083</td>\n",
       "    </tr>\n",
       "    <tr>\n",
       "      <th>12</th>\n",
       "      <td>1530</td>\n",
       "    </tr>\n",
       "    <tr>\n",
       "      <th>17</th>\n",
       "      <td>1983</td>\n",
       "    </tr>\n",
       "    <tr>\n",
       "      <th>22</th>\n",
       "      <td>2476</td>\n",
       "    </tr>\n",
       "    <tr>\n",
       "      <th>11</th>\n",
       "      <td>1608</td>\n",
       "    </tr>\n",
       "  </tbody>\n",
       "</table>\n",
       "</div>"
      ],
      "text/plain": [
       "    New_Positive\n",
       "9           1564\n",
       "25          2397\n",
       "8           1212\n",
       "21          2375\n",
       "0           1083\n",
       "12          1530\n",
       "17          1983\n",
       "22          2476\n",
       "11          1608"
      ]
     },
     "execution_count": 21,
     "metadata": {},
     "output_type": "execute_result"
    }
   ],
   "source": [
    "y_test"
   ]
  },
  {
   "cell_type": "code",
   "execution_count": 22,
   "metadata": {},
   "outputs": [
    {
     "data": {
      "text/plain": [
       "0.877446725746371"
      ]
     },
     "execution_count": 22,
     "metadata": {},
     "output_type": "execute_result"
    }
   ],
   "source": [
    "model.score(x_test,y_test)"
   ]
  },
  {
   "cell_type": "code",
   "execution_count": 23,
   "metadata": {},
   "outputs": [
    {
     "data": {
      "text/plain": [
       "0.8651328192020126"
      ]
     },
     "execution_count": 23,
     "metadata": {},
     "output_type": "execute_result"
    }
   ],
   "source": [
    "model.score(x_train,y_train)"
   ]
  },
  {
   "cell_type": "code",
   "execution_count": 24,
   "metadata": {},
   "outputs": [
    {
     "name": "stdout",
     "output_type": "stream",
     "text": [
      "root mean squared error :  173.18862432100164\n",
      "r2 score :  0.877446725746371\n"
     ]
    }
   ],
   "source": [
    "error = metrics.mean_squared_error(y_test,predicted)\n",
    "print('root mean squared error : ',np.sqrt(error))\n",
    "r2_Score = metrics.r2_score(y_test,predicted)\n",
    "print(\"r2 score : \",r2_Score)"
   ]
  },
  {
   "cell_type": "code",
   "execution_count": 25,
   "metadata": {},
   "outputs": [],
   "source": [
    "test = [1685203,15424,18027,75385]"
   ]
  },
  {
   "cell_type": "code",
   "execution_count": 26,
   "metadata": {},
   "outputs": [],
   "source": [
    "test_predicted = model.predict(np.array(test).reshape(1,-1))"
   ]
  },
  {
   "cell_type": "code",
   "execution_count": 27,
   "metadata": {},
   "outputs": [
    {
     "name": "stdout",
     "output_type": "stream",
     "text": [
      "new test positives on ['31/08/2020']\n",
      "actual :     1530 \n",
      "predicted :  1551\n"
     ]
    }
   ],
   "source": [
    "actual = 1530\n",
    "print('new test positives on {0}'.format(np.array(test_report['Date'].tail(1))))\n",
    "print('actual :    ',actual,'\\npredicted : ',int(test_predicted))"
   ]
  },
  {
   "cell_type": "markdown",
   "metadata": {},
   "source": [
    "## Using MLPRegressor "
   ]
  },
  {
   "cell_type": "code",
   "execution_count": 28,
   "metadata": {},
   "outputs": [],
   "source": [
    "from sklearn.neural_network import MLPRegressor"
   ]
  },
  {
   "cell_type": "code",
   "execution_count": 29,
   "metadata": {},
   "outputs": [],
   "source": [
    "model_mlp = MLPRegressor(solver='sgd')"
   ]
  },
  {
   "cell_type": "code",
   "execution_count": 30,
   "metadata": {},
   "outputs": [
    {
     "name": "stderr",
     "output_type": "stream",
     "text": [
      "C:\\Users\\Shoukkiya_Ashraf\\miniconda3\\lib\\site-packages\\sklearn\\neural_network\\_multilayer_perceptron.py:1342: DataConversionWarning: A column-vector y was passed when a 1d array was expected. Please change the shape of y to (n_samples, ), for example using ravel().\n",
      "  y = column_or_1d(y, warn=True)\n"
     ]
    },
    {
     "data": {
      "text/plain": [
       "MLPRegressor(activation='relu', alpha=0.0001, batch_size='auto', beta_1=0.9,\n",
       "             beta_2=0.999, early_stopping=False, epsilon=1e-08,\n",
       "             hidden_layer_sizes=(100,), learning_rate='constant',\n",
       "             learning_rate_init=0.001, max_fun=15000, max_iter=200,\n",
       "             momentum=0.9, n_iter_no_change=10, nesterovs_momentum=True,\n",
       "             power_t=0.5, random_state=None, shuffle=True, solver='sgd',\n",
       "             tol=0.0001, validation_fraction=0.1, verbose=False,\n",
       "             warm_start=False)"
      ]
     },
     "execution_count": 30,
     "metadata": {},
     "output_type": "execute_result"
    }
   ],
   "source": [
    "model_mlp.fit(x_train,y_train)"
   ]
  },
  {
   "cell_type": "code",
   "execution_count": 31,
   "metadata": {},
   "outputs": [],
   "source": [
    "predict_mlp = model_mlp.predict(x_test)"
   ]
  },
  {
   "cell_type": "code",
   "execution_count": 32,
   "metadata": {},
   "outputs": [
    {
     "name": "stdout",
     "output_type": "stream",
     "text": [
      "root mean squared error :  2.7224906007718973e+20\n",
      "r2 score :  -3.0284399865871847e+35\n"
     ]
    }
   ],
   "source": [
    "error = metrics.mean_squared_error(y_test,predict_mlp)\n",
    "print('root mean squared error : ',np.sqrt(error))\n",
    "r2_Score = metrics.r2_score(y_test,predict_mlp)\n",
    "print(\"r2 score : \",r2_Score)"
   ]
  },
  {
   "cell_type": "code",
   "execution_count": 33,
   "metadata": {},
   "outputs": [],
   "source": [
    "test_predicted = model_mlp.predict(np.array(test).reshape(1,-1))"
   ]
  },
  {
   "cell_type": "code",
   "execution_count": 34,
   "metadata": {},
   "outputs": [
    {
     "data": {
      "text/plain": [
       "array([2.7224906e+20])"
      ]
     },
     "execution_count": 34,
     "metadata": {},
     "output_type": "execute_result"
    }
   ],
   "source": [
    "test_predicted"
   ]
  },
  {
   "cell_type": "markdown",
   "metadata": {},
   "source": [
    "## Using  DecisionTreeRegressor "
   ]
  },
  {
   "cell_type": "code",
   "execution_count": 35,
   "metadata": {},
   "outputs": [],
   "source": [
    "from sklearn.tree import DecisionTreeRegressor"
   ]
  },
  {
   "cell_type": "code",
   "execution_count": 36,
   "metadata": {},
   "outputs": [],
   "source": [
    "model_tree = DecisionTreeRegressor()"
   ]
  },
  {
   "cell_type": "code",
   "execution_count": 37,
   "metadata": {},
   "outputs": [
    {
     "data": {
      "text/plain": [
       "DecisionTreeRegressor(ccp_alpha=0.0, criterion='mse', max_depth=None,\n",
       "                      max_features=None, max_leaf_nodes=None,\n",
       "                      min_impurity_decrease=0.0, min_impurity_split=None,\n",
       "                      min_samples_leaf=1, min_samples_split=2,\n",
       "                      min_weight_fraction_leaf=0.0, presort='deprecated',\n",
       "                      random_state=None, splitter='best')"
      ]
     },
     "execution_count": 37,
     "metadata": {},
     "output_type": "execute_result"
    }
   ],
   "source": [
    "model_tree.fit(x_train,y_train)"
   ]
  },
  {
   "cell_type": "code",
   "execution_count": 38,
   "metadata": {},
   "outputs": [],
   "source": [
    "predict_tree = model_tree.predict(x_test)"
   ]
  },
  {
   "cell_type": "code",
   "execution_count": 39,
   "metadata": {},
   "outputs": [
    {
     "name": "stdout",
     "output_type": "stream",
     "text": [
      "root mean squared error :  163.16590057702348\n",
      "r2 score :  0.8912210159387872\n"
     ]
    }
   ],
   "source": [
    "error = metrics.mean_squared_error(y_test,predict_tree)\n",
    "print('root mean squared error : ',np.sqrt(error))\n",
    "r2_Score = metrics.r2_score(y_test,predict_tree)\n",
    "print(\"r2 score : \",r2_Score)"
   ]
  },
  {
   "cell_type": "code",
   "execution_count": 40,
   "metadata": {},
   "outputs": [
    {
     "data": {
      "text/plain": [
       "0.8912210159387872"
      ]
     },
     "execution_count": 40,
     "metadata": {},
     "output_type": "execute_result"
    }
   ],
   "source": [
    "model_tree.score(x_test,y_test)"
   ]
  },
  {
   "cell_type": "markdown",
   "metadata": {},
   "source": [
    "# KNeighborsRegressor"
   ]
  },
  {
   "cell_type": "code",
   "execution_count": 41,
   "metadata": {},
   "outputs": [],
   "source": [
    "from sklearn.neighbors import KNeighborsRegressor"
   ]
  },
  {
   "cell_type": "code",
   "execution_count": 42,
   "metadata": {},
   "outputs": [],
   "source": [
    "model_knn = KNeighborsRegressor()"
   ]
  },
  {
   "cell_type": "code",
   "execution_count": 43,
   "metadata": {},
   "outputs": [
    {
     "data": {
      "text/plain": [
       "KNeighborsRegressor(algorithm='auto', leaf_size=30, metric='minkowski',\n",
       "                    metric_params=None, n_jobs=None, n_neighbors=5, p=2,\n",
       "                    weights='uniform')"
      ]
     },
     "execution_count": 43,
     "metadata": {},
     "output_type": "execute_result"
    }
   ],
   "source": [
    "model_knn.fit(x_train,y_train)"
   ]
  },
  {
   "cell_type": "code",
   "execution_count": 44,
   "metadata": {},
   "outputs": [],
   "source": [
    "predict_knn = model.predict(x_test)\n",
    "\n"
   ]
  },
  {
   "cell_type": "code",
   "execution_count": 45,
   "metadata": {},
   "outputs": [
    {
     "name": "stdout",
     "output_type": "stream",
     "text": [
      "root mean squared error :  173.18862432100164\n",
      "r2 score :  0.877446725746371\n"
     ]
    }
   ],
   "source": [
    "error = metrics.mean_squared_error(y_test,predict_knn)\n",
    "print('root mean squared error : ',np.sqrt(error))\n",
    "r2_Score = metrics.r2_score(y_test,predict_knn)\n",
    "print(\"r2 score : \",r2_Score)"
   ]
  },
  {
   "cell_type": "code",
   "execution_count": 46,
   "metadata": {},
   "outputs": [
    {
     "data": {
      "text/plain": [
       "0.7101109807214807"
      ]
     },
     "execution_count": 46,
     "metadata": {},
     "output_type": "execute_result"
    }
   ],
   "source": [
    "model_knn.score(x_test,y_test)"
   ]
  },
  {
   "cell_type": "code",
   "execution_count": 47,
   "metadata": {},
   "outputs": [
    {
     "name": "stdout",
     "output_type": "stream",
     "text": [
      "new test positives on ['31/08/2020']\n",
      "actual :     1530 \n",
      "predicted :  1975\n"
     ]
    }
   ],
   "source": [
    "test_predicted = model_knn.predict(np.array(test).reshape(1,-1))\n",
    "\n",
    "actual = 1530\n",
    "print('new test positives on {0}'.format(np.array(test_report['Date'].tail(1))))\n",
    "print('actual :    ',actual,'\\npredicted : ',int(test_predicted))"
   ]
  },
  {
   "cell_type": "code",
   "execution_count": 48,
   "metadata": {},
   "outputs": [
    {
     "name": "stdout",
     "output_type": "stream",
     "text": [
      "prediction by Linearregression\n",
      "new test positives on ['31/08/2020']\n",
      "actual :     1530 \n",
      "predicted :  1551\n",
      "prediction by KNNregressor\n",
      "new test positives on ['31/08/2020']\n",
      "actual :     1530 \n",
      "predicted :  1975\n"
     ]
    }
   ],
   "source": [
    "print('prediction by Linearregression')\n",
    "test_predicted = model.predict(np.array(test).reshape(1,-1))\n",
    "\n",
    "actual = 1530\n",
    "print('new test positives on {0}'.format(np.array(test_report['Date'].tail(1))))\n",
    "print('actual :    ',actual,'\\npredicted : ',int(test_predicted))\n",
    "\n",
    "print('prediction by KNNregressor')\n",
    "test_predicted = model_knn.predict(np.array(test).reshape(1,-1))\n",
    "\n",
    "actual = 1530\n",
    "print('new test positives on {0}'.format(np.array(test_report['Date'].tail(1))))\n",
    "print('actual :    ',actual,'\\npredicted : ',int(test_predicted))"
   ]
  },
  {
   "cell_type": "markdown",
   "metadata": {},
   "source": [
    "# Trying with xgboost "
   ]
  },
  {
   "cell_type": "code",
   "execution_count": 49,
   "metadata": {},
   "outputs": [],
   "source": [
    "import xgboost as xgb"
   ]
  },
  {
   "cell_type": "code",
   "execution_count": 50,
   "metadata": {},
   "outputs": [],
   "source": [
    "model_xgb = xgb.XGBRFRegressor()"
   ]
  },
  {
   "cell_type": "code",
   "execution_count": 51,
   "metadata": {},
   "outputs": [
    {
     "name": "stdout",
     "output_type": "stream",
     "text": [
      "[17:34:44] WARNING: src/objective/regression_obj.cu:152: reg:linear is now deprecated in favor of reg:squarederror.\n"
     ]
    },
    {
     "data": {
      "text/plain": [
       "XGBRFRegressor(base_score=0.5, colsample_bylevel=1, colsample_bynode=0.8,\n",
       "               colsample_bytree=1, gamma=0, learning_rate=1, max_delta_step=0,\n",
       "               max_depth=3, min_child_weight=1, missing=None, n_estimators=100,\n",
       "               n_jobs=1, nthread=None, objective='reg:linear', random_state=0,\n",
       "               reg_alpha=0, reg_lambda=1, scale_pos_weight=1, seed=None,\n",
       "               silent=None, subsample=0.8, verbosity=1)"
      ]
     },
     "execution_count": 51,
     "metadata": {},
     "output_type": "execute_result"
    }
   ],
   "source": [
    "model_xgb.fit(x_train,y_train)"
   ]
  },
  {
   "cell_type": "code",
   "execution_count": 52,
   "metadata": {},
   "outputs": [],
   "source": [
    "predict_xgb = model_xgb.predict(x_test)"
   ]
  },
  {
   "cell_type": "code",
   "execution_count": 53,
   "metadata": {},
   "outputs": [
    {
     "data": {
      "text/plain": [
       "array([1603.4891, 1603.4891, 1603.4891, 1603.4891, 1580.5844, 1603.4891,\n",
       "       1603.4891, 1603.4891, 1603.4891], dtype=float32)"
      ]
     },
     "execution_count": 53,
     "metadata": {},
     "output_type": "execute_result"
    }
   ],
   "source": [
    "predict_xgb"
   ]
  },
  {
   "cell_type": "code",
   "execution_count": 54,
   "metadata": {},
   "outputs": [
    {
     "data": {
      "text/html": [
       "<div>\n",
       "<style scoped>\n",
       "    .dataframe tbody tr th:only-of-type {\n",
       "        vertical-align: middle;\n",
       "    }\n",
       "\n",
       "    .dataframe tbody tr th {\n",
       "        vertical-align: top;\n",
       "    }\n",
       "\n",
       "    .dataframe thead th {\n",
       "        text-align: right;\n",
       "    }\n",
       "</style>\n",
       "<table border=\"1\" class=\"dataframe\">\n",
       "  <thead>\n",
       "    <tr style=\"text-align: right;\">\n",
       "      <th></th>\n",
       "      <th>New_Positive</th>\n",
       "    </tr>\n",
       "  </thead>\n",
       "  <tbody>\n",
       "    <tr>\n",
       "      <th>9</th>\n",
       "      <td>1564</td>\n",
       "    </tr>\n",
       "    <tr>\n",
       "      <th>25</th>\n",
       "      <td>2397</td>\n",
       "    </tr>\n",
       "    <tr>\n",
       "      <th>8</th>\n",
       "      <td>1212</td>\n",
       "    </tr>\n",
       "    <tr>\n",
       "      <th>21</th>\n",
       "      <td>2375</td>\n",
       "    </tr>\n",
       "    <tr>\n",
       "      <th>0</th>\n",
       "      <td>1083</td>\n",
       "    </tr>\n",
       "    <tr>\n",
       "      <th>12</th>\n",
       "      <td>1530</td>\n",
       "    </tr>\n",
       "    <tr>\n",
       "      <th>17</th>\n",
       "      <td>1983</td>\n",
       "    </tr>\n",
       "    <tr>\n",
       "      <th>22</th>\n",
       "      <td>2476</td>\n",
       "    </tr>\n",
       "    <tr>\n",
       "      <th>11</th>\n",
       "      <td>1608</td>\n",
       "    </tr>\n",
       "  </tbody>\n",
       "</table>\n",
       "</div>"
      ],
      "text/plain": [
       "    New_Positive\n",
       "9           1564\n",
       "25          2397\n",
       "8           1212\n",
       "21          2375\n",
       "0           1083\n",
       "12          1530\n",
       "17          1983\n",
       "22          2476\n",
       "11          1608"
      ]
     },
     "execution_count": 54,
     "metadata": {},
     "output_type": "execute_result"
    }
   ],
   "source": [
    "y_test"
   ]
  },
  {
   "cell_type": "code",
   "execution_count": 55,
   "metadata": {},
   "outputs": [
    {
     "name": "stdout",
     "output_type": "stream",
     "text": [
      "mean squared error :  282002.9479847766\n",
      "r2 score :  -0.15223176044397224\n"
     ]
    }
   ],
   "source": [
    "error = metrics.mean_squared_error(y_test,predict_xgb)\n",
    "print('mean squared error : ',error)\n",
    "r2_Score = metrics.r2_score(y_test,predict_xgb)\n",
    "print(\"r2 score : \",r2_Score)"
   ]
  },
  {
   "cell_type": "code",
   "execution_count": 56,
   "metadata": {},
   "outputs": [
    {
     "name": "stdout",
     "output_type": "stream",
     "text": [
      "prediction by Linearregression\n",
      "new test positives on ['31/08/2020']\n",
      "actual :     1530 \n",
      "predicted :  1551\n",
      "prediction by KNNregressor\n",
      "new test positives on ['31/08/2020']\n",
      "actual :     1530 \n",
      "predicted :  1975\n"
     ]
    }
   ],
   "source": [
    "#current best \n",
    "print('prediction by Linearregression')\n",
    "test_predicted = model.predict(np.array(test).reshape(1,-1))\n",
    "\n",
    "actual = 1530\n",
    "print('new test positives on {0}'.format(np.array(test_report['Date'].tail(1))))\n",
    "print('actual :    ',actual,'\\npredicted : ',int(test_predicted))\n",
    "\n",
    "print('prediction by KNNregressor')\n",
    "test_predicted = model_knn.predict(np.array(test).reshape(1,-1))\n",
    "\n",
    "actual = 1530\n",
    "print('new test positives on {0}'.format(np.array(test_report['Date'].tail(1))))\n",
    "print('actual :    ',actual,'\\npredicted : ',int(test_predicted))"
   ]
  },
  {
   "cell_type": "code",
   "execution_count": 57,
   "metadata": {},
   "outputs": [],
   "source": [
    "import matplotlib.pyplot as plt"
   ]
  },
  {
   "cell_type": "code",
   "execution_count": 58,
   "metadata": {},
   "outputs": [
    {
     "data": {
      "image/png": "[encoded data removed]",
      "text/plain": [
       "<Figure size 2160x1080 with 4 Axes>"
      ]
     },
     "metadata": {
      "needs_background": "light"
     },
     "output_type": "display_data"
    }
   ],
   "source": [
    "fig, axes = plt.subplots(1,len(x_train.columns.values),sharey=True,constrained_layout=True,figsize=(30,15))\n",
    "\n",
    "for i,e in enumerate(x_train.columns):\n",
    "  model.fit(x_train[e].values[:,np.newaxis], y_train.values)\n",
    "  axes[i].set_title(\"Best fit line\")\n",
    "  axes[i].set_xlabel(str(e))\n",
    "  axes[i].set_ylabel('new positive')\n",
    "  axes[i].scatter(x_train[e].values[:,np.newaxis], y_train,color='g')\n",
    "  axes[i].plot(x_train[e].values[:,np.newaxis],model.predict(x_train[e].values[:,np.newaxis]),color='k')"
   ]
  },
  {
   "cell_type": "code",
   "execution_count": 134,
   "metadata": {},
   "outputs": [
    {
     "data": {
      "text/plain": [
       "1685203"
      ]
     },
     "execution_count": 134,
     "metadata": {},
     "output_type": "execute_result"
    }
   ],
   "source": [
    "total_snt = int(test_report['Total_Sent'].tail(1).values)\n",
    "total_snt"
   ]
  },
  {
   "cell_type": "code",
   "execution_count": 135,
   "metadata": {},
   "outputs": [],
   "source": [
    "#calculating total processed\n",
    "Proceed_In_24_Hr = test_report['Proceed_In_24_Hr'].values\n"
   ]
  },
  {
   "cell_type": "code",
   "execution_count": 136,
   "metadata": {},
   "outputs": [
    {
     "name": "stdout",
     "output_type": "stream",
     "text": [
      "total processed until ['31/08/2020'] : 844005 \n",
      "total_unprocessed until ['31/08/2020'] : 841198 \n",
      "total_positive until ['31/08/2020'] : 75385 \n",
      "total_negtive until ['31/08/2020'] : 768620\n"
     ]
    }
   ],
   "source": [
    "total_processed = 0\n",
    "for i in Proceed_In_24_Hr:\n",
    "    total_processed = total_processed + i\n",
    "unprocessed = total_snt-total_processed\n",
    "total_postive = int(test_report['Total_Positive'].tail(1).values)\n",
    "total_negative = total_processed - total_postive\n",
    "print('total processed until {0} :'.format(test_report['Date'].tail(1).values),total_processed,'\\ntotal_unprocessed until {0} :'.format(test_report['Date'].tail(1).values),unprocessed,'\\ntotal_positive until {0} :'.format(test_report['Date'].tail(1).values),total_postive,'\\ntotal_negtive until {0} :'.format(test_report['Date'].tail(1).values),total_negative)"
   ]
  },
  {
   "cell_type": "code",
   "execution_count": 137,
   "metadata": {},
   "outputs": [
    {
     "data": {
      "text/plain": [
       "[49.91671626504344, 4.47334831471342, 45.60993542024314]"
      ]
     },
     "execution_count": 137,
     "metadata": {},
     "output_type": "execute_result"
    }
   ],
   "source": [
    "#calculating the percentages :\n",
    "total = unprocessed + total_postive + total_negative\n",
    "unprocessed_perc = (unprocessed/total)*100\n",
    "positive_perc = (total_postive/total)*100\n",
    "negtive_per = (total_negative/total)*100\n",
    "perc = [unprocessed_perc,positive_perc,negtive_per]\n",
    "perc"
   ]
  },
  {
   "cell_type": "code",
   "execution_count": 138,
   "metadata": {},
   "outputs": [
    {
     "data": {
      "image/png": "[encoded data removed]",
      "text/plain": [
       "<Figure size 1440x1080 with 1 Axes>"
      ]
     },
     "metadata": {},
     "output_type": "display_data"
    }
   ],
   "source": [
    "\n",
    "fig_pie , ax_pie = plt.subplots(figsize=(20,15))\n",
    "\n",
    "#setting the theme\n",
    "plt.rcParams['font.sans-serif'] = 'Arial'\n",
    "plt.rcParams['font.family'] = 'sans-serif'\n",
    "plt.rcParams['text.color'] = '#909090'\n",
    "plt.rcParams['xtick.color'] = '#909090'\n",
    "plt.rcParams['ytick.color'] = '#909090'\n",
    "plt.rcParams['axes.labelcolor'] = '#909090'\n",
    "plt.rcParams['font.size'] = 24\n",
    "\n",
    "#setting label names and percentages\n",
    "ax_pie.set_title('\\nVisualizing test reports processed v/s unprocessed\\n\\n',fontsize='xx-large')\n",
    "labels = ['\\n\\n\\n\\n\\n    Unprocessed','Processed +ve','Processed -ve']\n",
    "explode=(0.05,0,0)\n",
    "ax_pie.pie(perc,explode=explode,labels=labels, autopct='%1.0f%%', \n",
    "       shadow=False,colors = ['#5ADAE0','#367DB5','#1410B0'], startangle=0,   \n",
    "       pctdistance=1.2,labeldistance=1.4)\n",
    "ax_pie.axis('equal')\n",
    "ax_pie.legend(frameon=False, bbox_to_anchor=(1.5,0.8))\n",
    "fig_pie.savefig('reports/processed_unprocessed.png')"
   ]
  },
  {
   "cell_type": "code",
   "execution_count": 139,
   "metadata": {},
   "outputs": [
    {
     "data": {
      "text/plain": [
       "0"
      ]
     },
     "execution_count": 139,
     "metadata": {},
     "output_type": "execute_result"
    }
   ],
   "source": [
    "total_processed - (total_negative+ total_postive)"
   ]
  },
  {
   "cell_type": "code",
   "execution_count": 140,
   "metadata": {},
   "outputs": [
    {
     "name": "stdout",
     "output_type": "stream",
     "text": [
      "75385 768620\n"
     ]
    },
    {
     "data": {
      "text/plain": [
       "[8.931819124294288, 91.06818087570572]"
      ]
     },
     "execution_count": 140,
     "metadata": {},
     "output_type": "execute_result"
    }
   ],
   "source": [
    "total_postive = int(test_report['Total_Positive'].tail(1).values)\n",
    "total_negative = total_processed - total_postive\n",
    "print(total_postive,total_negative)\n",
    "perc_processed = [ (total_postive/total_processed)*100 , (total_negative/total_processed)*100]\n",
    "perc_processed"
   ]
  },
  {
   "cell_type": "code",
   "execution_count": 141,
   "metadata": {},
   "outputs": [
    {
     "data": {
      "image/png": "[encoded data removed]",
      "text/plain": [
       "<Figure size 1440x1080 with 1 Axes>"
      ]
     },
     "metadata": {},
     "output_type": "display_data"
    }
   ],
   "source": [
    "fig_pie2 , ax_pie = plt.subplots(figsize=(20,15))\n",
    "\n",
    "#setting the theme\n",
    "plt.rcParams['font.sans-serif'] = 'Arial'\n",
    "plt.rcParams['font.family'] = 'sans-serif'\n",
    "plt.rcParams['text.color'] = '#909090'\n",
    "plt.rcParams['xtick.color'] = '#909090'\n",
    "plt.rcParams['ytick.color'] = '#909090'\n",
    "plt.rcParams['axes.labelcolor'] = '#909090'\n",
    "plt.rcParams['font.size'] = 24\n",
    "\n",
    "#setting label names and percentages\n",
    "ax_pie.set_title('\\nVisualizing test reports positive v/s negtive\\n\\n',fontsize='xx-large')\n",
    "labels = ['Processed +ve','Processed -ve']\n",
    "explode=(0.1,0)\n",
    "ax_pie.pie(perc_processed,explode=explode,labels=labels, autopct='%1.0f%%', \n",
    "       shadow=False,colors = ['red','#367DB5'], startangle=0,   \n",
    "       pctdistance=1.2,labeldistance=1.4)\n",
    "ax_pie.axis('equal')\n",
    "ax_pie.legend(frameon=False, bbox_to_anchor=(1.5,0.8),loc='lower right',fontsize='xx-large')\n",
    "fig_pie2.savefig('reports/positive_negtive.png')"
   ]
  },
  {
   "cell_type": "code",
   "execution_count": null,
   "metadata": {},
   "outputs": [],
   "source": []
  }
 ],
 "metadata": {
  "kernelspec": {
   "display_name": "Python 3",
   "language": "python",
   "name": "python3"
  },
  "language_info": {
   "codemirror_mode": {
    "name": "ipython",
    "version": 3
   },
   "file_extension": ".py",
   "mimetype": "text/x-python",
   "name": "python",
   "nbconvert_exporter": "python",
   "pygments_lexer": "ipython3",
   "version": "3.7.6"
  }
 },
 "nbformat": 4,
 "nbformat_minor": 4
}
